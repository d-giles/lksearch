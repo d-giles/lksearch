{
 "cells": [
  {
   "cell_type": "markdown",
   "id": "8362de11",
   "metadata": {},
   "source": [
    "# How to Search for Catalog Data and IDs with lksearch"
   ]
  },
  {
   "cell_type": "markdown",
   "id": "7139b45e-0981-48ce-a7c8-f57c27eacddb",
   "metadata": {},
   "source": [
    "`lksearch` enables you to search through the catalogs associated with each mission, and Gaia. You can query:\n",
    "\n",
    "- The Kepler Input Catalog\n",
    "- The Ecliptic Plane Input Catalog\n",
    "- The TESS Input Catalog\n",
    "- Gaia EDR3.\n",
    "\n",
    "`lksearch` has three main pieces of functionality - two ways of retrieving data from a catalog, and one for looking up catalog IDs.\n",
    "\n",
    "These are:\n",
    "   \n",
    "- **A position cone-search** that searches for sources within a given radius from some position using `QueryPosition`\n",
    "- **An exact ID lookup**, retrieving catalog rows where the catalog ID matches the search ID using `QueryID`\n",
    "- **A way of looking up catalog IDs** given a common name or another catalog ID with `IDLookup`. \n",
    "\n",
    "`lksearch` also has the ability to crossmatch targets when doing an exact ID lookup between the TIC, KIC, and Gaia EDR3 catalogs because this crossmatch already exists in the TIC.  \n",
    "\n",
    "`lksearch` will propagate the proper motion for you, and can optionally return a SkyCoordinate either directly from the Search or by using the `to_skycoord` property from the results table.  \n",
    "\n",
    "Below are examples of each query."
   ]
  },
  {
   "cell_type": "markdown",
   "id": "b35a1450-2a06-4413-8796-e13fba1e74a8",
   "metadata": {},
   "source": [
    "## Searching by Position"
   ]
  },
  {
   "cell_type": "code",
   "execution_count": 1,
   "id": "9f07ac77",
   "metadata": {},
   "outputs": [],
   "source": [
    "from lksearch import CatalogSearch\n",
    "from astropy.coordinates import SkyCoord\n",
    "from astropy.time import Time\n",
    "import astropy.units as u"
   ]
  },
  {
   "cell_type": "markdown",
   "id": "889a4743-c6ee-4cea-98ad-012aeaec9975",
   "metadata": {},
   "source": [
    "Before we search we need a sky position to search. `lksearch` catalog queries use `astropy`'s `SkyCoord` as an input. We can either make one ourselves with an RA and Dec, or we can use the built in `from_name` method."
   ]
  },
  {
   "cell_type": "code",
   "execution_count": 2,
   "id": "f98f6097-1f3e-433b-8337-617978b86b9b",
   "metadata": {},
   "outputs": [],
   "source": [
    "c = SkyCoord.from_name(\"Kepler-10\")"
   ]
  },
  {
   "cell_type": "markdown",
   "id": "6a752678-93a8-4848-9365-ff41e54ae094",
   "metadata": {},
   "source": [
    "Now we have a position we want to query, we can query each catalog. For example, here is the query for KIC"
   ]
  },
  {
   "cell_type": "code",
   "execution_count": 3,
   "id": "fd0abec3-8b85-4812-aafb-ca13a94d306c",
   "metadata": {},
   "outputs": [
    {
     "data": {
      "text/html": [
       "<div><i>CatalogResult length=5</i>\n",
       "<table id=\"table4697090112\" class=\"table-striped table-bordered table-condensed\">\n",
       "<thead><tr><th>ID</th><th>RA</th><th>Dec</th><th>Separation</th><th>Relative_Flux</th><th>pmRA</th><th>pmDE</th><th>Kepmag</th><th>Teff</th><th>logg</th></tr></thead>\n",
       "<thead><tr><th></th><th></th><th></th><th></th><th></th><th>mas / yr</th><th>mas / yr</th><th>mag</th><th>K</th><th>log(cm.s**-2)</th></tr></thead>\n",
       "<thead><tr><th>str12</th><th>float64</th><th>float64</th><th>float64</th><th>float32</th><th>float64</th><th>float64</th><th>float32</th><th>int32</th><th>float32</th></tr></thead>\n",
       "<tr><td>KIC 11904151</td><td>285.67938</td><td>50.241299</td><td>0.0</td><td>1.0</td><td>0.0</td><td>0.0</td><td>10.961</td><td>5491</td><td>4.467</td></tr>\n",
       "<tr><td>KIC 11904160</td><td>285.68076</td><td>50.242493</td><td>5.345213505938071</td><td>0.0066435444</td><td>0.0</td><td>0.0</td><td>16.405</td><td>--</td><td>--</td></tr>\n",
       "<tr><td>KIC 11904158</td><td>285.68042</td><td>50.245716</td><td>16.08046158371309</td><td>0.0054200143</td><td>0.0</td><td>0.0</td><td>16.626</td><td>--</td><td>--</td></tr>\n",
       "<tr><td>KIC 11904156</td><td>285.68015</td><td>50.250011</td><td>31.41325726092946</td><td>0.0026717787</td><td>-4.0</td><td>0.0</td><td>17.394</td><td>--</td><td>--</td></tr>\n",
       "<tr><td>KIC 11904148</td><td>285.67722</td><td>50.25901</td><td>63.95318581678289</td><td>0.017155372</td><td>0.0</td><td>0.0</td><td>15.375</td><td>5286</td><td>4.640</td></tr>\n",
       "</table></div>"
      ],
      "text/plain": [
       "<CatalogResult length=5>\n",
       "     ID          RA       Dec        Separation    Relative_Flux   pmRA     pmDE    Kepmag  Teff      logg    \n",
       "                                                                 mas / yr mas / yr   mag     K   log(cm.s**-2)\n",
       "   str12      float64   float64       float64         float32    float64  float64  float32 int32    float32   \n",
       "------------ --------- --------- ----------------- ------------- -------- -------- ------- ----- -------------\n",
       "KIC 11904151 285.67938 50.241299               0.0           1.0      0.0      0.0  10.961  5491         4.467\n",
       "KIC 11904160 285.68076 50.242493 5.345213505938071  0.0066435444      0.0      0.0  16.405    --            --\n",
       "KIC 11904158 285.68042 50.245716 16.08046158371309  0.0054200143      0.0      0.0  16.626    --            --\n",
       "KIC 11904156 285.68015 50.250011 31.41325726092946  0.0026717787     -4.0      0.0  17.394    --            --\n",
       "KIC 11904148 285.67722  50.25901 63.95318581678289   0.017155372      0.0      0.0  15.375  5286         4.640"
      ]
     },
     "execution_count": 3,
     "metadata": {},
     "output_type": "execute_result"
    }
   ],
   "source": [
    "CatalogSearch.QueryPosition(c, catalog=\"kic\", max_results=5)"
   ]
  },
  {
   "cell_type": "markdown",
   "id": "434ed1c5-979f-4c39-b866-a2c4b961d429",
   "metadata": {},
   "source": [
    "By default, the catalog will query with an epoch of that is the default for the catalog. You can set the `epoch` keyword to a date in order to get `RA` and `Dec` at that date, given the proper motion."
   ]
  },
  {
   "cell_type": "code",
   "execution_count": 4,
   "id": "e3499cc9-33b4-4d21-b734-ed6398539442",
   "metadata": {},
   "outputs": [
    {
     "data": {
      "text/html": [
       "<div><i>CatalogResult length=5</i>\n",
       "<table id=\"table4697090016\" class=\"table-striped table-bordered table-condensed\">\n",
       "<thead><tr><th>ID</th><th>RA</th><th>Dec</th><th>Separation</th><th>Relative_Flux</th><th>pmRA</th><th>pmDE</th><th>Kepmag</th><th>Teff</th><th>logg</th></tr></thead>\n",
       "<thead><tr><th></th><th></th><th></th><th></th><th></th><th>mas / yr</th><th>mas / yr</th><th>mag</th><th>K</th><th>log(cm.s**-2)</th></tr></thead>\n",
       "<thead><tr><th>str12</th><th>float64</th><th>float64</th><th>float64</th><th>float32</th><th>float64</th><th>float64</th><th>float32</th><th>int32</th><th>float32</th></tr></thead>\n",
       "<tr><td>KIC 11904151</td><td>285.67938</td><td>50.241299</td><td>0.0</td><td>1.0</td><td>0.0</td><td>0.0</td><td>10.961</td><td>5491</td><td>4.467</td></tr>\n",
       "<tr><td>KIC 11904160</td><td>285.68076</td><td>50.242493</td><td>5.345213505938071</td><td>0.0066435444</td><td>0.0</td><td>0.0</td><td>16.405</td><td>--</td><td>--</td></tr>\n",
       "<tr><td>KIC 11904158</td><td>285.68042</td><td>50.245716</td><td>16.08046158371309</td><td>0.0054200143</td><td>0.0</td><td>0.0</td><td>16.626</td><td>--</td><td>--</td></tr>\n",
       "<tr><td>KIC 11904156</td><td>285.6801067536893</td><td>50.25001099999198</td><td>31.407796176187023</td><td>0.0026717787</td><td>-4.0</td><td>0.0</td><td>17.394</td><td>--</td><td>--</td></tr>\n",
       "<tr><td>KIC 11904148</td><td>285.67722</td><td>50.25901000000001</td><td>63.95318581678289</td><td>0.017155372</td><td>0.0</td><td>0.0</td><td>15.375</td><td>5286</td><td>4.640</td></tr>\n",
       "</table></div>"
      ],
      "text/plain": [
       "<CatalogResult length=5>\n",
       "     ID              RA               Dec            Separation     Relative_Flux   pmRA     pmDE    Kepmag  Teff      logg    \n",
       "                                                                                  mas / yr mas / yr   mag     K   log(cm.s**-2)\n",
       "   str12          float64           float64           float64          float32    float64  float64  float32 int32    float32   \n",
       "------------ ----------------- ----------------- ------------------ ------------- -------- -------- ------- ----- -------------\n",
       "KIC 11904151         285.67938         50.241299                0.0           1.0      0.0      0.0  10.961  5491         4.467\n",
       "KIC 11904160         285.68076         50.242493  5.345213505938071  0.0066435444      0.0      0.0  16.405    --            --\n",
       "KIC 11904158         285.68042         50.245716  16.08046158371309  0.0054200143      0.0      0.0  16.626    --            --\n",
       "KIC 11904156 285.6801067536893 50.25001099999198 31.407796176187023  0.0026717787     -4.0      0.0  17.394    --            --\n",
       "KIC 11904148         285.67722 50.25901000000001  63.95318581678289   0.017155372      0.0      0.0  15.375  5286         4.640"
      ]
     },
     "execution_count": 4,
     "metadata": {},
     "output_type": "execute_result"
    }
   ],
   "source": [
    "CatalogSearch.QueryPosition(c, epoch=Time.now(), catalog=\"kic\", max_results=5)"
   ]
  },
  {
   "cell_type": "markdown",
   "id": "0570848e-1281-4dcc-bc97-aabdef0584a5",
   "metadata": {},
   "source": [
    "You can also pass a radius for your query. If you query each catalog directly you can set your query radius in units of pixels, otherwise you can use arcseconds."
   ]
  },
  {
   "cell_type": "code",
   "execution_count": 5,
   "id": "37e4bc44-5a6c-4dbd-a4e0-31f0a8c98184",
   "metadata": {},
   "outputs": [
    {
     "data": {
      "text/html": [
       "<div><i>CatalogResult length=5</i>\n",
       "<table id=\"table5218113472\" class=\"table-striped table-bordered table-condensed\">\n",
       "<thead><tr><th>ID</th><th>RA</th><th>Dec</th><th>Separation</th><th>Relative_Flux</th><th>pmRA</th><th>pmDE</th><th>Kepmag</th><th>Teff</th><th>logg</th></tr></thead>\n",
       "<thead><tr><th></th><th></th><th></th><th></th><th></th><th>mas / yr</th><th>mas / yr</th><th>mag</th><th>K</th><th>log(cm.s**-2)</th></tr></thead>\n",
       "<thead><tr><th>str12</th><th>float64</th><th>float64</th><th>float64</th><th>float32</th><th>float64</th><th>float64</th><th>float32</th><th>int32</th><th>float32</th></tr></thead>\n",
       "<tr><td>KIC 11904151</td><td>285.67938</td><td>50.241299</td><td>0.0</td><td>1.0</td><td>0.0</td><td>0.0</td><td>10.961</td><td>5491</td><td>4.467</td></tr>\n",
       "<tr><td>KIC 11904160</td><td>285.68076</td><td>50.242493</td><td>5.345213505938071</td><td>0.0066435444</td><td>0.0</td><td>0.0</td><td>16.405</td><td>--</td><td>--</td></tr>\n",
       "<tr><td>KIC 11904165</td><td>285.68317</td><td>50.241207</td><td>8.732390194683243</td><td>0.002659501</td><td>0.0</td><td>0.0</td><td>17.399</td><td>--</td><td>--</td></tr>\n",
       "<tr><td>KIC 11904162</td><td>285.68124</td><td>50.24391599999999</td><td>10.348792766445591</td><td>0.0015761611</td><td>0.0</td><td>0.0</td><td>17.967</td><td>--</td><td>--</td></tr>\n",
       "<tr><td>KIC 11904158</td><td>285.68042</td><td>50.245716</td><td>16.08046158371309</td><td>0.0054200143</td><td>0.0</td><td>0.0</td><td>16.626</td><td>--</td><td>--</td></tr>\n",
       "</table></div>"
      ],
      "text/plain": [
       "<CatalogResult length=5>\n",
       "     ID          RA           Dec            Separation     Relative_Flux   pmRA     pmDE    Kepmag  Teff      logg    \n",
       "                                                                          mas / yr mas / yr   mag     K   log(cm.s**-2)\n",
       "   str12      float64       float64           float64          float32    float64  float64  float32 int32    float32   \n",
       "------------ --------- ----------------- ------------------ ------------- -------- -------- ------- ----- -------------\n",
       "KIC 11904151 285.67938         50.241299                0.0           1.0      0.0      0.0  10.961  5491         4.467\n",
       "KIC 11904160 285.68076         50.242493  5.345213505938071  0.0066435444      0.0      0.0  16.405    --            --\n",
       "KIC 11904165 285.68317         50.241207  8.732390194683243   0.002659501      0.0      0.0  17.399    --            --\n",
       "KIC 11904162 285.68124 50.24391599999999 10.348792766445591  0.0015761611      0.0      0.0  17.967    --            --\n",
       "KIC 11904158 285.68042         50.245716  16.08046158371309  0.0054200143      0.0      0.0  16.626    --            --"
      ]
     },
     "execution_count": 5,
     "metadata": {},
     "output_type": "execute_result"
    }
   ],
   "source": [
    "CatalogSearch.QueryPosition(c, epoch=Time.now(), radius=30 * u.arcsec, catalog=\"kic\")"
   ]
  },
  {
   "cell_type": "markdown",
   "id": "b1b89482-e501-4f55-b307-888074e1b7cd",
   "metadata": {},
   "source": [
    "You can query TIC"
   ]
  },
  {
   "cell_type": "code",
   "execution_count": 6,
   "id": "631f9a71-b0f2-4cb7-9ef3-565155c0fe16",
   "metadata": {},
   "outputs": [
    {
     "data": {
      "text/html": [
       "<div><i>CatalogResult length=2</i>\n",
       "<table id=\"table5218113856\" class=\"table-striped table-bordered table-condensed\">\n",
       "<thead><tr><th>ID</th><th>RA</th><th>Dec</th><th>Separation</th><th>Relative_Flux</th><th>pmRA</th><th>pmDE</th><th>TESSmag</th><th>Mass</th><th>Rad</th><th>Teff</th><th>logg</th></tr></thead>\n",
       "<thead><tr><th></th><th></th><th></th><th></th><th></th><th>mas / yr</th><th>mas / yr</th><th>mag</th><th>solMass</th><th>solRad</th><th>K</th><th>log(cm.s**-2)</th></tr></thead>\n",
       "<thead><tr><th>str14</th><th>float64</th><th>float64</th><th>float64</th><th>float32</th><th>float64</th><th>float64</th><th>float32</th><th>float32</th><th>float64</th><th>float64</th><th>float32</th></tr></thead>\n",
       "<tr><td>TIC 377780790</td><td>285.6792229593456</td><td>50.241592310484634</td><td>nan</td><td>915.37714</td><td>-18.394</td><td>41.448</td><td>10.477</td><td>1.017</td><td>1.090</td><td>5706.0</td><td>4.3707</td></tr>\n",
       "<tr><td>TIC 1717218059</td><td>nan</td><td>nan</td><td>nan</td><td>1.0</td><td>-2.227</td><td>-1.204</td><td>17.881</td><td>1.070</td><td>0.810</td><td>5895.0</td><td>4.6506</td></tr>\n",
       "</table></div>"
      ],
      "text/plain": [
       "<CatalogResult length=2>\n",
       "      ID               RA               Dec         Separation Relative_Flux    pmRA      pmDE   TESSmag   Mass    Rad      Teff       logg    \n",
       "                                                                              mas / yr  mas / yr   mag   solMass  solRad     K    log(cm.s**-2)\n",
       "    str14           float64           float64        float64      float32     float64   float64  float32 float32 float64  float64    float32   \n",
       "-------------- ----------------- ------------------ ---------- ------------- --------- --------- ------- ------- -------- ------- -------------\n",
       " TIC 377780790 285.6792229593456 50.241592310484634        nan     915.37714   -18.394    41.448  10.477   1.017    1.090  5706.0        4.3707\n",
       "TIC 1717218059               nan                nan        nan           1.0    -2.227    -1.204  17.881   1.070    0.810  5895.0        4.6506"
      ]
     },
     "execution_count": 6,
     "metadata": {},
     "output_type": "execute_result"
    }
   ],
   "source": [
    "CatalogSearch.QueryPosition(c, epoch=Time.now(), radius=20 * u.arcsec, catalog=\"tic\")"
   ]
  },
  {
   "cell_type": "markdown",
   "id": "a8e4e95b-5c0f-43bd-84b1-7c427fe482c1",
   "metadata": {},
   "source": [
    "EPIC (Note Kepler-10 isn't inside EPIC, because it's outside the ecliptic plane!)"
   ]
  },
  {
   "cell_type": "code",
   "execution_count": 7,
   "id": "e21a83c5-2975-4fde-a1a0-6d5fb031e95d",
   "metadata": {},
   "outputs": [
    {
     "data": {
      "text/html": [
       "<div><i>Table length=0</i>\n",
       "<table id=\"table4636721520\" class=\"table-striped table-bordered table-condensed\">\n",
       "<thead><tr><th>RAJ2000</th><th>DEJ2000</th><th>pmRA</th><th>pmDE</th><th>Plx</th><th>K2mag</th><th>logg</th><th>Teff</th><th>Rad</th><th>Mass</th><th>RA</th><th>Dec</th><th>Separation</th><th>Relative_Flux</th></tr></thead>\n",
       "<thead><tr><th>float64</th><th>float64</th><th>float64</th><th>float64</th><th>float64</th><th>float64</th><th>float64</th><th>float64</th><th>float64</th><th>float64</th><th>float64</th><th>float64</th><th>float64</th><th>float64</th></tr></thead>\n",
       "</table></div>"
      ],
      "text/plain": [
       "<Table length=0>\n",
       "RAJ2000 DEJ2000   pmRA    pmDE    Plx    K2mag    logg    Teff    Rad     Mass     RA     Dec   Separation Relative_Flux\n",
       "float64 float64 float64 float64 float64 float64 float64 float64 float64 float64 float64 float64  float64      float64   \n",
       "------- ------- ------- ------- ------- ------- ------- ------- ------- ------- ------- ------- ---------- -------------"
      ]
     },
     "execution_count": 7,
     "metadata": {},
     "output_type": "execute_result"
    }
   ],
   "source": [
    "CatalogSearch.QueryPosition(c, catalog=\"epic\")"
   ]
  },
  {
   "cell_type": "markdown",
   "id": "62473b20-a001-491a-9a2a-0502540cff42",
   "metadata": {},
   "source": [
    "And Gaia in the same ways"
   ]
  },
  {
   "cell_type": "code",
   "execution_count": 8,
   "id": "2f18882e-a193-4629-9681-b36ea02af6d0",
   "metadata": {},
   "outputs": [
    {
     "data": {
      "text/html": [
       "<div><i>CatalogResult length=3</i>\n",
       "<table id=\"table4493719168\" class=\"table-striped table-bordered table-condensed\">\n",
       "<thead><tr><th>ID</th><th>RA</th><th>Dec</th><th>Separation</th><th>Relative_Flux</th><th>pmRA</th><th>pmDE</th><th>BPmag</th><th>Gmag</th><th>RPmag</th><th>Teff</th><th>logg</th></tr></thead>\n",
       "<thead><tr><th></th><th></th><th></th><th></th><th></th><th>mas / yr</th><th>mas / yr</th><th>mag</th><th>mag</th><th>mag</th><th>K</th><th>log(cm.s**-2)</th></tr></thead>\n",
       "<thead><tr><th>str28</th><th>float64</th><th>float64</th><th>float64</th><th>float64</th><th>float64</th><th>float64</th><th>float64</th><th>float64</th><th>float64</th><th>float64</th><th>float64</th></tr></thead>\n",
       "<tr><td>Gaia DR3 2132155017099178624</td><td>285.6793511035652</td><td>50.24140817434181</td><td>0.0</td><td>1.0</td><td>-18.483</td><td>41.382</td><td>11.253505</td><td>10.920031</td><td>10.418263</td><td>5595.8</td><td>4.3544</td></tr>\n",
       "<tr><td>Gaia DR3 2132155051458917632</td><td>285.68021338390014</td><td>50.24994176562508</td><td>30.78499970152597</td><td>0.0016912912421145657</td><td>-1.519</td><td>-1.203</td><td>18.209782</td><td>17.849485</td><td>17.317846</td><td>5424.7</td><td>4.6774</td></tr>\n",
       "<tr><td>Gaia DR3 2132155051458918144</td><td>285.6859229038892</td><td>50.249918851499665</td><td>34.170405504656244</td><td>0.005578085926713943</td><td>9.402</td><td>5.814</td><td>17.213984</td><td>16.553818</td><td>15.778805</td><td>--</td><td>--</td></tr>\n",
       "</table></div>"
      ],
      "text/plain": [
       "<CatalogResult length=3>\n",
       "             ID                      RA                Dec             Separation     ...    Gmag     RPmag     Teff       logg    \n",
       "                                                                                      ...    mag       mag       K    log(cm.s**-2)\n",
       "           str28                  float64            float64            float64       ...  float64   float64  float64    float64   \n",
       "---------------------------- ------------------ ------------------ ------------------ ... --------- --------- ------- -------------\n",
       "Gaia DR3 2132155017099178624  285.6793511035652  50.24140817434181                0.0 ... 10.920031 10.418263  5595.8        4.3544\n",
       "Gaia DR3 2132155051458917632 285.68021338390014  50.24994176562508  30.78499970152597 ... 17.849485 17.317846  5424.7        4.6774\n",
       "Gaia DR3 2132155051458918144  285.6859229038892 50.249918851499665 34.170405504656244 ... 16.553818 15.778805      --            --"
      ]
     },
     "execution_count": 8,
     "metadata": {},
     "output_type": "execute_result"
    }
   ],
   "source": [
    "CatalogSearch.QueryPosition(\n",
    "    c, epoch=Time.now(), radius=40 * u.arcsecond, catalog=\"gaiadr3\"\n",
    ")"
   ]
  },
  {
   "cell_type": "markdown",
   "id": "d20de587-7719-4b39-bc80-ab07a9800c8e",
   "metadata": {},
   "source": [
    "Optionally, you can return the output of the search as an `astropy.coordinates.SkyCoord` object"
   ]
  },
  {
   "cell_type": "code",
   "execution_count": 9,
   "id": "fb7fc90b-87ad-47a7-841f-402b2ff46867",
   "metadata": {},
   "outputs": [
    {
     "data": {
      "text/plain": [
       "<SkyCoord (ICRS): (ra, dec, distance) in (deg, deg, pc)\n",
       "    [(285.6793511 , 50.24140817,  186.22667509),\n",
       "     (285.68021338, 50.24994177, 7132.66761762),\n",
       "     (285.6859229 , 50.24991885, 1124.73287589)]\n",
       " (pm_ra_cosdec, pm_dec, radial_velocity) in (mas / yr, mas / yr, km / s)\n",
       "    [(-18.48303962, 41.38198231, 7.81382436e-05),\n",
       "     ( -1.51899991, -1.20300012, 5.47033878e-06),\n",
       "     (  9.40200283,  5.81399542, 2.80752310e-05)]>"
      ]
     },
     "execution_count": 9,
     "metadata": {},
     "output_type": "execute_result"
    }
   ],
   "source": [
    "CatalogSearch.QueryPosition(\n",
    "    c,\n",
    "    epoch=Time.now(),\n",
    "    radius=40 * u.arcsecond,\n",
    "    catalog=\"gaiadr3\",\n",
    "    return_skycoord=True,\n",
    ")"
   ]
  },
  {
   "cell_type": "markdown",
   "id": "a29f3b6f-9ab3-4db5-aa9f-688f93cfc857",
   "metadata": {},
   "source": [
    "You can also sub-select from the results table and then convert to a SkyCoordinate"
   ]
  },
  {
   "cell_type": "code",
   "execution_count": 10,
   "id": "502e05d8-f4ff-4089-91b2-e83dd9d0d5b2",
   "metadata": {},
   "outputs": [
    {
     "data": {
      "text/html": [
       "<div><i>CatalogResult length=3</i>\n",
       "<table id=\"table5218547904\" class=\"table-striped table-bordered table-condensed\">\n",
       "<thead><tr><th>ID</th><th>RA</th><th>Dec</th><th>Separation</th><th>Relative_Flux</th><th>pmRA</th><th>pmDE</th><th>BPmag</th><th>Gmag</th><th>RPmag</th><th>Teff</th><th>logg</th></tr></thead>\n",
       "<thead><tr><th></th><th></th><th></th><th></th><th></th><th>mas / yr</th><th>mas / yr</th><th>mag</th><th>mag</th><th>mag</th><th>K</th><th>log(cm.s**-2)</th></tr></thead>\n",
       "<thead><tr><th>str28</th><th>float64</th><th>float64</th><th>float64</th><th>float64</th><th>float64</th><th>float64</th><th>float64</th><th>float64</th><th>float64</th><th>float64</th><th>float64</th></tr></thead>\n",
       "<tr><td>Gaia DR3 2132155017099178624</td><td>285.6793511035652</td><td>50.241408174341814</td><td>0.0</td><td>1.0</td><td>-18.483</td><td>41.382</td><td>11.253505</td><td>10.920031</td><td>10.418263</td><td>5595.8</td><td>4.3544</td></tr>\n",
       "<tr><td>Gaia DR3 2132155051458917632</td><td>285.68021338390014</td><td>50.24994176562508</td><td>30.784999701480263</td><td>0.0016912912421145657</td><td>-1.519</td><td>-1.203</td><td>18.209782</td><td>17.849485</td><td>17.317846</td><td>5424.7</td><td>4.6774</td></tr>\n",
       "<tr><td>Gaia DR3 2132155051458918144</td><td>285.6859229038892</td><td>50.249918851499665</td><td>34.17040550463571</td><td>0.005578085926713943</td><td>9.402</td><td>5.814</td><td>17.213984</td><td>16.553818</td><td>15.778805</td><td>--</td><td>--</td></tr>\n",
       "</table></div>"
      ],
      "text/plain": [
       "<CatalogResult length=3>\n",
       "             ID                      RA                Dec             Separation     ...    Gmag     RPmag     Teff       logg    \n",
       "                                                                                      ...    mag       mag       K    log(cm.s**-2)\n",
       "           str28                  float64            float64            float64       ...  float64   float64  float64    float64   \n",
       "---------------------------- ------------------ ------------------ ------------------ ... --------- --------- ------- -------------\n",
       "Gaia DR3 2132155017099178624  285.6793511035652 50.241408174341814                0.0 ... 10.920031 10.418263  5595.8        4.3544\n",
       "Gaia DR3 2132155051458917632 285.68021338390014  50.24994176562508 30.784999701480263 ... 17.849485 17.317846  5424.7        4.6774\n",
       "Gaia DR3 2132155051458918144  285.6859229038892 50.249918851499665  34.17040550463571 ... 16.553818 15.778805      --            --"
      ]
     },
     "execution_count": 10,
     "metadata": {},
     "output_type": "execute_result"
    }
   ],
   "source": [
    "result = CatalogSearch.QueryPosition(\n",
    "    c, epoch=Time.now(), radius=40 * u.arcsecond, catalog=\"gaiadr3\"\n",
    ")\n",
    "result"
   ]
  },
  {
   "cell_type": "code",
   "execution_count": 11,
   "id": "2bcc497d-d927-4baf-a8df-85bd713e9b34",
   "metadata": {},
   "outputs": [
    {
     "data": {
      "text/plain": [
       "<SkyCoord (ICRS): (ra, dec, distance) in (deg, deg, pc)\n",
       "    [(285.6793511 , 50.24140817, 10000000.),\n",
       "     (285.68021338, 50.24994177, 10000000.),\n",
       "     (285.6859229 , 50.24991885, 10000000.)]\n",
       " (pm_ra_cosdec, pm_dec) in mas / yr\n",
       "    [(-18.483, 41.382), ( -1.519, -1.203), (  9.402,  5.814)]>"
      ]
     },
     "execution_count": 11,
     "metadata": {},
     "output_type": "execute_result"
    }
   ],
   "source": [
    "result.to_SkyCoord()"
   ]
  },
  {
   "cell_type": "code",
   "execution_count": 12,
   "id": "f20bea99-9f9f-4069-8947-9f55c7f2bd5c",
   "metadata": {},
   "outputs": [
    {
     "data": {
      "text/plain": [
       "<SkyCoord (ICRS): (ra, dec, distance) in (deg, deg, pc)\n",
       "    [(285.6793511 , 50.24140817, 10000000.),\n",
       "     (285.68021338, 50.24994177, 10000000.),\n",
       "     (285.6859229 , 50.24991885, 10000000.)]\n",
       " (pm_ra_cosdec, pm_dec) in mas / yr\n",
       "    [(-18.483, 41.382), ( -1.519, -1.203), (  9.402,  5.814)]>"
      ]
     },
     "execution_count": 12,
     "metadata": {},
     "output_type": "execute_result"
    }
   ],
   "source": [
    "result.to_SkyCoord()"
   ]
  },
  {
   "cell_type": "markdown",
   "id": "6f069335-fb49-4301-85cf-a32172e430fe",
   "metadata": {},
   "source": [
    "## Searching by Catalog ID"
   ]
  },
  {
   "cell_type": "markdown",
   "id": "8a0f27fb-b981-4ca6-b3f1-6ef00a796057",
   "metadata": {},
   "source": [
    "For TIC, KIC, EPIC, and Gaia DR3 - if we know the Catalog ID of a source we can use `QueryID` to return the data from that catalog for that id.  For example, Kepler-10 above is also known as TIC 377780790. "
   ]
  },
  {
   "cell_type": "code",
   "execution_count": 13,
   "id": "8f497117-9e06-471f-9420-2334203f64c3",
   "metadata": {},
   "outputs": [
    {
     "data": {
      "text/html": [
       "<div><i>CatalogResult length=1</i>\n",
       "<table id=\"table5206572496\" class=\"table-striped table-bordered table-condensed\">\n",
       "<thead><tr><th>TIC</th><th>RAJ2000</th><th>DEJ2000</th><th>HIP</th><th>TYC</th><th>UCAC4</th><th>_2MASS</th><th>objID</th><th>WISEA</th><th>GAIA</th><th>APASS</th><th>KIC</th><th>S_G</th><th>Ref</th><th>r_Pos</th><th>pmRA</th><th>e_pmRA</th><th>pmDE</th><th>e_pmDE</th><th>r_pm</th><th>Plx</th><th>e_Plx</th><th>r_Plx</th><th>GLON</th><th>GLAT</th><th>ELON</th><th>ELAT</th><th>Bmag</th><th>e_Bmag</th><th>Vmag</th><th>e_Vmag</th><th>umag</th><th>e_umag</th><th>gmag</th><th>e_gmag</th><th>rmag</th><th>e_rmag</th><th>imag</th><th>e_imag</th><th>zmag</th><th>e_zmag</th><th>Jmag</th><th>e_Jmag</th><th>Hmag</th><th>e_Hmag</th><th>Kmag</th><th>e_Kmag</th><th>q_2MASS</th><th>W1mag</th><th>e_W1mag</th><th>W2mag</th><th>e_W2mag</th><th>W3mag</th><th>e_W3mag</th><th>W4mag</th><th>e_W4mag</th><th>Gmag</th><th>e_Gmag</th><th>Tmag</th><th>e_Tmag</th><th>f_Tmag</th><th>Flag</th><th>Teff</th><th>s_Teff</th><th>logg</th><th>s_logg</th><th>__M_H_</th><th>e__M_H_</th><th>Rad</th><th>s_Rad</th><th>Mass</th><th>s_Mass</th><th>rho</th><th>s_rho</th><th>LClass</th><th>Lum</th><th>s_Lum</th><th>Dist</th><th>s_Dist</th><th>E_B-V_</th><th>s_E_B-V_</th><th>Ncont</th><th>Rcont</th><th>Disp</th><th>m_TIC</th><th>Prior</th><th>e_E_B-V_</th><th>E_E_B-V_</th><th>f_E_B-V_</th><th>e_Mass</th><th>E_Mass</th><th>e_Rad</th><th>E_Rad</th><th>e_rho</th><th>E_rho</th><th>e_logg</th><th>E_logg</th><th>e_Lum</th><th>E_Lum</th><th>e_Dist</th><th>E_Dist</th><th>r_Dist</th><th>e_Teff</th><th>E_Teff</th><th>r_Teff</th><th>BPmag</th><th>e_BPmag</th><th>RPmag</th><th>e_RPmag</th><th>q_Gaia</th><th>r_Vmag</th><th>r_Bmag</th><th>Clist</th><th>e_RAJ2000</th><th>e_DEJ2000</th><th>RAOdeg</th><th>DEOdeg</th><th>e_RAOdeg</th><th>e_DEOdeg</th><th>RadFl</th><th>WDFl</th><th>ID</th></tr></thead>\n",
       "<thead><tr><th></th><th>deg</th><th>deg</th><th></th><th></th><th></th><th></th><th></th><th></th><th></th><th></th><th></th><th></th><th></th><th></th><th>mas / yr</th><th>mas / yr</th><th>mas / yr</th><th>mas / yr</th><th></th><th>mas</th><th>mas</th><th></th><th>deg</th><th>deg</th><th>deg</th><th>deg</th><th>mag</th><th>mag</th><th>mag</th><th>mag</th><th>mag</th><th>mag</th><th>mag</th><th>mag</th><th>mag</th><th>mag</th><th>mag</th><th>mag</th><th>mag</th><th>mag</th><th>mag</th><th>mag</th><th>mag</th><th>mag</th><th>mag</th><th>mag</th><th></th><th>mag</th><th>mag</th><th>mag</th><th>mag</th><th>mag</th><th>mag</th><th>mag</th><th>mag</th><th>mag</th><th>mag</th><th>mag</th><th>mag</th><th></th><th></th><th>K</th><th>K</th><th>log(cm.s**-2)</th><th>log(cm.s**-2)</th><th>log(Sun)</th><th>log(Sun)</th><th>Rsun</th><th>Rsun</th><th>Msun</th><th>Msun</th><th>Sun</th><th>Sun</th><th></th><th>Lsun</th><th>Lsun</th><th>pc</th><th>pc</th><th>mag</th><th>mag</th><th></th><th></th><th></th><th></th><th></th><th>mag</th><th>mag</th><th></th><th>Msun</th><th>Msun</th><th>Rsun</th><th>Rsun</th><th>Sun</th><th>Sun</th><th>log(cm.s**-2)</th><th>log(cm.s**-2)</th><th>Lsun</th><th>Lsun</th><th>pc</th><th>pc</th><th></th><th>K</th><th>K</th><th></th><th>mag</th><th>mag</th><th>mag</th><th>mag</th><th></th><th></th><th></th><th></th><th>mas</th><th>mas</th><th>deg</th><th>deg</th><th>mas</th><th>mas</th><th></th><th></th><th></th></tr></thead>\n",
       "<thead><tr><th>int64</th><th>float64</th><th>float64</th><th>int32</th><th>object</th><th>object</th><th>object</th><th>int64</th><th>object</th><th>int64</th><th>int32</th><th>int32</th><th>object</th><th>object</th><th>object</th><th>float64</th><th>float32</th><th>float64</th><th>float32</th><th>object</th><th>float64</th><th>float32</th><th>object</th><th>float64</th><th>float64</th><th>float64</th><th>float64</th><th>float32</th><th>float32</th><th>float32</th><th>float32</th><th>float32</th><th>float64</th><th>float32</th><th>float64</th><th>float32</th><th>float64</th><th>float32</th><th>float64</th><th>float32</th><th>float64</th><th>float32</th><th>float32</th><th>float32</th><th>float32</th><th>float32</th><th>float32</th><th>object</th><th>float32</th><th>float32</th><th>float32</th><th>float32</th><th>float32</th><th>float32</th><th>float32</th><th>float32</th><th>float64</th><th>float64</th><th>float32</th><th>float32</th><th>object</th><th>object</th><th>float32</th><th>float32</th><th>float32</th><th>float32</th><th>float32</th><th>float32</th><th>float64</th><th>float32</th><th>float32</th><th>float32</th><th>float64</th><th>float64</th><th>object</th><th>float64</th><th>float64</th><th>float64</th><th>float64</th><th>float32</th><th>float32</th><th>int32</th><th>float64</th><th>object</th><th>int64</th><th>float64</th><th>float32</th><th>float32</th><th>object</th><th>float32</th><th>float32</th><th>float32</th><th>float32</th><th>float64</th><th>float64</th><th>float32</th><th>float32</th><th>float64</th><th>float64</th><th>float64</th><th>float64</th><th>object</th><th>float32</th><th>float32</th><th>object</th><th>float64</th><th>float64</th><th>float64</th><th>float64</th><th>int16</th><th>object</th><th>object</th><th>object</th><th>float64</th><th>float64</th><th>float64</th><th>float64</th><th>float64</th><th>float64</th><th>int16</th><th>int16</th><th>int32</th></tr></thead>\n",
       "<tr><td>377780790</td><td>285.67942179238</td><td>50.24130576642</td><td>--</td><td></td><td>702-062695</td><td>19024305+5014286</td><td>--</td><td>J190243.03+501429.1</td><td>2132155017099178624</td><td>--</td><td>11904151</td><td>STAR</td><td>tmgaia2</td><td>tmgaia2</td><td>-18.394</td><td>0.045</td><td>41.448</td><td>0.046</td><td>gaia2</td><td>5.3619</td><td>0.0233</td><td>gaia2</td><td>80.48973434189</td><td>18.81612807429</td><td>303.70102580688</td><td>71.84987860932</td><td>12.258</td><td>0.067</td><td>11.043</td><td>0.023</td><td>--</td><td>--</td><td>--</td><td>--</td><td>--</td><td>--</td><td>--</td><td>--</td><td>--</td><td>--</td><td>9.889</td><td>0.022</td><td>9.563</td><td>0.025</td><td>9.496</td><td>0.021</td><td>AAA-222-111-000-0-0</td><td>9.44</td><td>0.023</td><td>9.491</td><td>0.02</td><td>9.443</td><td>0.029</td><td>9.403</td><td>0.482</td><td>10.9191</td><td>0.000318</td><td>10.477</td><td>0.006</td><td>rered</td><td>spect</td><td>5706.0</td><td>141.0</td><td>4.3707</td><td>0.0854</td><td>-0.12</td><td>0.1</td><td>1.09</td><td>0.061</td><td>1.017</td><td>0.128</td><td>0.7859</td><td>0.1845</td><td>DWARF</td><td>1.13414</td><td>0.03284</td><td>185.506</td><td>0.808</td><td>0.0107</td><td>0.0037</td><td>223</td><td>0.0101</td><td></td><td>--</td><td>0.002668</td><td>0.0028</td><td>0.0046</td><td>panstarrs</td><td>0.119</td><td>0.138</td><td>0.061</td><td>0.061</td><td>0.1571</td><td>0.2119</td><td>0.1042</td><td>0.0666</td><td>0.03598</td><td>0.0297</td><td>0.805</td><td>0.811</td><td>bj2018</td><td>125.2</td><td>156.8</td><td>spect</td><td>11.2713</td><td>0.001006</td><td>10.4273</td><td>0.000585</td><td>1</td><td>ucac4</td><td>bpbj</td><td></td><td>0.767293</td><td>0.711508</td><td>285.67929796407</td><td>50.24148422359</td><td>0.020474</td><td>0.024043</td><td>1</td><td>0</td><td>237087497</td></tr>\n",
       "</table></div>"
      ],
      "text/plain": [
       "<CatalogResult length=1>\n",
       "   TIC        RAJ2000        DEJ2000      HIP   TYC     UCAC4         _2MASS      ...     DEOdeg     e_RAOdeg e_DEOdeg RadFl  WDFl     ID   \n",
       "                deg            deg                                                ...      deg         mas      mas                         \n",
       "  int64       float64        float64     int32 object   object        object      ...    float64     float64  float64  int16 int16   int32  \n",
       "--------- --------------- -------------- ----- ------ ---------- ---------------- ... -------------- -------- -------- ----- ----- ---------\n",
       "377780790 285.67942179238 50.24130576642    --        702-062695 19024305+5014286 ... 50.24148422359 0.020474 0.024043     1     0 237087497"
      ]
     },
     "execution_count": 13,
     "metadata": {},
     "output_type": "execute_result"
    }
   ],
   "source": [
    "CatalogSearch.QueryID(\"TIC 377780790\")"
   ]
  },
  {
   "cell_type": "markdown",
   "id": "d3c8cec5-9925-49e1-bea8-3253bf669013",
   "metadata": {},
   "source": [
    "... and KIC 11904151"
   ]
  },
  {
   "cell_type": "code",
   "execution_count": 14,
   "id": "a48bdf93-3ff3-43d6-befd-62390a536ac2",
   "metadata": {},
   "outputs": [
    {
     "data": {
      "text/html": [
       "<div><i>CatalogResult length=1</i>\n",
       "<table id=\"table5221044096\" class=\"table-striped table-bordered table-condensed\">\n",
       "<thead><tr><th>KIC</th><th>RAJ2000</th><th>DEJ2000</th><th>pmRA</th><th>pmDE</th><th>Plx</th><th>umag</th><th>gmag</th><th>rmag</th><th>imag</th><th>zmag</th><th>grmag</th><th>d51mag</th><th>Jmag</th><th>Hmag</th><th>Kmag</th><th>kepmag</th><th>_2Mkey</th><th>_2Mname</th><th>SCP-ID</th><th>SCPkey</th><th>catkey</th><th>alc</th><th>altID</th><th>sg</th><th>v</th><th>cq</th><th>pq</th><th>aq</th><th>fv</th><th>Teff</th><th>logg</th><th>__Fe_H_</th><th>E_B-V_</th><th>Av</th><th>R_</th></tr></thead>\n",
       "<thead><tr><th></th><th>deg</th><th>deg</th><th>mas / yr</th><th>mas / yr</th><th>mas</th><th>mag</th><th>mag</th><th>mag</th><th>mag</th><th>mag</th><th>mag</th><th>mag</th><th>mag</th><th>mag</th><th>mag</th><th>mag</th><th></th><th></th><th></th><th></th><th></th><th></th><th></th><th></th><th></th><th></th><th></th><th></th><th></th><th>K</th><th>log(cm.s**-2)</th><th>log(Sun)</th><th>mag</th><th>mag</th><th>Rsun</th></tr></thead>\n",
       "<thead><tr><th>int32</th><th>float64</th><th>float64</th><th>float64</th><th>float64</th><th>float64</th><th>float32</th><th>float32</th><th>float32</th><th>float32</th><th>float32</th><th>float32</th><th>float32</th><th>float32</th><th>float32</th><th>float32</th><th>float32</th><th>int32</th><th>object</th><th>int32</th><th>int32</th><th>int32</th><th>int16</th><th>int32</th><th>int16</th><th>int16</th><th>object</th><th>int16</th><th>int16</th><th>int16</th><th>int32</th><th>float32</th><th>float32</th><th>float32</th><th>float32</th><th>float32</th></tr></thead>\n",
       "<tr><td>11904151</td><td>285.67938</td><td>50.241299</td><td>0.0</td><td>0.0</td><td>--</td><td>--</td><td>11.388</td><td>10.92</td><td>10.778</td><td>10.729</td><td>--</td><td>11.191</td><td>9.888</td><td>9.563</td><td>9.496</td><td>10.961</td><td>1065107578</td><td>J19024305+5014286</td><td>1065107578</td><td>--</td><td>11732614</td><td>3</td><td>-1058152</td><td>0</td><td>0</td><td>SCP</td><td>5</td><td>6</td><td>2</td><td>5491</td><td>4.467</td><td>-0.812</td><td>0.031</td><td>0.095</td><td>0.98</td></tr>\n",
       "</table></div>"
      ],
      "text/plain": [
       "<CatalogResult length=1>\n",
       "  KIC     RAJ2000   DEJ2000    pmRA     pmDE     Plx     umag    gmag  ...   aq    fv   Teff      logg     __Fe_H_   E_B-V_    Av      R_  \n",
       "            deg       deg    mas / yr mas / yr   mas     mag     mag   ...               K   log(cm.s**-2) log(Sun)   mag     mag     Rsun \n",
       " int32    float64   float64  float64  float64  float64 float32 float32 ... int16 int16 int32    float32    float32  float32 float32 float32\n",
       "-------- --------- --------- -------- -------- ------- ------- ------- ... ----- ----- ----- ------------- -------- ------- ------- -------\n",
       "11904151 285.67938 50.241299      0.0      0.0      --      --  11.388 ...     6     2  5491         4.467   -0.812   0.031   0.095    0.98"
      ]
     },
     "execution_count": 14,
     "metadata": {},
     "output_type": "execute_result"
    }
   ],
   "source": [
    "CatalogSearch.QueryID(\"KIC 11904151\")"
   ]
  },
  {
   "cell_type": "markdown",
   "id": "582ac919-9e81-489a-86cb-fd841c8bc028",
   "metadata": {},
   "source": [
    "... and Gaia DR3 2132155017099178624"
   ]
  },
  {
   "cell_type": "code",
   "execution_count": 15,
   "id": "6a6968f1-b8e9-400d-a7cf-273b982a6a26",
   "metadata": {},
   "outputs": [
    {
     "data": {
      "text/html": [
       "<div><i>CatalogResult length=1</i>\n",
       "<table id=\"table5220997392\" class=\"table-striped table-bordered table-condensed\">\n",
       "<thead><tr><th>DR3Name</th><th>RA_ICRS</th><th>DE_ICRS</th><th>SolID</th><th>Source</th><th>RandomI</th><th>e_RA_ICRS</th><th>e_DE_ICRS</th><th>Plx</th><th>e_Plx</th><th>RPlx</th><th>PM</th><th>pmRA</th><th>e_pmRA</th><th>pmDE</th><th>e_pmDE</th><th>RADEcor</th><th>RAPlxcor</th><th>RApmRAcor</th><th>RApmDEcor</th><th>DEPlxcor</th><th>DEpmRAcor</th><th>DEpmDEcor</th><th>PlxpmRAcor</th><th>PlxpmDEcor</th><th>pmRApmDEcor</th><th>NAL</th><th>NAC</th><th>NgAL</th><th>NbAL</th><th>gofAL</th><th>chi2AL</th><th>epsi</th><th>sepsi</th><th>Solved</th><th>APF</th><th>nueff</th><th>pscol</th><th>e_pscol</th><th>RApscolCorr</th><th>DEpscolCorr</th><th>PlxpscolCorr</th><th>pmRApscolCorr</th><th>pmDEpscolCorr</th><th>MatchObsA</th><th>Nper</th><th>amax</th><th>MatchObs</th><th>NewMatchObs</th><th>MatchObsrm</th><th>IPDgofha</th><th>IPDgofhp</th><th>IPDfmp</th><th>IPDfow</th><th>RUWE</th><th>SDSk1</th><th>SDSk2</th><th>SDSk3</th><th>SDSk4</th><th>SDMk1</th><th>SDMk2</th><th>SDMk3</th><th>SDMk4</th><th>Dup</th><th>o_Gmag</th><th>FG</th><th>e_FG</th><th>RFG</th><th>Gmag</th><th>e_Gmag</th><th>o_BPmag</th><th>FBP</th><th>e_FBP</th><th>RFBP</th><th>BPmag</th><th>e_BPmag</th><th>o_RPmag</th><th>FRP</th><th>e_FRP</th><th>RFRP</th><th>RPmag</th><th>e_RPmag</th><th>E_BP_RP_</th><th>NBPcont</th><th>NBPblend</th><th>NRPcont</th><th>NRPblend</th><th>Mode</th><th>BP-RP</th><th>BP-G</th><th>G-RP</th><th>RV</th><th>e_RV</th><th>n_RV</th><th>o_RV</th><th>o_RVd</th><th>RVNper</th><th>RVS_N</th><th>RVgof</th><th>RVchi2</th><th>RVTdur</th><th>RVamp</th><th>RVtempTeff</th><th>RVtemplogg</th><th>RVtemp_Fe_H_</th><th>Vatmparam</th><th>Vbroad</th><th>e_Vbroad</th><th>o_Vbroad</th><th>GRVSmag</th><th>e_GRVSmag</th><th>o_GRVSmag</th><th>RVSS_N</th><th>VarFlag</th><th>GLON</th><th>GLAT</th><th>ELON</th><th>ELAT</th><th>QSO</th><th>Gal</th><th>NSS</th><th>XPcont</th><th>XPsamp</th><th>RVS</th><th>EpochPh</th><th>EpochRV</th><th>MCMCGSP</th><th>MCMCMSC</th><th>And</th><th>PQSO</th><th>PGal</th><th>PSS</th><th>Teff</th><th>b_Teff</th><th>B_Teff</th><th>logg</th><th>b_logg</th><th>B_logg</th><th>__Fe_H_</th><th>b__Fe_H_</th><th>B__Fe_H_</th><th>Dist</th><th>b_Dist</th><th>B_Dist</th><th>A0</th><th>b_A0</th><th>B_A0</th><th>AG</th><th>b_AG</th><th>B_AG</th><th>E_BP-RP_</th><th>b_E_BP-RP_</th><th>B_E_BP-RP_</th><th>Lib</th><th>HIP</th><th>dHIP</th><th>nHIP</th><th>f_HIP</th><th>PS1coid</th><th>PS1</th><th>dPS1</th><th>nPS1</th><th>mPS1</th><th>f_PS1</th><th>SDSS13coid</th><th>SDSS13</th><th>dSDSS13</th><th>nSDSS13</th><th>mSDSS13</th><th>f_SDSS13</th><th>SKYM2</th><th>dSKYM2</th><th>nSKYM2</th><th>mSKYM2</th><th>f_SKYM2</th><th>TYC2</th><th>dTYC2</th><th>f_TYC2</th><th>TYC2moid</th><th>nTYC2</th><th>URAT1</th><th>dURAT1</th><th>f_URAT1</th><th>URAT1oid</th><th>nURAT1</th><th>mURAT1</th><th>AllWISE</th><th>dAllWISE</th><th>f_AllWISE</th><th>AllWISEoid</th><th>nAllWISE</th><th>mAllWISE</th><th>APASS9coid</th><th>APASS9</th><th>dAPASS9</th><th>nAPASS9</th><th>mAPASS9</th><th>f_APASS9</th><th>GSC23</th><th>dGSC23</th><th>f_GSC23</th><th>GSC23coid</th><th>nGSC23</th><th>mGSC23</th><th>RAVE5</th><th>dRAVE5</th><th>f_RAVE5</th><th>RAVE5coid</th><th>nRAVE5</th><th>_2MASS</th><th>d2MASS</th><th>f_2MASS</th><th>_2MASScoid</th><th>n2MASS</th><th>m2MASS</th><th>RAVE6</th><th>dRAVE6</th><th>f_RAVE6</th><th>RAVE6oid</th><th>nRAVE6</th><th>RAJ2000</th><th>DEJ2000</th><th>e_RAJ2000</th><th>e_DEJ2000</th><th>RADEcorJ2000</th></tr></thead>\n",
       "<thead><tr><th></th><th>deg</th><th>deg</th><th></th><th></th><th></th><th>mas</th><th>mas</th><th>mas</th><th>mas</th><th></th><th>mas / yr</th><th>mas / yr</th><th>mas / yr</th><th>mas / yr</th><th>mas / yr</th><th></th><th></th><th></th><th></th><th></th><th></th><th></th><th></th><th></th><th></th><th></th><th></th><th></th><th></th><th></th><th></th><th>mas</th><th></th><th></th><th></th><th>1 / um</th><th>1 / um</th><th>1 / um</th><th></th><th></th><th></th><th></th><th></th><th></th><th></th><th>mas</th><th></th><th></th><th></th><th></th><th>deg</th><th></th><th></th><th></th><th></th><th></th><th></th><th></th><th></th><th></th><th></th><th>deg</th><th></th><th></th><th></th><th></th><th></th><th>mag</th><th>mag</th><th></th><th></th><th></th><th></th><th>mag</th><th>mag</th><th></th><th></th><th></th><th></th><th>mag</th><th>mag</th><th>mag</th><th></th><th></th><th></th><th></th><th></th><th>mag</th><th>mag</th><th>mag</th><th>km / s</th><th>km / s</th><th></th><th></th><th></th><th></th><th></th><th></th><th></th><th>d</th><th>km / s</th><th>K</th><th>log(cm.s**-2)</th><th></th><th></th><th>km / s</th><th>km / s</th><th></th><th>mag</th><th>mag</th><th></th><th></th><th></th><th>deg</th><th>deg</th><th>deg</th><th>deg</th><th></th><th></th><th></th><th></th><th></th><th></th><th></th><th></th><th></th><th></th><th></th><th></th><th></th><th></th><th>K</th><th>K</th><th>K</th><th>log(cm.s**-2)</th><th>log(cm.s**-2)</th><th>log(cm.s**-2)</th><th></th><th></th><th></th><th>pc</th><th>pc</th><th>pc</th><th>mag</th><th>mag</th><th>mag</th><th>mag</th><th>mag</th><th>mag</th><th>mag</th><th>mag</th><th>mag</th><th></th><th></th><th>mas</th><th></th><th></th><th></th><th></th><th>mas</th><th></th><th></th><th></th><th></th><th></th><th>mas</th><th></th><th></th><th></th><th></th><th>mas</th><th></th><th></th><th></th><th></th><th>mas</th><th></th><th></th><th></th><th></th><th>mas</th><th></th><th></th><th></th><th></th><th></th><th>mas</th><th></th><th></th><th></th><th></th><th></th><th></th><th>mas</th><th></th><th></th><th></th><th></th><th>mas</th><th></th><th></th><th></th><th></th><th></th><th>mas</th><th></th><th></th><th></th><th></th><th>mas</th><th></th><th></th><th></th><th></th><th></th><th>mas</th><th></th><th></th><th></th><th>deg</th><th>deg</th><th>mas</th><th>mas</th><th></th></tr></thead>\n",
       "<thead><tr><th>object</th><th>float64</th><th>float64</th><th>int64</th><th>int64</th><th>int64</th><th>float32</th><th>float32</th><th>float64</th><th>float32</th><th>float64</th><th>float64</th><th>float64</th><th>float32</th><th>float64</th><th>float64</th><th>float32</th><th>float32</th><th>float32</th><th>float32</th><th>float32</th><th>float32</th><th>float32</th><th>float32</th><th>float32</th><th>float32</th><th>int16</th><th>int16</th><th>int16</th><th>int16</th><th>float64</th><th>float64</th><th>float64</th><th>float64</th><th>int16</th><th>int16</th><th>float32</th><th>float32</th><th>float32</th><th>float32</th><th>float32</th><th>float32</th><th>float32</th><th>float32</th><th>int16</th><th>int16</th><th>float64</th><th>int16</th><th>int16</th><th>int16</th><th>float64</th><th>float64</th><th>int16</th><th>int16</th><th>float32</th><th>float64</th><th>float64</th><th>float64</th><th>float64</th><th>float64</th><th>float32</th><th>float32</th><th>float32</th><th>int16</th><th>int16</th><th>float64</th><th>float64</th><th>float64</th><th>float64</th><th>float64</th><th>int16</th><th>float64</th><th>float64</th><th>float64</th><th>float64</th><th>float64</th><th>int16</th><th>float64</th><th>float64</th><th>float64</th><th>float64</th><th>float64</th><th>float64</th><th>int16</th><th>int16</th><th>int16</th><th>int16</th><th>int16</th><th>float64</th><th>float64</th><th>float64</th><th>float32</th><th>float32</th><th>int16</th><th>int16</th><th>int16</th><th>int16</th><th>float64</th><th>float64</th><th>float64</th><th>float64</th><th>float32</th><th>float32</th><th>float32</th><th>float32</th><th>int16</th><th>float64</th><th>float64</th><th>int16</th><th>float64</th><th>float64</th><th>int16</th><th>float64</th><th>object</th><th>float64</th><th>float64</th><th>float64</th><th>float64</th><th>int16</th><th>int16</th><th>int16</th><th>int16</th><th>int16</th><th>int16</th><th>int16</th><th>int16</th><th>int16</th><th>int16</th><th>int16</th><th>float64</th><th>float64</th><th>float64</th><th>float32</th><th>float32</th><th>float32</th><th>float32</th><th>float32</th><th>float32</th><th>float32</th><th>float32</th><th>float32</th><th>float64</th><th>float64</th><th>float64</th><th>float32</th><th>float32</th><th>float32</th><th>float32</th><th>float32</th><th>float32</th><th>float32</th><th>float32</th><th>float32</th><th>object</th><th>int32</th><th>float64</th><th>int16</th><th>int16</th><th>int64</th><th>int64</th><th>float64</th><th>int16</th><th>int16</th><th>int16</th><th>int32</th><th>int64</th><th>float64</th><th>int16</th><th>int16</th><th>int16</th><th>int32</th><th>float64</th><th>int16</th><th>int16</th><th>int16</th><th>object</th><th>float64</th><th>int16</th><th>int32</th><th>int16</th><th>object</th><th>float64</th><th>int16</th><th>int32</th><th>int16</th><th>int16</th><th>object</th><th>float64</th><th>int16</th><th>int32</th><th>int16</th><th>int16</th><th>int32</th><th>int32</th><th>float64</th><th>int16</th><th>int16</th><th>int16</th><th>object</th><th>float64</th><th>int16</th><th>int32</th><th>int16</th><th>int16</th><th>object</th><th>float64</th><th>int16</th><th>float64</th><th>int16</th><th>object</th><th>float64</th><th>int16</th><th>int32</th><th>int16</th><th>int16</th><th>object</th><th>float64</th><th>int16</th><th>float64</th><th>int16</th><th>float64</th><th>float64</th><th>float64</th><th>float64</th><th>float32</th></tr></thead>\n",
       "<tr><td>Gaia DR3 2132155017099178624</td><td>285.67929401534</td><td>50.24148992495</td><td>1636148068921376768</td><td>2132155017099178624</td><td>712720541</td><td>0.0097</td><td>0.0105</td><td>5.3698</td><td>0.0103</td><td>521.1521</td><td>45.322</td><td>-18.483</td><td>0.012</td><td>41.382</td><td>0.013</td><td>-0.0139</td><td>0.0622</td><td>-0.0681</td><td>-0.1702</td><td>0.0472</td><td>-0.1583</td><td>-0.201</td><td>-0.0394</td><td>-0.1374</td><td>-0.0691</td><td>360</td><td>360</td><td>356</td><td>4</td><td>-2.6955</td><td>715.4011</td><td>0.087</td><td>11.463339</td><td>31</td><td>0</td><td>1.551</td><td>--</td><td>--</td><td>--</td><td>--</td><td>--</td><td>--</td><td>--</td><td>41</td><td>26</td><td>0.018997</td><td>45</td><td>18</td><td>1</td><td>0.0057575256</td><td>124.68958</td><td>0</td><td>0</td><td>0.899</td><td>--</td><td>--</td><td>--</td><td>--</td><td>--</td><td>--</td><td>--</td><td>--</td><td>0</td><td>355</td><td>807113.66018</td><td>99.63456</td><td>8100.7397</td><td>10.920031</td><td>0.002759</td><td>39</td><td>430541.4769106057</td><td>224.45926</td><td>1918.1274</td><td>11.253505</td><td>0.002847</td><td>39</td><td>539327.9908645798</td><td>152.08717</td><td>3546.1768</td><td>10.418263</td><td>0.003792</td><td>1.202</td><td>0</td><td>4</td><td>0</td><td>0</td><td>0</td><td>0.835241</td><td>0.333474</td><td>0.501767</td><td>-98.44</td><td>0.24</td><td>1</td><td>16</td><td>1</td><td>14</td><td>60.55437</td><td>-1.8765258</td><td>0.960951</td><td>912.837</td><td>2.43</td><td>5750.0</td><td>4.5</td><td>-0.25</td><td>222</td><td>--</td><td>--</td><td>--</td><td>10.239054</td><td>0.011681</td><td>13</td><td>64.86836</td><td>NOT_AVAILABLE</td><td>80.48988219119</td><td>18.81626758615</td><td>303.70099565765</td><td>71.850079083</td><td>0</td><td>0</td><td>0</td><td>1</td><td>1</td><td>1</td><td>0</td><td>0</td><td>1</td><td>1</td><td>0</td><td>0.0</td><td>0.0</td><td>0.999661</td><td>5595.8</td><td>5594.4</td><td>5598.1</td><td>4.3544</td><td>4.3529</td><td>4.3558</td><td>-0.2251</td><td>-0.2294</td><td>-0.2204</td><td>185.2251</td><td>184.8608</td><td>185.6003</td><td>0.001</td><td>0.0002</td><td>0.0025</td><td>0.0008</td><td>1e-04</td><td>0.0021</td><td>0.0004</td><td>1e-04</td><td>0.0011</td><td>MARCS</td><td>--</td><td>--</td><td>--</td><td>--</td><td>--</td><td>--</td><td>--</td><td>--</td><td>--</td><td>--</td><td>--</td><td>--</td><td>--</td><td>--</td><td>--</td><td>--</td><td>--</td><td>--</td><td>--</td><td>--</td><td>--</td><td></td><td>--</td><td>--</td><td>--</td><td>--</td><td>URAT1-702270503</td><td>0.037142</td><td>40</td><td>180905639</td><td>1</td><td>0</td><td>J190243.03+501429.1</td><td>0.064949</td><td>8</td><td>656945243</td><td>1</td><td>0</td><td>--</td><td>--</td><td>--</td><td>--</td><td>--</td><td>--</td><td>N2E9000431</td><td>0.039655</td><td>8</td><td>844090484</td><td>1</td><td>0</td><td></td><td>--</td><td>--</td><td>--</td><td>--</td><td>19024305+5014286</td><td>0.070933</td><td>8</td><td>429830359</td><td>1</td><td>0</td><td></td><td>--</td><td>--</td><td>--</td><td>--</td><td>285.67942245427</td><td>50.24130600641</td><td>0.199479</td><td>0.217694</td><td>-0.0523</td></tr>\n",
       "</table></div>"
      ],
      "text/plain": [
       "<CatalogResult length=1>\n",
       "          DR3Name                RA_ICRS        DE_ICRS            SolID        ...    DEJ2000     e_RAJ2000 e_DEJ2000 RADEcorJ2000\n",
       "                                   deg            deg                           ...      deg          mas       mas                \n",
       "           object                float64        float64            int64        ...    float64      float64   float64    float32   \n",
       "---------------------------- --------------- -------------- ------------------- ... -------------- --------- --------- ------------\n",
       "Gaia DR3 2132155017099178624 285.67929401534 50.24148992495 1636148068921376768 ... 50.24130600641  0.199479  0.217694      -0.0523"
      ]
     },
     "execution_count": 15,
     "metadata": {},
     "output_type": "execute_result"
    }
   ],
   "source": [
    "CatalogSearch.QueryID(\"Gaia DR3 2132155017099178624\")"
   ]
  },
  {
   "cell_type": "markdown",
   "id": "da1850e6-7967-4814-92da-2c0927867a7e",
   "metadata": {},
   "source": [
    "The TIC catalog has been cross-matched with the GAIA DR3 and KIC catalogs.  `lksearch` can use this cross-matching to retrieve TIC/KIC/GAIA catalog info for any given TIC/KIC/GaiaDR3 source ID.  The EPIC catalog is not included in this cross-matching.  \n",
    "\n",
    "For Example, if we want the TIC info for Kepler-10, but only have the GAIA DR3Name above, we can get that like so:"
   ]
  },
  {
   "cell_type": "code",
   "execution_count": 16,
   "id": "068e7e8a-a634-4d19-9c3c-edf2312fd8d5",
   "metadata": {},
   "outputs": [
    {
     "data": {
      "text/html": [
       "<div><i>CatalogResult length=1</i>\n",
       "<table id=\"table5217871120\" class=\"table-striped table-bordered table-condensed\">\n",
       "<thead><tr><th>TIC</th><th>RAJ2000</th><th>DEJ2000</th><th>HIP</th><th>TYC</th><th>UCAC4</th><th>_2MASS</th><th>objID</th><th>WISEA</th><th>GAIA</th><th>APASS</th><th>KIC</th><th>S_G</th><th>Ref</th><th>r_Pos</th><th>pmRA</th><th>e_pmRA</th><th>pmDE</th><th>e_pmDE</th><th>r_pm</th><th>Plx</th><th>e_Plx</th><th>r_Plx</th><th>GLON</th><th>GLAT</th><th>ELON</th><th>ELAT</th><th>Bmag</th><th>e_Bmag</th><th>Vmag</th><th>e_Vmag</th><th>umag</th><th>e_umag</th><th>gmag</th><th>e_gmag</th><th>rmag</th><th>e_rmag</th><th>imag</th><th>e_imag</th><th>zmag</th><th>e_zmag</th><th>Jmag</th><th>e_Jmag</th><th>Hmag</th><th>e_Hmag</th><th>Kmag</th><th>e_Kmag</th><th>q_2MASS</th><th>W1mag</th><th>e_W1mag</th><th>W2mag</th><th>e_W2mag</th><th>W3mag</th><th>e_W3mag</th><th>W4mag</th><th>e_W4mag</th><th>Gmag</th><th>e_Gmag</th><th>Tmag</th><th>e_Tmag</th><th>f_Tmag</th><th>Flag</th><th>Teff</th><th>s_Teff</th><th>logg</th><th>s_logg</th><th>__M_H_</th><th>e__M_H_</th><th>Rad</th><th>s_Rad</th><th>Mass</th><th>s_Mass</th><th>rho</th><th>s_rho</th><th>LClass</th><th>Lum</th><th>s_Lum</th><th>Dist</th><th>s_Dist</th><th>E_B-V_</th><th>s_E_B-V_</th><th>Ncont</th><th>Rcont</th><th>Disp</th><th>m_TIC</th><th>Prior</th><th>e_E_B-V_</th><th>E_E_B-V_</th><th>f_E_B-V_</th><th>e_Mass</th><th>E_Mass</th><th>e_Rad</th><th>E_Rad</th><th>e_rho</th><th>E_rho</th><th>e_logg</th><th>E_logg</th><th>e_Lum</th><th>E_Lum</th><th>e_Dist</th><th>E_Dist</th><th>r_Dist</th><th>e_Teff</th><th>E_Teff</th><th>r_Teff</th><th>BPmag</th><th>e_BPmag</th><th>RPmag</th><th>e_RPmag</th><th>q_Gaia</th><th>r_Vmag</th><th>r_Bmag</th><th>Clist</th><th>e_RAJ2000</th><th>e_DEJ2000</th><th>RAOdeg</th><th>DEOdeg</th><th>e_RAOdeg</th><th>e_DEOdeg</th><th>RadFl</th><th>WDFl</th><th>ID</th></tr></thead>\n",
       "<thead><tr><th></th><th>deg</th><th>deg</th><th></th><th></th><th></th><th></th><th></th><th></th><th></th><th></th><th></th><th></th><th></th><th></th><th>mas / yr</th><th>mas / yr</th><th>mas / yr</th><th>mas / yr</th><th></th><th>mas</th><th>mas</th><th></th><th>deg</th><th>deg</th><th>deg</th><th>deg</th><th>mag</th><th>mag</th><th>mag</th><th>mag</th><th>mag</th><th>mag</th><th>mag</th><th>mag</th><th>mag</th><th>mag</th><th>mag</th><th>mag</th><th>mag</th><th>mag</th><th>mag</th><th>mag</th><th>mag</th><th>mag</th><th>mag</th><th>mag</th><th></th><th>mag</th><th>mag</th><th>mag</th><th>mag</th><th>mag</th><th>mag</th><th>mag</th><th>mag</th><th>mag</th><th>mag</th><th>mag</th><th>mag</th><th></th><th></th><th>K</th><th>K</th><th>log(cm.s**-2)</th><th>log(cm.s**-2)</th><th>log(Sun)</th><th>log(Sun)</th><th>Rsun</th><th>Rsun</th><th>Msun</th><th>Msun</th><th>Sun</th><th>Sun</th><th></th><th>Lsun</th><th>Lsun</th><th>pc</th><th>pc</th><th>mag</th><th>mag</th><th></th><th></th><th></th><th></th><th></th><th>mag</th><th>mag</th><th></th><th>Msun</th><th>Msun</th><th>Rsun</th><th>Rsun</th><th>Sun</th><th>Sun</th><th>log(cm.s**-2)</th><th>log(cm.s**-2)</th><th>Lsun</th><th>Lsun</th><th>pc</th><th>pc</th><th></th><th>K</th><th>K</th><th></th><th>mag</th><th>mag</th><th>mag</th><th>mag</th><th></th><th></th><th></th><th></th><th>mas</th><th>mas</th><th>deg</th><th>deg</th><th>mas</th><th>mas</th><th></th><th></th><th></th></tr></thead>\n",
       "<thead><tr><th>int64</th><th>float64</th><th>float64</th><th>int32</th><th>object</th><th>object</th><th>object</th><th>int64</th><th>object</th><th>int64</th><th>int32</th><th>int32</th><th>object</th><th>object</th><th>object</th><th>float64</th><th>float32</th><th>float64</th><th>float32</th><th>object</th><th>float64</th><th>float32</th><th>object</th><th>float64</th><th>float64</th><th>float64</th><th>float64</th><th>float32</th><th>float32</th><th>float32</th><th>float32</th><th>float32</th><th>float64</th><th>float32</th><th>float64</th><th>float32</th><th>float64</th><th>float32</th><th>float64</th><th>float32</th><th>float64</th><th>float32</th><th>float32</th><th>float32</th><th>float32</th><th>float32</th><th>float32</th><th>object</th><th>float32</th><th>float32</th><th>float32</th><th>float32</th><th>float32</th><th>float32</th><th>float32</th><th>float32</th><th>float64</th><th>float64</th><th>float32</th><th>float32</th><th>object</th><th>object</th><th>float32</th><th>float32</th><th>float32</th><th>float32</th><th>float32</th><th>float32</th><th>float64</th><th>float32</th><th>float32</th><th>float32</th><th>float64</th><th>float64</th><th>object</th><th>float64</th><th>float64</th><th>float64</th><th>float64</th><th>float32</th><th>float32</th><th>int32</th><th>float64</th><th>object</th><th>int64</th><th>float64</th><th>float32</th><th>float32</th><th>object</th><th>float32</th><th>float32</th><th>float32</th><th>float32</th><th>float64</th><th>float64</th><th>float32</th><th>float32</th><th>float64</th><th>float64</th><th>float64</th><th>float64</th><th>object</th><th>float32</th><th>float32</th><th>object</th><th>float64</th><th>float64</th><th>float64</th><th>float64</th><th>int16</th><th>object</th><th>object</th><th>object</th><th>float64</th><th>float64</th><th>float64</th><th>float64</th><th>float64</th><th>float64</th><th>int16</th><th>int16</th><th>int32</th></tr></thead>\n",
       "<tr><td>377780790</td><td>285.67942179238</td><td>50.24130576642</td><td>--</td><td></td><td>702-062695</td><td>19024305+5014286</td><td>--</td><td>J190243.03+501429.1</td><td>2132155017099178624</td><td>--</td><td>11904151</td><td>STAR</td><td>tmgaia2</td><td>tmgaia2</td><td>-18.394</td><td>0.045</td><td>41.448</td><td>0.046</td><td>gaia2</td><td>5.3619</td><td>0.0233</td><td>gaia2</td><td>80.48973434189</td><td>18.81612807429</td><td>303.70102580688</td><td>71.84987860932</td><td>12.258</td><td>0.067</td><td>11.043</td><td>0.023</td><td>--</td><td>--</td><td>--</td><td>--</td><td>--</td><td>--</td><td>--</td><td>--</td><td>--</td><td>--</td><td>9.889</td><td>0.022</td><td>9.563</td><td>0.025</td><td>9.496</td><td>0.021</td><td>AAA-222-111-000-0-0</td><td>9.44</td><td>0.023</td><td>9.491</td><td>0.02</td><td>9.443</td><td>0.029</td><td>9.403</td><td>0.482</td><td>10.9191</td><td>0.000318</td><td>10.477</td><td>0.006</td><td>rered</td><td>spect</td><td>5706.0</td><td>141.0</td><td>4.3707</td><td>0.0854</td><td>-0.12</td><td>0.1</td><td>1.09</td><td>0.061</td><td>1.017</td><td>0.128</td><td>0.7859</td><td>0.1845</td><td>DWARF</td><td>1.13414</td><td>0.03284</td><td>185.506</td><td>0.808</td><td>0.0107</td><td>0.0037</td><td>223</td><td>0.0101</td><td></td><td>--</td><td>0.002668</td><td>0.0028</td><td>0.0046</td><td>panstarrs</td><td>0.119</td><td>0.138</td><td>0.061</td><td>0.061</td><td>0.1571</td><td>0.2119</td><td>0.1042</td><td>0.0666</td><td>0.03598</td><td>0.0297</td><td>0.805</td><td>0.811</td><td>bj2018</td><td>125.2</td><td>156.8</td><td>spect</td><td>11.2713</td><td>0.001006</td><td>10.4273</td><td>0.000585</td><td>1</td><td>ucac4</td><td>bpbj</td><td></td><td>0.767293</td><td>0.711508</td><td>285.67929796407</td><td>50.24148422359</td><td>0.020474</td><td>0.024043</td><td>1</td><td>0</td><td>237087497</td></tr>\n",
       "</table></div>"
      ],
      "text/plain": [
       "<CatalogResult length=1>\n",
       "   TIC        RAJ2000        DEJ2000      HIP   TYC     UCAC4         _2MASS      ...     DEOdeg     e_RAOdeg e_DEOdeg RadFl  WDFl     ID   \n",
       "                deg            deg                                                ...      deg         mas      mas                         \n",
       "  int64       float64        float64     int32 object   object        object      ...    float64     float64  float64  int16 int16   int32  \n",
       "--------- --------------- -------------- ----- ------ ---------- ---------------- ... -------------- -------- -------- ----- ----- ---------\n",
       "377780790 285.67942179238 50.24130576642    --        702-062695 19024305+5014286 ... 50.24148422359 0.020474 0.024043     1     0 237087497"
      ]
     },
     "execution_count": 16,
     "metadata": {},
     "output_type": "execute_result"
    }
   ],
   "source": [
    "CatalogSearch.QueryID(\"Gaia DR3 2132155017099178624\", catalog=\"tic\")"
   ]
  },
  {
   "cell_type": "markdown",
   "id": "2d613dbe-1b6a-4ce2-8104-2050e22800eb",
   "metadata": {},
   "source": [
    "We can also supply an integer ID, but if so we MUST specify what catalog to search"
   ]
  },
  {
   "cell_type": "code",
   "execution_count": 17,
   "id": "5c1b473b-cdda-4f4f-8f54-0d3ba79df22a",
   "metadata": {},
   "outputs": [
    {
     "data": {
      "text/html": [
       "<div><i>CatalogResult length=1</i>\n",
       "<table id=\"table5222176944\" class=\"table-striped table-bordered table-condensed\">\n",
       "<thead><tr><th>DR3Name</th><th>RA_ICRS</th><th>DE_ICRS</th><th>SolID</th><th>Source</th><th>RandomI</th><th>e_RA_ICRS</th><th>e_DE_ICRS</th><th>Plx</th><th>e_Plx</th><th>RPlx</th><th>PM</th><th>pmRA</th><th>e_pmRA</th><th>pmDE</th><th>e_pmDE</th><th>RADEcor</th><th>RAPlxcor</th><th>RApmRAcor</th><th>RApmDEcor</th><th>DEPlxcor</th><th>DEpmRAcor</th><th>DEpmDEcor</th><th>PlxpmRAcor</th><th>PlxpmDEcor</th><th>pmRApmDEcor</th><th>NAL</th><th>NAC</th><th>NgAL</th><th>NbAL</th><th>gofAL</th><th>chi2AL</th><th>epsi</th><th>sepsi</th><th>Solved</th><th>APF</th><th>nueff</th><th>pscol</th><th>e_pscol</th><th>RApscolCorr</th><th>DEpscolCorr</th><th>PlxpscolCorr</th><th>pmRApscolCorr</th><th>pmDEpscolCorr</th><th>MatchObsA</th><th>Nper</th><th>amax</th><th>MatchObs</th><th>NewMatchObs</th><th>MatchObsrm</th><th>IPDgofha</th><th>IPDgofhp</th><th>IPDfmp</th><th>IPDfow</th><th>RUWE</th><th>SDSk1</th><th>SDSk2</th><th>SDSk3</th><th>SDSk4</th><th>SDMk1</th><th>SDMk2</th><th>SDMk3</th><th>SDMk4</th><th>Dup</th><th>o_Gmag</th><th>FG</th><th>e_FG</th><th>RFG</th><th>Gmag</th><th>e_Gmag</th><th>o_BPmag</th><th>FBP</th><th>e_FBP</th><th>RFBP</th><th>BPmag</th><th>e_BPmag</th><th>o_RPmag</th><th>FRP</th><th>e_FRP</th><th>RFRP</th><th>RPmag</th><th>e_RPmag</th><th>E_BP_RP_</th><th>NBPcont</th><th>NBPblend</th><th>NRPcont</th><th>NRPblend</th><th>Mode</th><th>BP-RP</th><th>BP-G</th><th>G-RP</th><th>RV</th><th>e_RV</th><th>n_RV</th><th>o_RV</th><th>o_RVd</th><th>RVNper</th><th>RVS_N</th><th>RVgof</th><th>RVchi2</th><th>RVTdur</th><th>RVamp</th><th>RVtempTeff</th><th>RVtemplogg</th><th>RVtemp_Fe_H_</th><th>Vatmparam</th><th>Vbroad</th><th>e_Vbroad</th><th>o_Vbroad</th><th>GRVSmag</th><th>e_GRVSmag</th><th>o_GRVSmag</th><th>RVSS_N</th><th>VarFlag</th><th>GLON</th><th>GLAT</th><th>ELON</th><th>ELAT</th><th>QSO</th><th>Gal</th><th>NSS</th><th>XPcont</th><th>XPsamp</th><th>RVS</th><th>EpochPh</th><th>EpochRV</th><th>MCMCGSP</th><th>MCMCMSC</th><th>And</th><th>PQSO</th><th>PGal</th><th>PSS</th><th>Teff</th><th>b_Teff</th><th>B_Teff</th><th>logg</th><th>b_logg</th><th>B_logg</th><th>__Fe_H_</th><th>b__Fe_H_</th><th>B__Fe_H_</th><th>Dist</th><th>b_Dist</th><th>B_Dist</th><th>A0</th><th>b_A0</th><th>B_A0</th><th>AG</th><th>b_AG</th><th>B_AG</th><th>E_BP-RP_</th><th>b_E_BP-RP_</th><th>B_E_BP-RP_</th><th>Lib</th><th>HIP</th><th>dHIP</th><th>nHIP</th><th>f_HIP</th><th>PS1coid</th><th>PS1</th><th>dPS1</th><th>nPS1</th><th>mPS1</th><th>f_PS1</th><th>SDSS13coid</th><th>SDSS13</th><th>dSDSS13</th><th>nSDSS13</th><th>mSDSS13</th><th>f_SDSS13</th><th>SKYM2</th><th>dSKYM2</th><th>nSKYM2</th><th>mSKYM2</th><th>f_SKYM2</th><th>TYC2</th><th>dTYC2</th><th>f_TYC2</th><th>TYC2moid</th><th>nTYC2</th><th>URAT1</th><th>dURAT1</th><th>f_URAT1</th><th>URAT1oid</th><th>nURAT1</th><th>mURAT1</th><th>AllWISE</th><th>dAllWISE</th><th>f_AllWISE</th><th>AllWISEoid</th><th>nAllWISE</th><th>mAllWISE</th><th>APASS9coid</th><th>APASS9</th><th>dAPASS9</th><th>nAPASS9</th><th>mAPASS9</th><th>f_APASS9</th><th>GSC23</th><th>dGSC23</th><th>f_GSC23</th><th>GSC23coid</th><th>nGSC23</th><th>mGSC23</th><th>RAVE5</th><th>dRAVE5</th><th>f_RAVE5</th><th>RAVE5coid</th><th>nRAVE5</th><th>_2MASS</th><th>d2MASS</th><th>f_2MASS</th><th>_2MASScoid</th><th>n2MASS</th><th>m2MASS</th><th>RAVE6</th><th>dRAVE6</th><th>f_RAVE6</th><th>RAVE6oid</th><th>nRAVE6</th><th>RAJ2000</th><th>DEJ2000</th><th>e_RAJ2000</th><th>e_DEJ2000</th><th>RADEcorJ2000</th></tr></thead>\n",
       "<thead><tr><th></th><th>deg</th><th>deg</th><th></th><th></th><th></th><th>mas</th><th>mas</th><th>mas</th><th>mas</th><th></th><th>mas / yr</th><th>mas / yr</th><th>mas / yr</th><th>mas / yr</th><th>mas / yr</th><th></th><th></th><th></th><th></th><th></th><th></th><th></th><th></th><th></th><th></th><th></th><th></th><th></th><th></th><th></th><th></th><th>mas</th><th></th><th></th><th></th><th>1 / um</th><th>1 / um</th><th>1 / um</th><th></th><th></th><th></th><th></th><th></th><th></th><th></th><th>mas</th><th></th><th></th><th></th><th></th><th>deg</th><th></th><th></th><th></th><th></th><th></th><th></th><th></th><th></th><th></th><th></th><th>deg</th><th></th><th></th><th></th><th></th><th></th><th>mag</th><th>mag</th><th></th><th></th><th></th><th></th><th>mag</th><th>mag</th><th></th><th></th><th></th><th></th><th>mag</th><th>mag</th><th>mag</th><th></th><th></th><th></th><th></th><th></th><th>mag</th><th>mag</th><th>mag</th><th>km / s</th><th>km / s</th><th></th><th></th><th></th><th></th><th></th><th></th><th></th><th>d</th><th>km / s</th><th>K</th><th>log(cm.s**-2)</th><th></th><th></th><th>km / s</th><th>km / s</th><th></th><th>mag</th><th>mag</th><th></th><th></th><th></th><th>deg</th><th>deg</th><th>deg</th><th>deg</th><th></th><th></th><th></th><th></th><th></th><th></th><th></th><th></th><th></th><th></th><th></th><th></th><th></th><th></th><th>K</th><th>K</th><th>K</th><th>log(cm.s**-2)</th><th>log(cm.s**-2)</th><th>log(cm.s**-2)</th><th></th><th></th><th></th><th>pc</th><th>pc</th><th>pc</th><th>mag</th><th>mag</th><th>mag</th><th>mag</th><th>mag</th><th>mag</th><th>mag</th><th>mag</th><th>mag</th><th></th><th></th><th>mas</th><th></th><th></th><th></th><th></th><th>mas</th><th></th><th></th><th></th><th></th><th></th><th>mas</th><th></th><th></th><th></th><th></th><th>mas</th><th></th><th></th><th></th><th></th><th>mas</th><th></th><th></th><th></th><th></th><th>mas</th><th></th><th></th><th></th><th></th><th></th><th>mas</th><th></th><th></th><th></th><th></th><th></th><th></th><th>mas</th><th></th><th></th><th></th><th></th><th>mas</th><th></th><th></th><th></th><th></th><th></th><th>mas</th><th></th><th></th><th></th><th></th><th>mas</th><th></th><th></th><th></th><th></th><th></th><th>mas</th><th></th><th></th><th></th><th>deg</th><th>deg</th><th>mas</th><th>mas</th><th></th></tr></thead>\n",
       "<thead><tr><th>object</th><th>float64</th><th>float64</th><th>int64</th><th>int64</th><th>int64</th><th>float32</th><th>float32</th><th>float64</th><th>float32</th><th>float64</th><th>float64</th><th>float64</th><th>float32</th><th>float64</th><th>float64</th><th>float32</th><th>float32</th><th>float32</th><th>float32</th><th>float32</th><th>float32</th><th>float32</th><th>float32</th><th>float32</th><th>float32</th><th>int16</th><th>int16</th><th>int16</th><th>int16</th><th>float64</th><th>float64</th><th>float64</th><th>float64</th><th>int16</th><th>int16</th><th>float32</th><th>float32</th><th>float32</th><th>float32</th><th>float32</th><th>float32</th><th>float32</th><th>float32</th><th>int16</th><th>int16</th><th>float64</th><th>int16</th><th>int16</th><th>int16</th><th>float64</th><th>float64</th><th>int16</th><th>int16</th><th>float32</th><th>float64</th><th>float64</th><th>float64</th><th>float64</th><th>float64</th><th>float32</th><th>float32</th><th>float32</th><th>int16</th><th>int16</th><th>float64</th><th>float64</th><th>float64</th><th>float64</th><th>float64</th><th>int16</th><th>float64</th><th>float64</th><th>float64</th><th>float64</th><th>float64</th><th>int16</th><th>float64</th><th>float64</th><th>float64</th><th>float64</th><th>float64</th><th>float64</th><th>int16</th><th>int16</th><th>int16</th><th>int16</th><th>int16</th><th>float64</th><th>float64</th><th>float64</th><th>float32</th><th>float32</th><th>int16</th><th>int16</th><th>int16</th><th>int16</th><th>float64</th><th>float64</th><th>float64</th><th>float64</th><th>float32</th><th>float32</th><th>float32</th><th>float32</th><th>int16</th><th>float64</th><th>float64</th><th>int16</th><th>float64</th><th>float64</th><th>int16</th><th>float64</th><th>object</th><th>float64</th><th>float64</th><th>float64</th><th>float64</th><th>int16</th><th>int16</th><th>int16</th><th>int16</th><th>int16</th><th>int16</th><th>int16</th><th>int16</th><th>int16</th><th>int16</th><th>int16</th><th>float64</th><th>float64</th><th>float64</th><th>float32</th><th>float32</th><th>float32</th><th>float32</th><th>float32</th><th>float32</th><th>float32</th><th>float32</th><th>float32</th><th>float64</th><th>float64</th><th>float64</th><th>float32</th><th>float32</th><th>float32</th><th>float32</th><th>float32</th><th>float32</th><th>float32</th><th>float32</th><th>float32</th><th>object</th><th>int32</th><th>float64</th><th>int16</th><th>int16</th><th>int64</th><th>int64</th><th>float64</th><th>int16</th><th>int16</th><th>int16</th><th>int32</th><th>int64</th><th>float64</th><th>int16</th><th>int16</th><th>int16</th><th>int32</th><th>float64</th><th>int16</th><th>int16</th><th>int16</th><th>object</th><th>float64</th><th>int16</th><th>int32</th><th>int16</th><th>object</th><th>float64</th><th>int16</th><th>int32</th><th>int16</th><th>int16</th><th>object</th><th>float64</th><th>int16</th><th>int32</th><th>int16</th><th>int16</th><th>int32</th><th>int32</th><th>float64</th><th>int16</th><th>int16</th><th>int16</th><th>object</th><th>float64</th><th>int16</th><th>int32</th><th>int16</th><th>int16</th><th>object</th><th>float64</th><th>int16</th><th>float64</th><th>int16</th><th>object</th><th>float64</th><th>int16</th><th>int32</th><th>int16</th><th>int16</th><th>object</th><th>float64</th><th>int16</th><th>float64</th><th>int16</th><th>float64</th><th>float64</th><th>float64</th><th>float64</th><th>float32</th></tr></thead>\n",
       "<tr><td>Gaia DR3 2132155017099178624</td><td>285.67929401534</td><td>50.24148992495</td><td>1636148068921376768</td><td>2132155017099178624</td><td>712720541</td><td>0.0097</td><td>0.0105</td><td>5.3698</td><td>0.0103</td><td>521.1521</td><td>45.322</td><td>-18.483</td><td>0.012</td><td>41.382</td><td>0.013</td><td>-0.0139</td><td>0.0622</td><td>-0.0681</td><td>-0.1702</td><td>0.0472</td><td>-0.1583</td><td>-0.201</td><td>-0.0394</td><td>-0.1374</td><td>-0.0691</td><td>360</td><td>360</td><td>356</td><td>4</td><td>-2.6955</td><td>715.4011</td><td>0.087</td><td>11.463339</td><td>31</td><td>0</td><td>1.551</td><td>--</td><td>--</td><td>--</td><td>--</td><td>--</td><td>--</td><td>--</td><td>41</td><td>26</td><td>0.018997</td><td>45</td><td>18</td><td>1</td><td>0.0057575256</td><td>124.68958</td><td>0</td><td>0</td><td>0.899</td><td>--</td><td>--</td><td>--</td><td>--</td><td>--</td><td>--</td><td>--</td><td>--</td><td>0</td><td>355</td><td>807113.66018</td><td>99.63456</td><td>8100.7397</td><td>10.920031</td><td>0.002759</td><td>39</td><td>430541.4769106057</td><td>224.45926</td><td>1918.1274</td><td>11.253505</td><td>0.002847</td><td>39</td><td>539327.9908645798</td><td>152.08717</td><td>3546.1768</td><td>10.418263</td><td>0.003792</td><td>1.202</td><td>0</td><td>4</td><td>0</td><td>0</td><td>0</td><td>0.835241</td><td>0.333474</td><td>0.501767</td><td>-98.44</td><td>0.24</td><td>1</td><td>16</td><td>1</td><td>14</td><td>60.55437</td><td>-1.8765258</td><td>0.960951</td><td>912.837</td><td>2.43</td><td>5750.0</td><td>4.5</td><td>-0.25</td><td>222</td><td>--</td><td>--</td><td>--</td><td>10.239054</td><td>0.011681</td><td>13</td><td>64.86836</td><td>NOT_AVAILABLE</td><td>80.48988219119</td><td>18.81626758615</td><td>303.70099565765</td><td>71.850079083</td><td>0</td><td>0</td><td>0</td><td>1</td><td>1</td><td>1</td><td>0</td><td>0</td><td>1</td><td>1</td><td>0</td><td>0.0</td><td>0.0</td><td>0.999661</td><td>5595.8</td><td>5594.4</td><td>5598.1</td><td>4.3544</td><td>4.3529</td><td>4.3558</td><td>-0.2251</td><td>-0.2294</td><td>-0.2204</td><td>185.2251</td><td>184.8608</td><td>185.6003</td><td>0.001</td><td>0.0002</td><td>0.0025</td><td>0.0008</td><td>1e-04</td><td>0.0021</td><td>0.0004</td><td>1e-04</td><td>0.0011</td><td>MARCS</td><td>--</td><td>--</td><td>--</td><td>--</td><td>--</td><td>--</td><td>--</td><td>--</td><td>--</td><td>--</td><td>--</td><td>--</td><td>--</td><td>--</td><td>--</td><td>--</td><td>--</td><td>--</td><td>--</td><td>--</td><td>--</td><td></td><td>--</td><td>--</td><td>--</td><td>--</td><td>URAT1-702270503</td><td>0.037142</td><td>40</td><td>180905639</td><td>1</td><td>0</td><td>J190243.03+501429.1</td><td>0.064949</td><td>8</td><td>656945243</td><td>1</td><td>0</td><td>--</td><td>--</td><td>--</td><td>--</td><td>--</td><td>--</td><td>N2E9000431</td><td>0.039655</td><td>8</td><td>844090484</td><td>1</td><td>0</td><td></td><td>--</td><td>--</td><td>--</td><td>--</td><td>19024305+5014286</td><td>0.070933</td><td>8</td><td>429830359</td><td>1</td><td>0</td><td></td><td>--</td><td>--</td><td>--</td><td>--</td><td>285.67942245427</td><td>50.24130600641</td><td>0.199479</td><td>0.217694</td><td>-0.0523</td></tr>\n",
       "</table></div>"
      ],
      "text/plain": [
       "<CatalogResult length=1>\n",
       "          DR3Name                RA_ICRS        DE_ICRS            SolID        ...    DEJ2000     e_RAJ2000 e_DEJ2000 RADEcorJ2000\n",
       "                                   deg            deg                           ...      deg          mas       mas                \n",
       "           object                float64        float64            int64        ...    float64      float64   float64    float32   \n",
       "---------------------------- --------------- -------------- ------------------- ... -------------- --------- --------- ------------\n",
       "Gaia DR3 2132155017099178624 285.67929401534 50.24148992495 1636148068921376768 ... 50.24130600641  0.199479  0.217694      -0.0523"
      ]
     },
     "execution_count": 17,
     "metadata": {},
     "output_type": "execute_result"
    }
   ],
   "source": [
    "CatalogSearch.QueryID(\"2132155017099178624\", catalog=\"gaiadr3\")"
   ]
  },
  {
   "cell_type": "markdown",
   "id": "6a0f83b9-74ad-424d-8a0e-a412ba5044f1",
   "metadata": {},
   "source": [
    "If we specify an integer and wish to use our limited cross-match, we can do that by specifying both the `input_catalog` and `catalog` parameters"
   ]
  },
  {
   "cell_type": "code",
   "execution_count": 18,
   "id": "d1209696-e696-4162-84e6-d1061f49f152",
   "metadata": {},
   "outputs": [
    {
     "data": {
      "text/html": [
       "<div><i>CatalogResult length=1</i>\n",
       "<table id=\"table5223864592\" class=\"table-striped table-bordered table-condensed\">\n",
       "<thead><tr><th>TIC</th><th>RAJ2000</th><th>DEJ2000</th><th>HIP</th><th>TYC</th><th>UCAC4</th><th>_2MASS</th><th>objID</th><th>WISEA</th><th>GAIA</th><th>APASS</th><th>KIC</th><th>S_G</th><th>Ref</th><th>r_Pos</th><th>pmRA</th><th>e_pmRA</th><th>pmDE</th><th>e_pmDE</th><th>r_pm</th><th>Plx</th><th>e_Plx</th><th>r_Plx</th><th>GLON</th><th>GLAT</th><th>ELON</th><th>ELAT</th><th>Bmag</th><th>e_Bmag</th><th>Vmag</th><th>e_Vmag</th><th>umag</th><th>e_umag</th><th>gmag</th><th>e_gmag</th><th>rmag</th><th>e_rmag</th><th>imag</th><th>e_imag</th><th>zmag</th><th>e_zmag</th><th>Jmag</th><th>e_Jmag</th><th>Hmag</th><th>e_Hmag</th><th>Kmag</th><th>e_Kmag</th><th>q_2MASS</th><th>W1mag</th><th>e_W1mag</th><th>W2mag</th><th>e_W2mag</th><th>W3mag</th><th>e_W3mag</th><th>W4mag</th><th>e_W4mag</th><th>Gmag</th><th>e_Gmag</th><th>Tmag</th><th>e_Tmag</th><th>f_Tmag</th><th>Flag</th><th>Teff</th><th>s_Teff</th><th>logg</th><th>s_logg</th><th>__M_H_</th><th>e__M_H_</th><th>Rad</th><th>s_Rad</th><th>Mass</th><th>s_Mass</th><th>rho</th><th>s_rho</th><th>LClass</th><th>Lum</th><th>s_Lum</th><th>Dist</th><th>s_Dist</th><th>E_B-V_</th><th>s_E_B-V_</th><th>Ncont</th><th>Rcont</th><th>Disp</th><th>m_TIC</th><th>Prior</th><th>e_E_B-V_</th><th>E_E_B-V_</th><th>f_E_B-V_</th><th>e_Mass</th><th>E_Mass</th><th>e_Rad</th><th>E_Rad</th><th>e_rho</th><th>E_rho</th><th>e_logg</th><th>E_logg</th><th>e_Lum</th><th>E_Lum</th><th>e_Dist</th><th>E_Dist</th><th>r_Dist</th><th>e_Teff</th><th>E_Teff</th><th>r_Teff</th><th>BPmag</th><th>e_BPmag</th><th>RPmag</th><th>e_RPmag</th><th>q_Gaia</th><th>r_Vmag</th><th>r_Bmag</th><th>Clist</th><th>e_RAJ2000</th><th>e_DEJ2000</th><th>RAOdeg</th><th>DEOdeg</th><th>e_RAOdeg</th><th>e_DEOdeg</th><th>RadFl</th><th>WDFl</th><th>ID</th></tr></thead>\n",
       "<thead><tr><th></th><th>deg</th><th>deg</th><th></th><th></th><th></th><th></th><th></th><th></th><th></th><th></th><th></th><th></th><th></th><th></th><th>mas / yr</th><th>mas / yr</th><th>mas / yr</th><th>mas / yr</th><th></th><th>mas</th><th>mas</th><th></th><th>deg</th><th>deg</th><th>deg</th><th>deg</th><th>mag</th><th>mag</th><th>mag</th><th>mag</th><th>mag</th><th>mag</th><th>mag</th><th>mag</th><th>mag</th><th>mag</th><th>mag</th><th>mag</th><th>mag</th><th>mag</th><th>mag</th><th>mag</th><th>mag</th><th>mag</th><th>mag</th><th>mag</th><th></th><th>mag</th><th>mag</th><th>mag</th><th>mag</th><th>mag</th><th>mag</th><th>mag</th><th>mag</th><th>mag</th><th>mag</th><th>mag</th><th>mag</th><th></th><th></th><th>K</th><th>K</th><th>log(cm.s**-2)</th><th>log(cm.s**-2)</th><th>log(Sun)</th><th>log(Sun)</th><th>Rsun</th><th>Rsun</th><th>Msun</th><th>Msun</th><th>Sun</th><th>Sun</th><th></th><th>Lsun</th><th>Lsun</th><th>pc</th><th>pc</th><th>mag</th><th>mag</th><th></th><th></th><th></th><th></th><th></th><th>mag</th><th>mag</th><th></th><th>Msun</th><th>Msun</th><th>Rsun</th><th>Rsun</th><th>Sun</th><th>Sun</th><th>log(cm.s**-2)</th><th>log(cm.s**-2)</th><th>Lsun</th><th>Lsun</th><th>pc</th><th>pc</th><th></th><th>K</th><th>K</th><th></th><th>mag</th><th>mag</th><th>mag</th><th>mag</th><th></th><th></th><th></th><th></th><th>mas</th><th>mas</th><th>deg</th><th>deg</th><th>mas</th><th>mas</th><th></th><th></th><th></th></tr></thead>\n",
       "<thead><tr><th>int64</th><th>float64</th><th>float64</th><th>int32</th><th>object</th><th>object</th><th>object</th><th>int64</th><th>object</th><th>int64</th><th>int32</th><th>int32</th><th>object</th><th>object</th><th>object</th><th>float64</th><th>float32</th><th>float64</th><th>float32</th><th>object</th><th>float64</th><th>float32</th><th>object</th><th>float64</th><th>float64</th><th>float64</th><th>float64</th><th>float32</th><th>float32</th><th>float32</th><th>float32</th><th>float32</th><th>float64</th><th>float32</th><th>float64</th><th>float32</th><th>float64</th><th>float32</th><th>float64</th><th>float32</th><th>float64</th><th>float32</th><th>float32</th><th>float32</th><th>float32</th><th>float32</th><th>float32</th><th>object</th><th>float32</th><th>float32</th><th>float32</th><th>float32</th><th>float32</th><th>float32</th><th>float32</th><th>float32</th><th>float64</th><th>float64</th><th>float32</th><th>float32</th><th>object</th><th>object</th><th>float32</th><th>float32</th><th>float32</th><th>float32</th><th>float32</th><th>float32</th><th>float64</th><th>float32</th><th>float32</th><th>float32</th><th>float64</th><th>float64</th><th>object</th><th>float64</th><th>float64</th><th>float64</th><th>float64</th><th>float32</th><th>float32</th><th>int32</th><th>float64</th><th>object</th><th>int64</th><th>float64</th><th>float32</th><th>float32</th><th>object</th><th>float32</th><th>float32</th><th>float32</th><th>float32</th><th>float64</th><th>float64</th><th>float32</th><th>float32</th><th>float64</th><th>float64</th><th>float64</th><th>float64</th><th>object</th><th>float32</th><th>float32</th><th>object</th><th>float64</th><th>float64</th><th>float64</th><th>float64</th><th>int16</th><th>object</th><th>object</th><th>object</th><th>float64</th><th>float64</th><th>float64</th><th>float64</th><th>float64</th><th>float64</th><th>int16</th><th>int16</th><th>int32</th></tr></thead>\n",
       "<tr><td>377780790</td><td>285.67942179238</td><td>50.24130576642</td><td>--</td><td></td><td>702-062695</td><td>19024305+5014286</td><td>--</td><td>J190243.03+501429.1</td><td>2132155017099178624</td><td>--</td><td>11904151</td><td>STAR</td><td>tmgaia2</td><td>tmgaia2</td><td>-18.394</td><td>0.045</td><td>41.448</td><td>0.046</td><td>gaia2</td><td>5.3619</td><td>0.0233</td><td>gaia2</td><td>80.48973434189</td><td>18.81612807429</td><td>303.70102580688</td><td>71.84987860932</td><td>12.258</td><td>0.067</td><td>11.043</td><td>0.023</td><td>--</td><td>--</td><td>--</td><td>--</td><td>--</td><td>--</td><td>--</td><td>--</td><td>--</td><td>--</td><td>9.889</td><td>0.022</td><td>9.563</td><td>0.025</td><td>9.496</td><td>0.021</td><td>AAA-222-111-000-0-0</td><td>9.44</td><td>0.023</td><td>9.491</td><td>0.02</td><td>9.443</td><td>0.029</td><td>9.403</td><td>0.482</td><td>10.9191</td><td>0.000318</td><td>10.477</td><td>0.006</td><td>rered</td><td>spect</td><td>5706.0</td><td>141.0</td><td>4.3707</td><td>0.0854</td><td>-0.12</td><td>0.1</td><td>1.09</td><td>0.061</td><td>1.017</td><td>0.128</td><td>0.7859</td><td>0.1845</td><td>DWARF</td><td>1.13414</td><td>0.03284</td><td>185.506</td><td>0.808</td><td>0.0107</td><td>0.0037</td><td>223</td><td>0.0101</td><td></td><td>--</td><td>0.002668</td><td>0.0028</td><td>0.0046</td><td>panstarrs</td><td>0.119</td><td>0.138</td><td>0.061</td><td>0.061</td><td>0.1571</td><td>0.2119</td><td>0.1042</td><td>0.0666</td><td>0.03598</td><td>0.0297</td><td>0.805</td><td>0.811</td><td>bj2018</td><td>125.2</td><td>156.8</td><td>spect</td><td>11.2713</td><td>0.001006</td><td>10.4273</td><td>0.000585</td><td>1</td><td>ucac4</td><td>bpbj</td><td></td><td>0.767293</td><td>0.711508</td><td>285.67929796407</td><td>50.24148422359</td><td>0.020474</td><td>0.024043</td><td>1</td><td>0</td><td>237087497</td></tr>\n",
       "</table></div>"
      ],
      "text/plain": [
       "<CatalogResult length=1>\n",
       "   TIC        RAJ2000        DEJ2000      HIP   TYC     UCAC4         _2MASS      ...     DEOdeg     e_RAOdeg e_DEOdeg RadFl  WDFl     ID   \n",
       "                deg            deg                                                ...      deg         mas      mas                         \n",
       "  int64       float64        float64     int32 object   object        object      ...    float64     float64  float64  int16 int16   int32  \n",
       "--------- --------------- -------------- ----- ------ ---------- ---------------- ... -------------- -------- -------- ----- ----- ---------\n",
       "377780790 285.67942179238 50.24130576642    --        702-062695 19024305+5014286 ... 50.24148422359 0.020474 0.024043     1     0 237087497"
      ]
     },
     "execution_count": 18,
     "metadata": {},
     "output_type": "execute_result"
    }
   ],
   "source": [
    "CatalogSearch.QueryID(\"2132155017099178624\", catalog=\"tic\", input_catalog=\"gaiadr3\")"
   ]
  },
  {
   "cell_type": "markdown",
   "id": "97df2dd7-f970-496a-ad3e-6cc30ca0bd47",
   "metadata": {},
   "source": [
    "We can also search for multiple IDS from a single catalog and get a table of all of the resulting catalog entries"
   ]
  },
  {
   "cell_type": "code",
   "execution_count": 19,
   "id": "5ff097ae-9182-4075-b9d0-1fa500c673f2",
   "metadata": {},
   "outputs": [
    {
     "data": {
      "text/html": [
       "<div><i>CatalogResult length=10</i>\n",
       "<table id=\"table5217870736\" class=\"table-striped table-bordered table-condensed\">\n",
       "<thead><tr><th>TIC</th><th>RAJ2000</th><th>DEJ2000</th><th>HIP</th><th>TYC</th><th>UCAC4</th><th>_2MASS</th><th>objID</th><th>WISEA</th><th>GAIA</th><th>APASS</th><th>KIC</th><th>S_G</th><th>Ref</th><th>r_Pos</th><th>pmRA</th><th>e_pmRA</th><th>pmDE</th><th>e_pmDE</th><th>r_pm</th><th>Plx</th><th>e_Plx</th><th>r_Plx</th><th>GLON</th><th>GLAT</th><th>ELON</th><th>ELAT</th><th>Bmag</th><th>e_Bmag</th><th>Vmag</th><th>e_Vmag</th><th>umag</th><th>e_umag</th><th>gmag</th><th>e_gmag</th><th>rmag</th><th>e_rmag</th><th>imag</th><th>e_imag</th><th>zmag</th><th>e_zmag</th><th>Jmag</th><th>e_Jmag</th><th>Hmag</th><th>e_Hmag</th><th>Kmag</th><th>e_Kmag</th><th>q_2MASS</th><th>W1mag</th><th>e_W1mag</th><th>W2mag</th><th>e_W2mag</th><th>W3mag</th><th>e_W3mag</th><th>W4mag</th><th>e_W4mag</th><th>Gmag</th><th>e_Gmag</th><th>Tmag</th><th>e_Tmag</th><th>f_Tmag</th><th>Flag</th><th>Teff</th><th>s_Teff</th><th>logg</th><th>s_logg</th><th>__M_H_</th><th>e__M_H_</th><th>Rad</th><th>s_Rad</th><th>Mass</th><th>s_Mass</th><th>rho</th><th>s_rho</th><th>LClass</th><th>Lum</th><th>s_Lum</th><th>Dist</th><th>s_Dist</th><th>E_B-V_</th><th>s_E_B-V_</th><th>Ncont</th><th>Rcont</th><th>Disp</th><th>m_TIC</th><th>Prior</th><th>e_E_B-V_</th><th>E_E_B-V_</th><th>f_E_B-V_</th><th>e_Mass</th><th>E_Mass</th><th>e_Rad</th><th>E_Rad</th><th>e_rho</th><th>E_rho</th><th>e_logg</th><th>E_logg</th><th>e_Lum</th><th>E_Lum</th><th>e_Dist</th><th>E_Dist</th><th>r_Dist</th><th>e_Teff</th><th>E_Teff</th><th>r_Teff</th><th>BPmag</th><th>e_BPmag</th><th>RPmag</th><th>e_RPmag</th><th>q_Gaia</th><th>r_Vmag</th><th>r_Bmag</th><th>Clist</th><th>e_RAJ2000</th><th>e_DEJ2000</th><th>RAOdeg</th><th>DEOdeg</th><th>e_RAOdeg</th><th>e_DEOdeg</th><th>RadFl</th><th>WDFl</th><th>ID</th></tr></thead>\n",
       "<thead><tr><th></th><th>deg</th><th>deg</th><th></th><th></th><th></th><th></th><th></th><th></th><th></th><th></th><th></th><th></th><th></th><th></th><th>mas / yr</th><th>mas / yr</th><th>mas / yr</th><th>mas / yr</th><th></th><th>mas</th><th>mas</th><th></th><th>deg</th><th>deg</th><th>deg</th><th>deg</th><th>mag</th><th>mag</th><th>mag</th><th>mag</th><th>mag</th><th>mag</th><th>mag</th><th>mag</th><th>mag</th><th>mag</th><th>mag</th><th>mag</th><th>mag</th><th>mag</th><th>mag</th><th>mag</th><th>mag</th><th>mag</th><th>mag</th><th>mag</th><th></th><th>mag</th><th>mag</th><th>mag</th><th>mag</th><th>mag</th><th>mag</th><th>mag</th><th>mag</th><th>mag</th><th>mag</th><th>mag</th><th>mag</th><th></th><th></th><th>K</th><th>K</th><th>log(cm.s**-2)</th><th>log(cm.s**-2)</th><th>log(Sun)</th><th>log(Sun)</th><th>Rsun</th><th>Rsun</th><th>Msun</th><th>Msun</th><th>Sun</th><th>Sun</th><th></th><th>Lsun</th><th>Lsun</th><th>pc</th><th>pc</th><th>mag</th><th>mag</th><th></th><th></th><th></th><th></th><th></th><th>mag</th><th>mag</th><th></th><th>Msun</th><th>Msun</th><th>Rsun</th><th>Rsun</th><th>Sun</th><th>Sun</th><th>log(cm.s**-2)</th><th>log(cm.s**-2)</th><th>Lsun</th><th>Lsun</th><th>pc</th><th>pc</th><th></th><th>K</th><th>K</th><th></th><th>mag</th><th>mag</th><th>mag</th><th>mag</th><th></th><th></th><th></th><th></th><th>mas</th><th>mas</th><th>deg</th><th>deg</th><th>mas</th><th>mas</th><th></th><th></th><th></th></tr></thead>\n",
       "<thead><tr><th>int64</th><th>float64</th><th>float64</th><th>int32</th><th>object</th><th>object</th><th>object</th><th>int64</th><th>object</th><th>int64</th><th>int32</th><th>int32</th><th>object</th><th>object</th><th>object</th><th>float64</th><th>float32</th><th>float64</th><th>float32</th><th>object</th><th>float64</th><th>float32</th><th>object</th><th>float64</th><th>float64</th><th>float64</th><th>float64</th><th>float32</th><th>float32</th><th>float32</th><th>float32</th><th>float32</th><th>float64</th><th>float32</th><th>float64</th><th>float32</th><th>float64</th><th>float32</th><th>float64</th><th>float32</th><th>float64</th><th>float32</th><th>float32</th><th>float32</th><th>float32</th><th>float32</th><th>float32</th><th>object</th><th>float32</th><th>float32</th><th>float32</th><th>float32</th><th>float32</th><th>float32</th><th>float32</th><th>float32</th><th>float64</th><th>float64</th><th>float32</th><th>float32</th><th>object</th><th>object</th><th>float32</th><th>float32</th><th>float32</th><th>float32</th><th>float32</th><th>float32</th><th>float64</th><th>float32</th><th>float32</th><th>float32</th><th>float64</th><th>float64</th><th>object</th><th>float64</th><th>float64</th><th>float64</th><th>float64</th><th>float32</th><th>float32</th><th>int32</th><th>float64</th><th>object</th><th>int64</th><th>float64</th><th>float32</th><th>float32</th><th>object</th><th>float32</th><th>float32</th><th>float32</th><th>float32</th><th>float64</th><th>float64</th><th>float32</th><th>float32</th><th>float64</th><th>float64</th><th>float64</th><th>float64</th><th>object</th><th>float32</th><th>float32</th><th>object</th><th>float64</th><th>float64</th><th>float64</th><th>float64</th><th>int16</th><th>object</th><th>object</th><th>object</th><th>float64</th><th>float64</th><th>float64</th><th>float64</th><th>float64</th><th>float64</th><th>int16</th><th>int16</th><th>int32</th></tr></thead>\n",
       "<tr><td>27916356</td><td>296.83724132289</td><td>48.23993319637</td><td>--</td><td></td><td>692-068460</td><td>19472094+4814238</td><td>--</td><td>J194720.94+481423.9</td><td>2086636884980514304</td><td>54466301</td><td>10874614</td><td>STAR</td><td>tmgaia2</td><td>tmgaia2</td><td>0.961</td><td>0.025</td><td>8.429</td><td>0.026</td><td>gaia2</td><td>1.6747</td><td>0.0145</td><td>gaia2</td><td>81.69266112428</td><td>11.35938157922</td><td>320.42485523961</td><td>67.03995916388</td><td>14.051</td><td>0.175</td><td>13.286</td><td>0.08</td><td>--</td><td>--</td><td>--</td><td>--</td><td>--</td><td>--</td><td>--</td><td>--</td><td>--</td><td>--</td><td>12.001</td><td>0.021</td><td>11.706</td><td>0.019</td><td>11.634</td><td>0.019</td><td>AAA-222-111-000-0-0</td><td>11.585</td><td>0.022</td><td>11.643</td><td>0.021</td><td>11.494</td><td>0.141</td><td>8.965</td><td>--</td><td>13.1714</td><td>0.000286</td><td>12.688</td><td>0.007</td><td>rered</td><td>spect</td><td>5613.0</td><td>107.7</td><td>4.196</td><td>0.076</td><td>0.27</td><td>0.1</td><td>1.315</td><td>0.06</td><td>0.99</td><td>0.132</td><td>0.4356</td><td>0.0899</td><td>DWARF</td><td>1.54582</td><td>0.04946</td><td>587.039</td><td>5.0285</td><td>0.0397</td><td>0.0038</td><td>560</td><td>0.2498</td><td></td><td>--</td><td>0.000438</td><td>0.0026</td><td>0.0051</td><td>panstarrs</td><td>0.102</td><td>0.161</td><td>0.046</td><td>0.073</td><td>0.0609</td><td>0.1189</td><td>0.089</td><td>0.063</td><td>0.0644</td><td>0.03452</td><td>4.986</td><td>5.071</td><td>bj2018</td><td>89.9</td><td>125.6</td><td>spect</td><td>13.5617</td><td>0.001563</td><td>12.6346</td><td>0.000856</td><td>1</td><td>ucac4</td><td>apassdr9</td><td></td><td>0.431661</td><td>0.4011</td><td>296.83724753744</td><td>48.23996948867</td><td>0.011393</td><td>0.014386</td><td>1</td><td>0</td><td>338972619</td></tr>\n",
       "<tr><td>28230919</td><td>297.70936440263</td><td>48.08086037921</td><td>97657</td><td>3561-02092-1</td><td>691-070316</td><td>19505021+4804508</td><td>--</td><td></td><td>2086512227851023872</td><td>54470133</td><td>10748390</td><td>STAR</td><td>tmgaia2</td><td>tmgaia2</td><td>125.984</td><td>0.041</td><td>232.988</td><td>0.045</td><td>gaia2</td><td>26.4508</td><td>0.0234</td><td>gaia2</td><td>81.83370338271</td><td>10.77238081693</td><td>321.54803605747</td><td>66.62944166359</td><td>10.556</td><td>0.141</td><td>9.46</td><td>0.03</td><td>--</td><td>--</td><td>--</td><td>--</td><td>--</td><td>--</td><td>--</td><td>--</td><td>--</td><td>--</td><td>7.608</td><td>0.029</td><td>7.131</td><td>0.021</td><td>7.009</td><td>0.02</td><td>AAA-111-111-000-0-0</td><td>--</td><td>--</td><td>--</td><td>--</td><td>--</td><td>--</td><td>--</td><td>--</td><td>9.15098</td><td>0.000293</td><td>8.508</td><td>0.006</td><td>gbprp</td><td>spect</td><td>4777.6</td><td>112.9</td><td>4.5631</td><td>0.0865</td><td>0.2996</td><td>0.0527</td><td>0.76</td><td>0.048</td><td>0.77</td><td>0.088</td><td>1.7551</td><td>0.4368</td><td>DWARF</td><td>0.27101</td><td>0.00903</td><td>37.7647</td><td>0.0337</td><td>0.0</td><td>0.0</td><td>627</td><td>0.0186</td><td></td><td>--</td><td>0.010943</td><td>0.0</td><td>0.0</td><td></td><td>0.076</td><td>0.1</td><td>0.051</td><td>0.045</td><td>0.4186</td><td>0.455</td><td>0.0805</td><td>0.0925</td><td>0.00981</td><td>0.00825</td><td>0.0336</td><td>0.0337</td><td>bj2018</td><td>107.4</td><td>118.4</td><td>spect</td><td>9.74374</td><td>0.001652</td><td>8.46507</td><td>0.001891</td><td>1</td><td>hipvmag</td><td>apassdr9</td><td></td><td>0.689515</td><td>0.697757</td><td>297.71017632661</td><td>48.08186352485</td><td>0.019271</td><td>0.024141</td><td>1</td><td>0</td><td>347873767</td></tr>\n",
       "<tr><td>120571842</td><td>285.57397671045</td><td>38.40088256878</td><td>--</td><td></td><td>643-065464</td><td>19021775+3824032</td><td>1237668734687445781</td><td>J190217.77+382402.9</td><td>2099925719951103872</td><td>--</td><td>3323887</td><td>STAR</td><td>tmgaia2</td><td>tmgaia2</td><td>2.491</td><td>0.028</td><td>-14.713</td><td>0.032</td><td>gaia2</td><td>1.5629</td><td>0.017</td><td>gaia2</td><td>68.98017258398</td><td>14.48977564696</td><td>295.27923351196</td><td>60.48062474536</td><td>14.57</td><td>0.066</td><td>13.922</td><td>0.08</td><td>15.985</td><td>0.006</td><td>14.941</td><td>0.004</td><td>15.552</td><td>0.014</td><td>14.343</td><td>0.006</td><td>14.127</td><td>0.005</td><td>12.71</td><td>0.021</td><td>12.391</td><td>0.021</td><td>12.337</td><td>0.021</td><td>AAA-222-111-000-0-0</td><td>12.124</td><td>0.023</td><td>12.202</td><td>0.022</td><td>12.585</td><td>0.406</td><td>8.956</td><td>--</td><td>13.7809</td><td>0.000268</td><td>13.327</td><td>0.008</td><td>rered</td><td>spect</td><td>5754.0</td><td>25.0</td><td>4.4082</td><td>--</td><td>0.03</td><td>0.1</td><td>1.05</td><td>--</td><td>1.03</td><td>--</td><td>0.8887</td><td>--</td><td>DWARF</td><td>1.08963</td><td>--</td><td>628.257</td><td>6.7435</td><td>0.0744</td><td>--</td><td>--</td><td>--</td><td></td><td>--</td><td>--</td><td>--</td><td>--</td><td>panstarrs</td><td>--</td><td>--</td><td>--</td><td>--</td><td>--</td><td>--</td><td>--</td><td>--</td><td>--</td><td>--</td><td>--</td><td>--</td><td>bj2018</td><td>--</td><td>--</td><td>spect</td><td>14.1368</td><td>0.001794</td><td>13.2708</td><td>0.001058</td><td>1</td><td>ucac4</td><td>bpbj</td><td></td><td>0.460796</td><td>0.495197</td><td>285.57399039445</td><td>38.400819222</td><td>0.013008</td><td>0.016279</td><td>1</td><td>0</td><td>236288245</td></tr>\n",
       "<tr><td>121660904</td><td>288.58150969662</td><td>41.08982373933</td><td>--</td><td></td><td>656-070649</td><td>19141956+4105233</td><td>--</td><td>J191419.55+410523.1</td><td>2102117871259036672</td><td>51730562</td><td>5780885</td><td>STAR</td><td>tmgaia2</td><td>tmgaia2</td><td>-2.956</td><td>0.05</td><td>-20.95</td><td>0.042</td><td>gaia2</td><td>1.0555</td><td>0.0235</td><td>gaia2</td><td>72.47788657764</td><td>13.46282680277</td><td>301.36401572844</td><td>62.5204798327</td><td>13.62</td><td>0.029</td><td>13.008</td><td>0.103</td><td>--</td><td>--</td><td>--</td><td>--</td><td>--</td><td>--</td><td>--</td><td>--</td><td>--</td><td>--</td><td>11.833</td><td>0.02</td><td>11.601</td><td>0.022</td><td>11.535</td><td>0.02</td><td>AAA-222-111-000-0-0</td><td>11.51</td><td>0.023</td><td>11.551</td><td>0.022</td><td>11.671</td><td>0.158</td><td>8.917</td><td>--</td><td>12.8649</td><td>0.000318</td><td>12.453</td><td>0.006</td><td>rered</td><td>spect</td><td>5974.0</td><td>149.1</td><td>3.8428</td><td>0.0854</td><td>0.17</td><td>0.1</td><td>2.081</td><td>0.126</td><td>1.1</td><td>0.14</td><td>0.122</td><td>0.0298</td><td>DWARF</td><td>4.97042</td><td>0.28158</td><td>922.562</td><td>20.172</td><td>0.0411</td><td>0.0031</td><td>414</td><td>0.2234</td><td></td><td>--</td><td>0.000218</td><td>0.0027</td><td>0.0034</td><td>panstarrs</td><td>0.116</td><td>0.163</td><td>0.117</td><td>0.135</td><td>0.028</td><td>0.0316</td><td>0.0969</td><td>0.074</td><td>0.24137</td><td>0.32179</td><td>19.739</td><td>20.605</td><td>bj2018</td><td>172.0</td><td>126.2</td><td>spect</td><td>13.1771</td><td>0.001559</td><td>12.3938</td><td>0.001163</td><td>1</td><td>ucac4</td><td>apassdr9</td><td></td><td>0.830982</td><td>0.646732</td><td>288.58149281031</td><td>41.0897335401</td><td>0.021624</td><td>0.02059</td><td>1</td><td>0</td><td>259926978</td></tr>\n",
       "<tr><td>123233041</td><td>281.28812071329</td><td>42.4510809768</td><td>--</td><td></td><td>663-070081</td><td>18450914+4227038</td><td>--</td><td>J184509.14+422703.9</td><td>2116730994965905280</td><td>52388134</td><td>6922244</td><td>STAR</td><td>tmgaia2</td><td>tmgaia2</td><td>2.196</td><td>0.023</td><td>3.841</td><td>0.027</td><td>gaia2</td><td>0.9498</td><td>0.0139</td><td>gaia2</td><td>71.6589095646</td><td>19.01274738026</td><td>290.06653129525</td><td>65.10595359876</td><td>13.804</td><td>0.051</td><td>13.598</td><td>0.069</td><td>--</td><td>--</td><td>--</td><td>--</td><td>--</td><td>--</td><td>--</td><td>--</td><td>--</td><td>--</td><td>12.576</td><td>0.023</td><td>12.324</td><td>0.018</td><td>12.293</td><td>0.016</td><td>AAA-222-111-000-0-0</td><td>12.261</td><td>0.023</td><td>12.267</td><td>0.023</td><td>12.258</td><td>0.26</td><td>9.395</td><td>--</td><td>13.5299</td><td>0.000264</td><td>13.145</td><td>0.007</td><td>rered</td><td>spect</td><td>6179.0</td><td>25.0</td><td>4.1117</td><td>--</td><td>-0.05</td><td>0.1</td><td>1.582</td><td>--</td><td>1.18</td><td>--</td><td>0.2982</td><td>--</td><td>DWARF</td><td>3.28562</td><td>--</td><td>1021.87</td><td>14.575</td><td>0.0413</td><td>--</td><td>--</td><td>--</td><td></td><td>--</td><td>--</td><td>--</td><td>--</td><td>panstarrs</td><td>--</td><td>--</td><td>--</td><td>--</td><td>--</td><td>--</td><td>--</td><td>--</td><td>--</td><td>--</td><td>--</td><td>--</td><td>bj2018</td><td>--</td><td>--</td><td>spect</td><td>13.818</td><td>0.002269</td><td>13.0862</td><td>0.000889</td><td>1</td><td>ucac4</td><td>apassdr9</td><td></td><td>0.388089</td><td>0.420084</td><td>281.28813353034</td><td>42.4510975153</td><td>0.011065</td><td>0.014161</td><td>1</td><td>0</td><td>214866427</td></tr>\n",
       "<tr><td>268823307</td><td>299.40703534003</td><td>44.03505264692</td><td>--</td><td></td><td>671-080900</td><td>19573768+4402061</td><td>--</td><td>J195737.69+440206.0</td><td>2079018300195390464</td><td>52489752</td><td>8191672</td><td>STAR</td><td>tmgaia2</td><td>tmgaia2</td><td>-0.202</td><td>0.036</td><td>-3.238</td><td>0.031</td><td>gaia2</td><td>1.0829</td><td>0.0202</td><td>gaia2</td><td>78.86640840486</td><td>7.7426709449</td><td>319.81824428056</td><td>62.48154345439</td><td>14.161</td><td>0.06</td><td>13.325</td><td>0.092</td><td>--</td><td>--</td><td>--</td><td>--</td><td>--</td><td>--</td><td>--</td><td>--</td><td>--</td><td>--</td><td>12.115</td><td>0.029</td><td>11.863</td><td>0.032</td><td>11.769</td><td>0.025</td><td>AAA-222-111-000-0-0</td><td>11.683</td><td>0.022</td><td>11.741</td><td>0.021</td><td>10.741</td><td>0.064</td><td>8.504</td><td>0.229</td><td>13.2263</td><td>0.000286</td><td>12.766</td><td>0.012</td><td>rered</td><td>spect</td><td>6295.0</td><td>102.6</td><td>4.0262</td><td>0.0829</td><td>0.07</td><td>0.1</td><td>1.782</td><td>0.087</td><td>1.23</td><td>0.185</td><td>0.2174</td><td>0.0476</td><td>DWARF</td><td>4.49178</td><td>0.32251</td><td>899.777</td><td>16.4775</td><td>0.1572</td><td>0.0136</td><td>828</td><td>0.0723</td><td></td><td>--</td><td>2.6e-05</td><td>0.0082</td><td>0.0191</td><td>panstarrs</td><td>0.15</td><td>0.22</td><td>0.093</td><td>0.081</td><td>0.033</td><td>0.0622</td><td>0.1124</td><td>0.0535</td><td>0.30166</td><td>0.34336</td><td>16.181</td><td>16.774</td><td>bj2018</td><td>118.2</td><td>87.1</td><td>spect</td><td>13.5844</td><td>0.001036</td><td>12.7023</td><td>0.001106</td><td>1</td><td>ucac4</td><td>apassdr9</td><td></td><td>0.605437</td><td>0.487757</td><td>299.40703413063</td><td>44.0350387042</td><td>0.018613</td><td>0.016314</td><td>1</td><td>0</td><td>363112972</td></tr>\n",
       "<tr><td>350814622</td><td>285.61540891557</td><td>50.13575104429</td><td>--</td><td></td><td>701-064857</td><td>19022767+5008087</td><td>--</td><td>J190227.69+500808.7</td><td>2132152916856093952</td><td>--</td><td>11853905</td><td>STAR</td><td>tmgaia2</td><td>tmgaia2</td><td>6.003</td><td>0.039</td><td>4.672</td><td>0.043</td><td>gaia2</td><td>2.0209</td><td>0.0243</td><td>gaia2</td><td>80.37013129805</td><td>18.818353468</td><td>303.46156771188</td><td>71.76483586119</td><td>13.209</td><td>0.067</td><td>12.285</td><td>0.057</td><td>--</td><td>--</td><td>--</td><td>--</td><td>--</td><td>--</td><td>--</td><td>--</td><td>--</td><td>--</td><td>11.122</td><td>0.023</td><td>10.836</td><td>0.031</td><td>10.805</td><td>0.023</td><td>AAA-222-111-000-0-0</td><td>10.744</td><td>0.023</td><td>10.778</td><td>0.02</td><td>10.682</td><td>0.062</td><td>9.323</td><td>--</td><td>12.1577</td><td>0.000152</td><td>11.727</td><td>0.006</td><td>rered</td><td>spect</td><td>5772.0</td><td>103.4</td><td>4.0453</td><td>0.0708</td><td>0.12</td><td>0.1</td><td>1.595</td><td>0.068</td><td>1.03</td><td>0.128</td><td>0.2537</td><td>0.0491</td><td>DWARF</td><td>2.5447</td><td>0.09216</td><td>487.916</td><td>5.8295</td><td>0.0184</td><td>0.0026</td><td>199</td><td>0.1009</td><td></td><td>--</td><td>0.00064</td><td>0.0029</td><td>0.0024</td><td>panstarrs</td><td>0.149</td><td>0.107</td><td>0.067</td><td>0.069</td><td>0.0481</td><td>0.0501</td><td>0.0672</td><td>0.0744</td><td>0.08713</td><td>0.09719</td><td>5.761</td><td>5.898</td><td>bj2018</td><td>114.6</td><td>92.2</td><td>spect</td><td>12.4973</td><td>0.001612</td><td>11.6759</td><td>0.000681</td><td>1</td><td>ucac4</td><td>bpbj</td><td></td><td>0.670902</td><td>0.662993</td><td>285.61544923642</td><td>50.1357711589</td><td>0.019169</td><td>0.024925</td><td>1</td><td>0</td><td>237044605</td></tr>\n",
       "<tr><td>377780790</td><td>285.67942179238</td><td>50.24130576642</td><td>--</td><td></td><td>702-062695</td><td>19024305+5014286</td><td>--</td><td>J190243.03+501429.1</td><td>2132155017099178624</td><td>--</td><td>11904151</td><td>STAR</td><td>tmgaia2</td><td>tmgaia2</td><td>-18.394</td><td>0.045</td><td>41.448</td><td>0.046</td><td>gaia2</td><td>5.3619</td><td>0.0233</td><td>gaia2</td><td>80.48973434189</td><td>18.81612807429</td><td>303.70102580688</td><td>71.84987860932</td><td>12.258</td><td>0.067</td><td>11.043</td><td>0.023</td><td>--</td><td>--</td><td>--</td><td>--</td><td>--</td><td>--</td><td>--</td><td>--</td><td>--</td><td>--</td><td>9.889</td><td>0.022</td><td>9.563</td><td>0.025</td><td>9.496</td><td>0.021</td><td>AAA-222-111-000-0-0</td><td>9.44</td><td>0.023</td><td>9.491</td><td>0.02</td><td>9.443</td><td>0.029</td><td>9.403</td><td>0.482</td><td>10.9191</td><td>0.000318</td><td>10.477</td><td>0.006</td><td>rered</td><td>spect</td><td>5706.0</td><td>141.0</td><td>4.3707</td><td>0.0854</td><td>-0.12</td><td>0.1</td><td>1.09</td><td>0.061</td><td>1.017</td><td>0.128</td><td>0.7859</td><td>0.1845</td><td>DWARF</td><td>1.13414</td><td>0.03284</td><td>185.506</td><td>0.808</td><td>0.0107</td><td>0.0037</td><td>223</td><td>0.0101</td><td></td><td>--</td><td>0.002668</td><td>0.0028</td><td>0.0046</td><td>panstarrs</td><td>0.119</td><td>0.138</td><td>0.061</td><td>0.061</td><td>0.1571</td><td>0.2119</td><td>0.1042</td><td>0.0666</td><td>0.03598</td><td>0.0297</td><td>0.805</td><td>0.811</td><td>bj2018</td><td>125.2</td><td>156.8</td><td>spect</td><td>11.2713</td><td>0.001006</td><td>10.4273</td><td>0.000585</td><td>1</td><td>ucac4</td><td>bpbj</td><td></td><td>0.767293</td><td>0.711508</td><td>285.67929796407</td><td>50.24148422359</td><td>0.020474</td><td>0.024043</td><td>1</td><td>0</td><td>237087497</td></tr>\n",
       "<tr><td>399860444</td><td>286.80849132167</td><td>49.31641413759</td><td>--</td><td>3549-02811-1</td><td>697-064165</td><td>19071403+4918590</td><td>--</td><td>J190714.04+491859.0</td><td>2131314401800665344</td><td>--</td><td>11446443</td><td>STAR</td><td>tmgaia2</td><td>tmgaia2</td><td>5.219</td><td>0.043</td><td>1.619</td><td>0.043</td><td>gaia2</td><td>4.6154</td><td>0.0224</td><td>gaia2</td><td>79.84863250595</td><td>17.80791470607</td><td>304.83286957435</td><td>70.72951599257</td><td>11.855</td><td>0.164</td><td>11.254</td><td>0.011</td><td>--</td><td>--</td><td>--</td><td>--</td><td>--</td><td>--</td><td>--</td><td>--</td><td>--</td><td>--</td><td>10.232</td><td>0.02</td><td>9.92</td><td>0.026</td><td>9.846</td><td>0.022</td><td>AAA-222-111-000-0-0</td><td>9.781</td><td>0.023</td><td>9.792</td><td>0.02</td><td>9.746</td><td>0.033</td><td>8.804</td><td>0.27</td><td>11.2819</td><td>0.000472</td><td>10.854</td><td>0.006</td><td>rered</td><td>spect</td><td>5854.0</td><td>101.6</td><td>4.4482</td><td>0.0708</td><td>-0.03</td><td>0.1</td><td>1.016</td><td>0.04</td><td>1.057</td><td>0.134</td><td>1.0075</td><td>0.1961</td><td>DWARF</td><td>1.09246</td><td>0.03271</td><td>215.32</td><td>1.0445</td><td>0.0138</td><td>0.0048</td><td>185</td><td>0.0348</td><td></td><td>--</td><td>0.002209</td><td>0.0067</td><td>0.0028</td><td>panstarrs</td><td>0.145</td><td>0.122</td><td>0.04</td><td>0.04</td><td>0.1582</td><td>0.234</td><td>0.0556</td><td>0.0859</td><td>0.03321</td><td>0.03221</td><td>1.039</td><td>1.05</td><td>bj2018</td><td>98.2</td><td>105.1</td><td>spect</td><td>11.6045</td><td>0.001305</td><td>10.7895</td><td>0.001385</td><td>1</td><td>tycho2v3</td><td>tycho2b3</td><td></td><td>0.73477</td><td>0.672364</td><td>286.80852578903</td><td>49.31642110842</td><td>0.019726</td><td>0.022829</td><td>1</td><td>0</td><td>245833148</td></tr>\n",
       "<tr><td>424865156</td><td>292.24730755483</td><td>47.96950451412</td><td>--</td><td>3547-01402-1</td><td>690-068273</td><td>19285935+4758102</td><td>--</td><td>J192859.33+475810.3</td><td>2129256395211984000</td><td>54444524</td><td>10666592</td><td>STAR</td><td>tmgaia2</td><td>tmgaia2</td><td>-18.281</td><td>0.038</td><td>8.91</td><td>0.037</td><td>gaia2</td><td>2.9031</td><td>0.0206</td><td>gaia2</td><td>80.03293640837</td><td>13.9752873836</td><td>312.86833306386</td><td>68.12390859788</td><td>10.964</td><td>0.099</td><td>10.481</td><td>0.007</td><td>--</td><td>--</td><td>--</td><td>--</td><td>--</td><td>--</td><td>--</td><td>--</td><td>--</td><td>--</td><td>9.555</td><td>0.03</td><td>9.344</td><td>0.029</td><td>9.334</td><td>0.018</td><td>AAA-222-111-000-0-0</td><td>9.275</td><td>0.023</td><td>9.3</td><td>0.02</td><td>9.282</td><td>0.026</td><td>8.928</td><td>--</td><td>10.3654</td><td>0.000393</td><td>10.027</td><td>0.006</td><td>rered</td><td>spect</td><td>6532.2</td><td>109.2</td><td>3.9682</td><td>0.0817</td><td>0.2326</td><td>0.0261</td><td>1.994</td><td>0.081</td><td>1.347</td><td>0.217</td><td>0.17</td><td>0.0365</td><td>DWARF</td><td>6.51925</td><td>0.28161</td><td>341.079</td><td>2.414</td><td>0.0293</td><td>0.0045</td><td>365</td><td>0.0139</td><td></td><td>--</td><td>0.001275</td><td>0.0031</td><td>0.006</td><td>panstarrs</td><td>0.181</td><td>0.253</td><td>0.089</td><td>0.074</td><td>0.0408</td><td>0.0323</td><td>0.0803</td><td>0.083</td><td>0.25925</td><td>0.30397</td><td>2.397</td><td>2.431</td><td>bj2018</td><td>95.0</td><td>123.4</td><td>spect</td><td>10.6275</td><td>0.001227</td><td>9.98587</td><td>0.001131</td><td>1</td><td>tycho2v3</td><td>tycho2b3</td><td></td><td>0.645983</td><td>0.573522</td><td>292.24718999297</td><td>47.96954287694</td><td>0.017649</td><td>0.01983</td><td>1</td><td>0</td><td>290881018</td></tr>\n",
       "</table></div>"
      ],
      "text/plain": [
       "<CatalogResult length=10>\n",
       "   TIC        RAJ2000        DEJ2000      HIP      TYC        UCAC4    ...     DEOdeg     e_RAOdeg e_DEOdeg RadFl  WDFl     ID   \n",
       "                deg            deg                                     ...      deg         mas      mas                         \n",
       "  int64       float64        float64     int32    object      object   ...    float64     float64  float64  int16 int16   int32  \n",
       "--------- --------------- -------------- ----- ------------ ---------- ... -------------- -------- -------- ----- ----- ---------\n",
       " 27916356 296.83724132289 48.23993319637    --              692-068460 ... 48.23996948867 0.011393 0.014386     1     0 338972619\n",
       " 28230919 297.70936440263 48.08086037921 97657 3561-02092-1 691-070316 ... 48.08186352485 0.019271 0.024141     1     0 347873767\n",
       "120571842 285.57397671045 38.40088256878    --              643-065464 ...   38.400819222 0.013008 0.016279     1     0 236288245\n",
       "121660904 288.58150969662 41.08982373933    --              656-070649 ...  41.0897335401 0.021624  0.02059     1     0 259926978\n",
       "123233041 281.28812071329  42.4510809768    --              663-070081 ...  42.4510975153 0.011065 0.014161     1     0 214866427\n",
       "268823307 299.40703534003 44.03505264692    --              671-080900 ...  44.0350387042 0.018613 0.016314     1     0 363112972\n",
       "350814622 285.61540891557 50.13575104429    --              701-064857 ...  50.1357711589 0.019169 0.024925     1     0 237044605\n",
       "377780790 285.67942179238 50.24130576642    --              702-062695 ... 50.24148422359 0.020474 0.024043     1     0 237087497\n",
       "399860444 286.80849132167 49.31641413759    -- 3549-02811-1 697-064165 ... 49.31642110842 0.019726 0.022829     1     0 245833148\n",
       "424865156 292.24730755483 47.96950451412    -- 3547-01402-1 690-068273 ... 47.96954287694 0.017649  0.01983     1     0 290881018"
      ]
     },
     "execution_count": 19,
     "metadata": {},
     "output_type": "execute_result"
    }
   ],
   "source": [
    "# Kepler Objects 1-10\n",
    "idlist = [\n",
    "    \"TIC 399860444\",\n",
    "    \"TIC 424865156\",\n",
    "    \"TIC 28230919\",\n",
    "    \"TIC 350814622\",\n",
    "    \"TIC 268823307\",\n",
    "    \"TIC 27916356\",\n",
    "    \"TIC 121660904\",\n",
    "    \"TIC 123233041\",\n",
    "    \"TIC 120571842\",\n",
    "    \"TIC 377780790\",\n",
    "]\n",
    "CatalogSearch.QueryID(idlist, catalog=\"tic\")"
   ]
  },
  {
   "cell_type": "markdown",
   "id": "f9a35a25-cde5-4810-87e9-2c83a7249481",
   "metadata": {},
   "source": [
    "Large queries (over one thousand objects) will be performed asynchronously and may take some time.  "
   ]
  },
  {
   "cell_type": "markdown",
   "id": "6cde6883-77d6-4fa4-854f-8bff08743144",
   "metadata": {},
   "source": [
    "Like `QueryPosition`, These results can also be returned as `astropy SkyCoord` objects.  "
   ]
  },
  {
   "cell_type": "code",
   "execution_count": 20,
   "id": "57f90e43-e171-4e32-a2f9-80eac85b0ccd",
   "metadata": {},
   "outputs": [
    {
     "data": {
      "text/plain": [
       "<SkyCoord (ICRS): (ra, dec, distance) in (deg, deg, pc)\n",
       "    [(285.67942179, 50.24130577, 186.50105373)]\n",
       " (pm_ra_cosdec, pm_dec) in mas / yr\n",
       "    [(-18.394, 41.448)]>"
      ]
     },
     "execution_count": 20,
     "metadata": {},
     "output_type": "execute_result"
    }
   ],
   "source": [
    "CatalogSearch.QueryID(\"TIC 377780790\", return_skycoord=True)"
   ]
  },
  {
   "cell_type": "code",
   "execution_count": 21,
   "id": "ea580933-9961-4c47-aca6-1d4a037c802d",
   "metadata": {},
   "outputs": [
    {
     "data": {
      "text/plain": [
       "<SkyCoord (ICRS): (ra, dec, distance) in (deg, deg, pc)\n",
       "    [(285.67942179, 50.24130577, 186.50105373)]\n",
       " (pm_ra_cosdec, pm_dec) in mas / yr\n",
       "    [(-18.394, 41.448)]>"
      ]
     },
     "execution_count": 21,
     "metadata": {},
     "output_type": "execute_result"
    }
   ],
   "source": [
    "result = CatalogSearch.QueryID(\"TIC 377780790\")\n",
    "result.to_SkyCoord()"
   ]
  },
  {
   "cell_type": "markdown",
   "id": "b5b2bcc0-a0a7-4167-976c-9ddaf2abfde9",
   "metadata": {},
   "source": [
    "## Looking up Catalog IDs"
   ]
  },
  {
   "cell_type": "markdown",
   "id": "6a171db2-9c22-4e01-bd26-9509c5bb4a1c",
   "metadata": {},
   "source": [
    "We have also included a limited way of looking up catalog IDs using other known IDs.  This functionality wraps the `astroquery.simbad.Simbad.query_objectids` functionality.  "
   ]
  },
  {
   "cell_type": "code",
   "execution_count": 22,
   "id": "7299501b-112f-419d-af24-3553a3586365",
   "metadata": {},
   "outputs": [
    {
     "data": {
      "text/html": [
       "<div><i>Table length=14</i>\n",
       "<table id=\"table5218109296\" class=\"table-striped table-bordered table-condensed\">\n",
       "<thead><tr><th>id</th></tr></thead>\n",
       "<thead><tr><th>object</th></tr></thead>\n",
       "<tr><td>LAMOST J190243.11+501428.7</td></tr>\n",
       "<tr><td>AP J19024305+5014286</td></tr>\n",
       "<tr><td>Gaia DR3 2132155017099178624</td></tr>\n",
       "<tr><td>TIC 377780790</td></tr>\n",
       "<tr><td>SPOCS 4268</td></tr>\n",
       "<tr><td>Gaia DR2 2132155017099178624</td></tr>\n",
       "<tr><td>Kepler-10</td></tr>\n",
       "<tr><td>UCAC3 281-142262</td></tr>\n",
       "<tr><td>2MASS J19024305+5014286</td></tr>\n",
       "<tr><td>PPMX J190243.0+501428</td></tr>\n",
       "<tr><td>USNO-B1.0 1402-00324696</td></tr>\n",
       "<tr><td>GSC 03549-00354</td></tr>\n",
       "<tr><td>KOI-72</td></tr>\n",
       "<tr><td>KIC 11904151</td></tr>\n",
       "</table></div>"
      ],
      "text/plain": [
       "<Table length=14>\n",
       "             id             \n",
       "           object           \n",
       "----------------------------\n",
       "  LAMOST J190243.11+501428.7\n",
       "        AP J19024305+5014286\n",
       "Gaia DR3 2132155017099178624\n",
       "               TIC 377780790\n",
       "                  SPOCS 4268\n",
       "Gaia DR2 2132155017099178624\n",
       "                   Kepler-10\n",
       "            UCAC3 281-142262\n",
       "     2MASS J19024305+5014286\n",
       "       PPMX J190243.0+501428\n",
       "     USNO-B1.0 1402-00324696\n",
       "             GSC 03549-00354\n",
       "                      KOI-72\n",
       "                KIC 11904151"
      ]
     },
     "execution_count": 22,
     "metadata": {},
     "output_type": "execute_result"
    }
   ],
   "source": [
    "CatalogSearch.IDLookup(\"Kepler 10\")"
   ]
  },
  {
   "cell_type": "markdown",
   "id": "600430bf-96d1-4f13-ba4b-6cc17b575f10",
   "metadata": {},
   "source": [
    "It is based off of joining IDs across Simbad tables, and is useful but not comprehensive as it relies upon published works to do the ID crossmatching.  That means that you may run into situations where not all assosciations have been made, eg. for this EPIC ID:"
   ]
  },
  {
   "cell_type": "code",
   "execution_count": 23,
   "id": "f8755caf-b19b-4972-ad97-afbe7bb09890",
   "metadata": {},
   "outputs": [
    {
     "data": {
      "text/html": [
       "<div><i>Table length=7</i>\n",
       "<table id=\"table4696936512\" class=\"table-striped table-bordered table-condensed\">\n",
       "<thead><tr><th>id</th></tr></thead>\n",
       "<thead><tr><th>object</th></tr></thead>\n",
       "<tr><td>Gaia DR3 3796414192429498880</td></tr>\n",
       "<tr><td>LBQS 1145+0145</td></tr>\n",
       "<tr><td>WD 1145+017</td></tr>\n",
       "<tr><td>SDSS J114833.62+012859.4</td></tr>\n",
       "<tr><td>EPIC 201563164</td></tr>\n",
       "<tr><td>HE 1145+0145</td></tr>\n",
       "<tr><td>Gaia DR2 3796414192429498880</td></tr>\n",
       "</table></div>"
      ],
      "text/plain": [
       "<Table length=7>\n",
       "             id             \n",
       "           object           \n",
       "----------------------------\n",
       "Gaia DR3 3796414192429498880\n",
       "              LBQS 1145+0145\n",
       "                 WD 1145+017\n",
       "    SDSS J114833.62+012859.4\n",
       "              EPIC 201563164\n",
       "                HE 1145+0145\n",
       "Gaia DR2 3796414192429498880"
      ]
     },
     "execution_count": 23,
     "metadata": {},
     "output_type": "execute_result"
    }
   ],
   "source": [
    "CatalogSearch.IDLookup(\"EPIC 201563164\")"
   ]
  },
  {
   "cell_type": "markdown",
   "id": "8203f0ee-83e3-4781-bd4d-70bbd6806b91",
   "metadata": {},
   "source": [
    "We can see above that this EPIC ID has a Gaia DR3 ID assosciated with it, and we know that GAIA DR3 and TIC are crossmatched, but the TIC ID is not reported.  To retrieve the TIC ID we can use the GAIA DR3 ID above and QueryID"
   ]
  },
  {
   "cell_type": "code",
   "execution_count": 24,
   "id": "833a1cd8-4f09-4c59-bca4-fc20e6b3eb5e",
   "metadata": {},
   "outputs": [
    {
     "data": {
      "text/html": [
       "<div><i>CatalogResult length=1</i>\n",
       "<table id=\"table5223897408\" class=\"table-striped table-bordered table-condensed\">\n",
       "<thead><tr><th>TIC</th><th>RAJ2000</th><th>DEJ2000</th><th>HIP</th><th>TYC</th><th>UCAC4</th><th>_2MASS</th><th>objID</th><th>WISEA</th><th>GAIA</th><th>APASS</th><th>KIC</th><th>S_G</th><th>Ref</th><th>r_Pos</th><th>pmRA</th><th>e_pmRA</th><th>pmDE</th><th>e_pmDE</th><th>r_pm</th><th>Plx</th><th>e_Plx</th><th>r_Plx</th><th>GLON</th><th>GLAT</th><th>ELON</th><th>ELAT</th><th>Bmag</th><th>e_Bmag</th><th>Vmag</th><th>e_Vmag</th><th>umag</th><th>e_umag</th><th>gmag</th><th>e_gmag</th><th>rmag</th><th>e_rmag</th><th>imag</th><th>e_imag</th><th>zmag</th><th>e_zmag</th><th>Jmag</th><th>e_Jmag</th><th>Hmag</th><th>e_Hmag</th><th>Kmag</th><th>e_Kmag</th><th>q_2MASS</th><th>W1mag</th><th>e_W1mag</th><th>W2mag</th><th>e_W2mag</th><th>W3mag</th><th>e_W3mag</th><th>W4mag</th><th>e_W4mag</th><th>Gmag</th><th>e_Gmag</th><th>Tmag</th><th>e_Tmag</th><th>f_Tmag</th><th>Flag</th><th>Teff</th><th>s_Teff</th><th>logg</th><th>s_logg</th><th>__M_H_</th><th>e__M_H_</th><th>Rad</th><th>s_Rad</th><th>Mass</th><th>s_Mass</th><th>rho</th><th>s_rho</th><th>LClass</th><th>Lum</th><th>s_Lum</th><th>Dist</th><th>s_Dist</th><th>E_B-V_</th><th>s_E_B-V_</th><th>Ncont</th><th>Rcont</th><th>Disp</th><th>m_TIC</th><th>Prior</th><th>e_E_B-V_</th><th>E_E_B-V_</th><th>f_E_B-V_</th><th>e_Mass</th><th>E_Mass</th><th>e_Rad</th><th>E_Rad</th><th>e_rho</th><th>E_rho</th><th>e_logg</th><th>E_logg</th><th>e_Lum</th><th>E_Lum</th><th>e_Dist</th><th>E_Dist</th><th>r_Dist</th><th>e_Teff</th><th>E_Teff</th><th>r_Teff</th><th>BPmag</th><th>e_BPmag</th><th>RPmag</th><th>e_RPmag</th><th>q_Gaia</th><th>r_Vmag</th><th>r_Bmag</th><th>Clist</th><th>e_RAJ2000</th><th>e_DEJ2000</th><th>RAOdeg</th><th>DEOdeg</th><th>e_RAOdeg</th><th>e_DEOdeg</th><th>RadFl</th><th>WDFl</th><th>ID</th></tr></thead>\n",
       "<thead><tr><th></th><th>deg</th><th>deg</th><th></th><th></th><th></th><th></th><th></th><th></th><th></th><th></th><th></th><th></th><th></th><th></th><th>mas / yr</th><th>mas / yr</th><th>mas / yr</th><th>mas / yr</th><th></th><th>mas</th><th>mas</th><th></th><th>deg</th><th>deg</th><th>deg</th><th>deg</th><th>mag</th><th>mag</th><th>mag</th><th>mag</th><th>mag</th><th>mag</th><th>mag</th><th>mag</th><th>mag</th><th>mag</th><th>mag</th><th>mag</th><th>mag</th><th>mag</th><th>mag</th><th>mag</th><th>mag</th><th>mag</th><th>mag</th><th>mag</th><th></th><th>mag</th><th>mag</th><th>mag</th><th>mag</th><th>mag</th><th>mag</th><th>mag</th><th>mag</th><th>mag</th><th>mag</th><th>mag</th><th>mag</th><th></th><th></th><th>K</th><th>K</th><th>log(cm.s**-2)</th><th>log(cm.s**-2)</th><th>log(Sun)</th><th>log(Sun)</th><th>Rsun</th><th>Rsun</th><th>Msun</th><th>Msun</th><th>Sun</th><th>Sun</th><th></th><th>Lsun</th><th>Lsun</th><th>pc</th><th>pc</th><th>mag</th><th>mag</th><th></th><th></th><th></th><th></th><th></th><th>mag</th><th>mag</th><th></th><th>Msun</th><th>Msun</th><th>Rsun</th><th>Rsun</th><th>Sun</th><th>Sun</th><th>log(cm.s**-2)</th><th>log(cm.s**-2)</th><th>Lsun</th><th>Lsun</th><th>pc</th><th>pc</th><th></th><th>K</th><th>K</th><th></th><th>mag</th><th>mag</th><th>mag</th><th>mag</th><th></th><th></th><th></th><th></th><th>mas</th><th>mas</th><th>deg</th><th>deg</th><th>mas</th><th>mas</th><th></th><th></th><th></th></tr></thead>\n",
       "<thead><tr><th>int64</th><th>float64</th><th>float64</th><th>int32</th><th>object</th><th>object</th><th>object</th><th>int64</th><th>object</th><th>int64</th><th>int32</th><th>int32</th><th>object</th><th>object</th><th>object</th><th>float64</th><th>float32</th><th>float64</th><th>float32</th><th>object</th><th>float64</th><th>float32</th><th>object</th><th>float64</th><th>float64</th><th>float64</th><th>float64</th><th>float32</th><th>float32</th><th>float32</th><th>float32</th><th>float32</th><th>float64</th><th>float32</th><th>float64</th><th>float32</th><th>float64</th><th>float32</th><th>float64</th><th>float32</th><th>float64</th><th>float32</th><th>float32</th><th>float32</th><th>float32</th><th>float32</th><th>float32</th><th>object</th><th>float32</th><th>float32</th><th>float32</th><th>float32</th><th>float32</th><th>float32</th><th>float32</th><th>float32</th><th>float64</th><th>float64</th><th>float32</th><th>float32</th><th>object</th><th>object</th><th>float32</th><th>float32</th><th>float32</th><th>float32</th><th>float32</th><th>float32</th><th>float64</th><th>float32</th><th>float32</th><th>float32</th><th>float64</th><th>float64</th><th>object</th><th>float64</th><th>float64</th><th>float64</th><th>float64</th><th>float32</th><th>float32</th><th>int32</th><th>float64</th><th>object</th><th>int64</th><th>float64</th><th>float32</th><th>float32</th><th>object</th><th>float32</th><th>float32</th><th>float32</th><th>float32</th><th>float64</th><th>float64</th><th>float32</th><th>float32</th><th>float64</th><th>float64</th><th>float64</th><th>float64</th><th>object</th><th>float32</th><th>float32</th><th>object</th><th>float64</th><th>float64</th><th>float64</th><th>float64</th><th>int16</th><th>object</th><th>object</th><th>object</th><th>float64</th><th>float64</th><th>float64</th><th>float64</th><th>float64</th><th>float64</th><th>int16</th><th>int16</th><th>int32</th></tr></thead>\n",
       "<tr><td>902906874</td><td>177.14012401504</td><td>1.48317268714</td><td>--</td><td></td><td></td><td></td><td>--</td><td></td><td>3796414192429498880</td><td>--</td><td>--</td><td>STAR</td><td>gaia2</td><td>gaia2</td><td>-43.71</td><td>0.242</td><td>-4.102</td><td>0.134</td><td>gaia2</td><td>7.0585</td><td>0.1234</td><td>gaia2</td><td>269.85004856685</td><td>60.25223135972</td><td>176.78646975797</td><td>0.22389926894</td><td>--</td><td>--</td><td>17.19</td><td>0.046</td><td>--</td><td>--</td><td>--</td><td>--</td><td>--</td><td>--</td><td>--</td><td>--</td><td>--</td><td>--</td><td>--</td><td>--</td><td>--</td><td>--</td><td>--</td><td>--</td><td></td><td>--</td><td>--</td><td>--</td><td>--</td><td>--</td><td>--</td><td>--</td><td>--</td><td>17.1671</td><td>0.001697</td><td>17.33</td><td>0.012</td><td>rered</td><td></td><td>--</td><td>--</td><td>--</td><td>--</td><td>--</td><td>--</td><td>--</td><td>--</td><td>--</td><td>--</td><td>--</td><td>--</td><td></td><td>--</td><td>--</td><td>141.166</td><td>2.4785</td><td>0.0146</td><td>0.0094</td><td>--</td><td>--</td><td></td><td>--</td><td>--</td><td>0.0066</td><td>0.0122</td><td>panstarrs</td><td>--</td><td>--</td><td>--</td><td>--</td><td>--</td><td>--</td><td>--</td><td>--</td><td>--</td><td>--</td><td>2.436</td><td>2.521</td><td>bj2018</td><td>--</td><td>--</td><td></td><td>17.0393</td><td>0.012083</td><td>17.2342</td><td>0.009613</td><td>1</td><td>gaia2</td><td></td><td></td><td>3.759826</td><td>2.071664</td><td>177.13993575829</td><td>1.48315502679</td><td>0.115832</td><td>0.070643</td><td>-1</td><td>1</td><td>144272311</td></tr>\n",
       "</table></div>"
      ],
      "text/plain": [
       "<CatalogResult length=1>\n",
       "   TIC        RAJ2000        DEJ2000     HIP   TYC   UCAC4  _2MASS ...      RAOdeg         DEOdeg    e_RAOdeg e_DEOdeg RadFl  WDFl     ID   \n",
       "                deg            deg                                 ...       deg            deg        mas      mas                         \n",
       "  int64       float64        float64    int32 object object object ...     float64        float64    float64  float64  int16 int16   int32  \n",
       "--------- --------------- ------------- ----- ------ ------ ------ ... --------------- ------------- -------- -------- ----- ----- ---------\n",
       "902906874 177.14012401504 1.48317268714    --                      ... 177.13993575829 1.48315502679 0.115832 0.070643    -1     1 144272311"
      ]
     },
     "execution_count": 24,
     "metadata": {},
     "output_type": "execute_result"
    }
   ],
   "source": [
    "CatalogSearch.QueryID(\"Gaia DR3 3796414192429498880\", catalog=\"tic\")"
   ]
  },
  {
   "cell_type": "markdown",
   "id": "497d2223-6f8e-477b-b693-a8582c32f41a",
   "metadata": {},
   "source": [
    "`lksearch` also alows you to input a list of strings, which will then perform sequential ID searches for each item in the list and return a list of the resulting tables: "
   ]
  },
  {
   "cell_type": "code",
   "execution_count": 25,
   "id": "dc0d422f-fa40-4f36-8017-3cbc9bc03f19",
   "metadata": {},
   "outputs": [
    {
     "name": "stderr",
     "output_type": "stream",
     "text": [
      "Throttling query limit to Simbad's: max 5/s\n"
     ]
    },
    {
     "data": {
      "text/plain": [
       "[<Table length=14>\n",
       "              id             \n",
       "            object           \n",
       " ----------------------------\n",
       "   LAMOST J190243.11+501428.7\n",
       "         AP J19024305+5014286\n",
       " Gaia DR3 2132155017099178624\n",
       "                TIC 377780790\n",
       "                   SPOCS 4268\n",
       " Gaia DR2 2132155017099178624\n",
       "                    Kepler-10\n",
       "             UCAC3 281-142262\n",
       "      2MASS J19024305+5014286\n",
       "        PPMX J190243.0+501428\n",
       "      USNO-B1.0 1402-00324696\n",
       "              GSC 03549-00354\n",
       "                       KOI-72\n",
       "                 KIC 11904151,\n",
       " <Table length=11>\n",
       "              id             \n",
       "            object           \n",
       " ----------------------------\n",
       "   LAMOST J191618.16+514526.7\n",
       " Gaia DR3 2133476355197071616\n",
       "                TIC 299096355\n",
       " Gaia DR2 2133476355197071616\n",
       "      2MASS J19161817+5145267\n",
       "             UCAC3 284-140854\n",
       "              GSC 03554-01147\n",
       "                 KIC 12644769\n",
       "                    Kepler-16\n",
       "          NAME Kepler-16 (AB)\n",
       "                     KOI-1611]"
      ]
     },
     "execution_count": 25,
     "metadata": {},
     "output_type": "execute_result"
    }
   ],
   "source": [
    "CatalogSearch.IDLookup([\"Kepler 10\", \"Kepler 16\"])"
   ]
  },
  {
   "cell_type": "markdown",
   "id": "99a4d45d-d05e-4497-8e56-e8109f9cb6c2",
   "metadata": {},
   "source": [
    "### Matching ID Results to Catalogs\n",
    "`lksearch` has the ability to parse the id lists returned by `QueryID` to look for ids which contain the string contained in the optional parameter `match`.  This can be usefull for only returning the catalog results which interest you. \n",
    "\n",
    "Just like the search input can be a list, so can the match criteria, as so: "
   ]
  },
  {
   "cell_type": "code",
   "execution_count": 26,
   "id": "b05efbea-5edb-471c-ba7c-96af0a24a78a",
   "metadata": {},
   "outputs": [
    {
     "name": "stderr",
     "output_type": "stream",
     "text": [
      "Throttling query limit to Simbad's: max 5/s\n"
     ]
    },
    {
     "data": {
      "text/html": [
       "<div><i>Table length=2</i>\n",
       "<table id=\"table5227842256\" class=\"table-striped table-bordered table-condensed\">\n",
       "<thead><tr><th>search</th><th>tic</th><th>kic</th></tr></thead>\n",
       "<thead><tr><th>str9</th><th>str13</th><th>str12</th></tr></thead>\n",
       "<tr><td>Kepler 10</td><td>TIC 377780790</td><td>KIC 11904151</td></tr>\n",
       "<tr><td>Kepler 16</td><td>TIC 299096355</td><td>KIC 12644769</td></tr>\n",
       "</table></div>"
      ],
      "text/plain": [
       "<Table length=2>\n",
       "  search       tic          kic     \n",
       "   str9       str13        str12    \n",
       "--------- ------------- ------------\n",
       "Kepler 10 TIC 377780790 KIC 11904151\n",
       "Kepler 16 TIC 299096355 KIC 12644769"
      ]
     },
     "execution_count": 26,
     "metadata": {},
     "output_type": "execute_result"
    }
   ],
   "source": [
    "CatalogSearch.IDLookup([\"Kepler 10\", \"Kepler 16\"], match=[\"tic\", \"kic\"])"
   ]
  },
  {
   "cell_type": "code",
   "execution_count": null,
   "id": "4b422d41-82bb-40af-a08d-8c7722869a96",
   "metadata": {},
   "outputs": [],
   "source": []
  }
 ],
 "metadata": {
  "kernelspec": {
   "display_name": "Python 3 (ipykernel)",
   "language": "python",
   "name": "python3"
  },
  "language_info": {
   "codemirror_mode": {
    "name": "ipython",
    "version": 3
   },
   "file_extension": ".py",
   "mimetype": "text/x-python",
   "name": "python",
   "nbconvert_exporter": "python",
   "pygments_lexer": "ipython3",
   "version": "3.12.3"
  }
 },
 "nbformat": 4,
 "nbformat_minor": 5
}
