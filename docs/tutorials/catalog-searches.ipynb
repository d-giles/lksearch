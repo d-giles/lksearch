{
 "cells": [
  {
   "cell_type": "markdown",
   "id": "8362de11",
   "metadata": {},
   "source": [
    "# Catalog Searches Tutorial"
   ]
  },
  {
   "cell_type": "markdown",
   "id": "7139b45e-0981-48ce-a7c8-f57c27eacddb",
   "metadata": {},
   "source": [
    "`lksearch` enables you to search through the catalogs associated with each mission, and Gaia. You can query:\n",
    "\n",
    "- The Kepler Input Catalog\n",
    "- The Ecliptic Plane Input Catalog\n",
    "- The TESS Input Catalog\n",
    "- Gaia EDR3.\n",
    "\n",
    "`lksearch` will propagate the proper motion for you. Below are examples of each query."
   ]
  },
  {
   "cell_type": "code",
   "execution_count": 1,
   "id": "9f07ac77",
   "metadata": {},
   "outputs": [],
   "source": [
    "from lksearch.catalog import query_EPIC, query_KIC, query_TIC, query_gaia\n",
    "from astropy.coordinates import SkyCoord\n",
    "from astropy.time import Time\n",
    "import astropy.units as u"
   ]
  },
  {
   "cell_type": "code",
   "execution_count": 4,
   "id": "fd0abec3-8b85-4812-aafb-ca13a94d306c",
   "metadata": {},
   "outputs": [
    {
     "data": {
      "text/html": [
       "<div>\n",
       "<style scoped>\n",
       "    .dataframe tbody tr th:only-of-type {\n",
       "        vertical-align: middle;\n",
       "    }\n",
       "\n",
       "    .dataframe tbody tr th {\n",
       "        vertical-align: top;\n",
       "    }\n",
       "\n",
       "    .dataframe thead th {\n",
       "        text-align: right;\n",
       "    }\n",
       "</style>\n",
       "<table border=\"1\" class=\"dataframe\">\n",
       "  <thead>\n",
       "    <tr style=\"text-align: right;\">\n",
       "      <th></th>\n",
       "      <th>RA</th>\n",
       "      <th>Dec</th>\n",
       "      <th>Separation</th>\n",
       "      <th>Relative_Flux</th>\n",
       "      <th>Kepmag</th>\n",
       "    </tr>\n",
       "    <tr>\n",
       "      <th>ID</th>\n",
       "      <th></th>\n",
       "      <th></th>\n",
       "      <th></th>\n",
       "      <th></th>\n",
       "      <th></th>\n",
       "    </tr>\n",
       "  </thead>\n",
       "  <tbody>\n",
       "    <tr>\n",
       "      <th>KIC 11904151</th>\n",
       "      <td>285.67938</td>\n",
       "      <td>50.241299</td>\n",
       "      <td>0.000000</td>\n",
       "      <td>1.000000</td>\n",
       "      <td>10.961000</td>\n",
       "    </tr>\n",
       "    <tr>\n",
       "      <th>KIC 11904160</th>\n",
       "      <td>285.68076</td>\n",
       "      <td>50.242493</td>\n",
       "      <td>5.345214</td>\n",
       "      <td>0.006644</td>\n",
       "      <td>16.405001</td>\n",
       "    </tr>\n",
       "  </tbody>\n",
       "</table>\n",
       "</div>"
      ],
      "text/plain": [
       "                     RA        Dec  Separation  Relative_Flux     Kepmag\n",
       "ID                                                                      \n",
       "KIC 11904151  285.67938  50.241299    0.000000       1.000000  10.961000\n",
       "KIC 11904160  285.68076  50.242493    5.345214       0.006644  16.405001"
      ]
     },
     "execution_count": 4,
     "metadata": {},
     "output_type": "execute_result"
    }
   ],
   "source": [
    "c = SkyCoord.from_name('Kepler-10')\n",
    "query_KIC(c)"
   ]
  },
  {
   "cell_type": "markdown",
   "id": "434ed1c5-979f-4c39-b866-a2c4b961d429",
   "metadata": {},
   "source": [
    "By default, the catalog will query with an epoch of that is the default for the catalog. You can set the `epoch` keyword to a date in order to get `RA` and `Dec` at that date, given the proper motion."
   ]
  },
  {
   "cell_type": "code",
   "execution_count": 5,
   "id": "e3499cc9-33b4-4d21-b734-ed6398539442",
   "metadata": {},
   "outputs": [
    {
     "data": {
      "text/html": [
       "<div>\n",
       "<style scoped>\n",
       "    .dataframe tbody tr th:only-of-type {\n",
       "        vertical-align: middle;\n",
       "    }\n",
       "\n",
       "    .dataframe tbody tr th {\n",
       "        vertical-align: top;\n",
       "    }\n",
       "\n",
       "    .dataframe thead th {\n",
       "        text-align: right;\n",
       "    }\n",
       "</style>\n",
       "<table border=\"1\" class=\"dataframe\">\n",
       "  <thead>\n",
       "    <tr style=\"text-align: right;\">\n",
       "      <th></th>\n",
       "      <th>RA</th>\n",
       "      <th>Dec</th>\n",
       "      <th>Separation</th>\n",
       "      <th>Relative_Flux</th>\n",
       "      <th>Kepmag</th>\n",
       "    </tr>\n",
       "    <tr>\n",
       "      <th>ID</th>\n",
       "      <th></th>\n",
       "      <th></th>\n",
       "      <th></th>\n",
       "      <th></th>\n",
       "      <th></th>\n",
       "    </tr>\n",
       "  </thead>\n",
       "  <tbody>\n",
       "    <tr>\n",
       "      <th>KIC 11904151</th>\n",
       "      <td>285.67938</td>\n",
       "      <td>50.241299</td>\n",
       "      <td>0.000000</td>\n",
       "      <td>1.000000</td>\n",
       "      <td>10.961000</td>\n",
       "    </tr>\n",
       "    <tr>\n",
       "      <th>KIC 11904160</th>\n",
       "      <td>285.68076</td>\n",
       "      <td>50.242493</td>\n",
       "      <td>5.345214</td>\n",
       "      <td>0.006644</td>\n",
       "      <td>16.405001</td>\n",
       "    </tr>\n",
       "  </tbody>\n",
       "</table>\n",
       "</div>"
      ],
      "text/plain": [
       "                     RA        Dec  Separation  Relative_Flux     Kepmag\n",
       "ID                                                                      \n",
       "KIC 11904151  285.67938  50.241299    0.000000       1.000000  10.961000\n",
       "KIC 11904160  285.68076  50.242493    5.345214       0.006644  16.405001"
      ]
     },
     "execution_count": 5,
     "metadata": {},
     "output_type": "execute_result"
    }
   ],
   "source": [
    "c = SkyCoord.from_name('Kepler-10')\n",
    "query_KIC(c, epoch=Time.now())"
   ]
  },
  {
   "cell_type": "markdown",
   "id": "0570848e-1281-4dcc-bc97-aabdef0584a5",
   "metadata": {},
   "source": [
    "You can also pass a radius for your query. If you query each catalog directly you can set your query radius in units of pixels, otherwise you can use arcseconds."
   ]
  },
  {
   "cell_type": "code",
   "execution_count": 6,
   "id": "37e4bc44-5a6c-4dbd-a4e0-31f0a8c98184",
   "metadata": {},
   "outputs": [
    {
     "data": {
      "text/html": [
       "<div>\n",
       "<style scoped>\n",
       "    .dataframe tbody tr th:only-of-type {\n",
       "        vertical-align: middle;\n",
       "    }\n",
       "\n",
       "    .dataframe tbody tr th {\n",
       "        vertical-align: top;\n",
       "    }\n",
       "\n",
       "    .dataframe thead th {\n",
       "        text-align: right;\n",
       "    }\n",
       "</style>\n",
       "<table border=\"1\" class=\"dataframe\">\n",
       "  <thead>\n",
       "    <tr style=\"text-align: right;\">\n",
       "      <th></th>\n",
       "      <th>RA</th>\n",
       "      <th>Dec</th>\n",
       "      <th>Separation</th>\n",
       "      <th>Relative_Flux</th>\n",
       "      <th>Kepmag</th>\n",
       "    </tr>\n",
       "    <tr>\n",
       "      <th>ID</th>\n",
       "      <th></th>\n",
       "      <th></th>\n",
       "      <th></th>\n",
       "      <th></th>\n",
       "      <th></th>\n",
       "    </tr>\n",
       "  </thead>\n",
       "  <tbody>\n",
       "    <tr>\n",
       "      <th>KIC 11904151</th>\n",
       "      <td>285.67938</td>\n",
       "      <td>50.241299</td>\n",
       "      <td>0.000000</td>\n",
       "      <td>1.000000</td>\n",
       "      <td>10.961000</td>\n",
       "    </tr>\n",
       "    <tr>\n",
       "      <th>KIC 11904160</th>\n",
       "      <td>285.68076</td>\n",
       "      <td>50.242493</td>\n",
       "      <td>5.345214</td>\n",
       "      <td>0.006644</td>\n",
       "      <td>16.405001</td>\n",
       "    </tr>\n",
       "    <tr>\n",
       "      <th>KIC 11904165</th>\n",
       "      <td>285.68317</td>\n",
       "      <td>50.241207</td>\n",
       "      <td>8.732390</td>\n",
       "      <td>0.002660</td>\n",
       "      <td>17.399000</td>\n",
       "    </tr>\n",
       "    <tr>\n",
       "      <th>KIC 11904162</th>\n",
       "      <td>285.68124</td>\n",
       "      <td>50.243916</td>\n",
       "      <td>10.348793</td>\n",
       "      <td>0.001576</td>\n",
       "      <td>17.966999</td>\n",
       "    </tr>\n",
       "  </tbody>\n",
       "</table>\n",
       "</div>"
      ],
      "text/plain": [
       "                     RA        Dec  Separation  Relative_Flux     Kepmag\n",
       "ID                                                                      \n",
       "KIC 11904151  285.67938  50.241299    0.000000       1.000000  10.961000\n",
       "KIC 11904160  285.68076  50.242493    5.345214       0.006644  16.405001\n",
       "KIC 11904165  285.68317  50.241207    8.732390       0.002660  17.399000\n",
       "KIC 11904162  285.68124  50.243916   10.348793       0.001576  17.966999"
      ]
     },
     "execution_count": 6,
     "metadata": {},
     "output_type": "execute_result"
    }
   ],
   "source": [
    "c = SkyCoord.from_name('Kepler-10')\n",
    "query_KIC(c, epoch=Time.now(), radius=3*u.pixel)"
   ]
  },
  {
   "cell_type": "markdown",
   "id": "b1b89482-e501-4f55-b307-888074e1b7cd",
   "metadata": {},
   "source": [
    "You can query TIC"
   ]
  },
  {
   "cell_type": "code",
   "execution_count": 7,
   "id": "631f9a71-b0f2-4cb7-9ef3-565155c0fe16",
   "metadata": {},
   "outputs": [
    {
     "data": {
      "text/html": [
       "<div>\n",
       "<style scoped>\n",
       "    .dataframe tbody tr th:only-of-type {\n",
       "        vertical-align: middle;\n",
       "    }\n",
       "\n",
       "    .dataframe tbody tr th {\n",
       "        vertical-align: top;\n",
       "    }\n",
       "\n",
       "    .dataframe thead th {\n",
       "        text-align: right;\n",
       "    }\n",
       "</style>\n",
       "<table border=\"1\" class=\"dataframe\">\n",
       "  <thead>\n",
       "    <tr style=\"text-align: right;\">\n",
       "      <th></th>\n",
       "      <th>RA</th>\n",
       "      <th>Dec</th>\n",
       "      <th>Separation</th>\n",
       "      <th>Relative_Flux</th>\n",
       "      <th>TESSmag</th>\n",
       "    </tr>\n",
       "    <tr>\n",
       "      <th>ID</th>\n",
       "      <th></th>\n",
       "      <th></th>\n",
       "      <th></th>\n",
       "      <th></th>\n",
       "      <th></th>\n",
       "    </tr>\n",
       "  </thead>\n",
       "  <tbody>\n",
       "    <tr>\n",
       "      <th>TIC 261139071</th>\n",
       "      <td>84.257651</td>\n",
       "      <td>-80.466560</td>\n",
       "      <td>0.000000</td>\n",
       "      <td>1.000000</td>\n",
       "      <td>13.995</td>\n",
       "    </tr>\n",
       "    <tr>\n",
       "      <th>TIC 261136679</th>\n",
       "      <td>84.304008</td>\n",
       "      <td>-80.461959</td>\n",
       "      <td>32.228005</td>\n",
       "      <td>3597.491211</td>\n",
       "      <td>5.105</td>\n",
       "    </tr>\n",
       "  </tbody>\n",
       "</table>\n",
       "</div>"
      ],
      "text/plain": [
       "                      RA        Dec  Separation  Relative_Flux  TESSmag\n",
       "ID                                                                     \n",
       "TIC 261139071  84.257651 -80.466560    0.000000       1.000000   13.995\n",
       "TIC 261136679  84.304008 -80.461959   32.228005    3597.491211    5.105"
      ]
     },
     "execution_count": 7,
     "metadata": {},
     "output_type": "execute_result"
    }
   ],
   "source": [
    "c = SkyCoord.from_name('Pi Men c')\n",
    "query_TIC(c, epoch=Time.now(), radius=2*u.pixel)"
   ]
  },
  {
   "cell_type": "markdown",
   "id": "a8e4e95b-5c0f-43bd-84b1-7c427fe482c1",
   "metadata": {},
   "source": [
    "EPIC"
   ]
  },
  {
   "cell_type": "code",
   "execution_count": 8,
   "id": "e21a83c5-2975-4fde-a1a0-6d5fb031e95d",
   "metadata": {},
   "outputs": [
    {
     "data": {
      "text/html": [
       "<div>\n",
       "<style scoped>\n",
       "    .dataframe tbody tr th:only-of-type {\n",
       "        vertical-align: middle;\n",
       "    }\n",
       "\n",
       "    .dataframe tbody tr th {\n",
       "        vertical-align: top;\n",
       "    }\n",
       "\n",
       "    .dataframe thead th {\n",
       "        text-align: right;\n",
       "    }\n",
       "</style>\n",
       "<table border=\"1\" class=\"dataframe\">\n",
       "  <thead>\n",
       "    <tr style=\"text-align: right;\">\n",
       "      <th></th>\n",
       "      <th>RA</th>\n",
       "      <th>Dec</th>\n",
       "      <th>Separation</th>\n",
       "      <th>Relative_Flux</th>\n",
       "      <th>K2mag</th>\n",
       "    </tr>\n",
       "    <tr>\n",
       "      <th>ID</th>\n",
       "      <th></th>\n",
       "      <th></th>\n",
       "      <th></th>\n",
       "      <th></th>\n",
       "      <th></th>\n",
       "    </tr>\n",
       "  </thead>\n",
       "  <tbody>\n",
       "    <tr>\n",
       "      <th>EPIC 201912552</th>\n",
       "      <td>172.56046</td>\n",
       "      <td>7.588391</td>\n",
       "      <td>0.0</td>\n",
       "      <td>1.0</td>\n",
       "      <td>12.473</td>\n",
       "    </tr>\n",
       "  </tbody>\n",
       "</table>\n",
       "</div>"
      ],
      "text/plain": [
       "                       RA       Dec  Separation  Relative_Flux   K2mag\n",
       "ID                                                                    \n",
       "EPIC 201912552  172.56046  7.588391         0.0            1.0  12.473"
      ]
     },
     "execution_count": 8,
     "metadata": {},
     "output_type": "execute_result"
    }
   ],
   "source": [
    "c = SkyCoord.from_name('K2-18')\n",
    "query_EPIC(c)"
   ]
  },
  {
   "cell_type": "markdown",
   "id": "62473b20-a001-491a-9a2a-0502540cff42",
   "metadata": {},
   "source": [
    "And Gaia in the same ways"
   ]
  },
  {
   "cell_type": "code",
   "execution_count": 18,
   "id": "2f18882e-a193-4629-9681-b36ea02af6d0",
   "metadata": {},
   "outputs": [
    {
     "data": {
      "text/html": [
       "<div>\n",
       "<style scoped>\n",
       "    .dataframe tbody tr th:only-of-type {\n",
       "        vertical-align: middle;\n",
       "    }\n",
       "\n",
       "    .dataframe tbody tr th {\n",
       "        vertical-align: top;\n",
       "    }\n",
       "\n",
       "    .dataframe thead th {\n",
       "        text-align: right;\n",
       "    }\n",
       "</style>\n",
       "<table border=\"1\" class=\"dataframe\">\n",
       "  <thead>\n",
       "    <tr style=\"text-align: right;\">\n",
       "      <th></th>\n",
       "      <th>RA</th>\n",
       "      <th>Dec</th>\n",
       "      <th>Separation</th>\n",
       "      <th>Relative_Flux</th>\n",
       "      <th>Gmag</th>\n",
       "      <th>BPmag</th>\n",
       "      <th>RPmag</th>\n",
       "    </tr>\n",
       "    <tr>\n",
       "      <th>ID</th>\n",
       "      <th></th>\n",
       "      <th></th>\n",
       "      <th></th>\n",
       "      <th></th>\n",
       "      <th></th>\n",
       "      <th></th>\n",
       "      <th></th>\n",
       "    </tr>\n",
       "  </thead>\n",
       "  <tbody>\n",
       "    <tr>\n",
       "      <th>Gaia DR3 2132155017099178624</th>\n",
       "      <td>285.679354</td>\n",
       "      <td>50.241405</td>\n",
       "      <td>0.000000</td>\n",
       "      <td>1.000000</td>\n",
       "      <td>10.920031</td>\n",
       "      <td>11.253505</td>\n",
       "      <td>10.418263</td>\n",
       "    </tr>\n",
       "    <tr>\n",
       "      <th>Gaia DR3 2132155051458917632</th>\n",
       "      <td>285.680214</td>\n",
       "      <td>50.249942</td>\n",
       "      <td>30.797921</td>\n",
       "      <td>0.001691</td>\n",
       "      <td>17.849485</td>\n",
       "      <td>18.209782</td>\n",
       "      <td>17.317846</td>\n",
       "    </tr>\n",
       "    <tr>\n",
       "      <th>Gaia DR3 2132155051458918144</th>\n",
       "      <td>285.685922</td>\n",
       "      <td>50.249918</td>\n",
       "      <td>34.176508</td>\n",
       "      <td>0.005578</td>\n",
       "      <td>16.553818</td>\n",
       "      <td>17.213984</td>\n",
       "      <td>15.778805</td>\n",
       "    </tr>\n",
       "  </tbody>\n",
       "</table>\n",
       "</div>"
      ],
      "text/plain": [
       "                                      RA        Dec  Separation  \\\n",
       "ID                                                                \n",
       "Gaia DR3 2132155017099178624  285.679354  50.241405    0.000000   \n",
       "Gaia DR3 2132155051458917632  285.680214  50.249942   30.797921   \n",
       "Gaia DR3 2132155051458918144  285.685922  50.249918   34.176508   \n",
       "\n",
       "                              Relative_Flux       Gmag      BPmag      RPmag  \n",
       "ID                                                                            \n",
       "Gaia DR3 2132155017099178624       1.000000  10.920031  11.253505  10.418263  \n",
       "Gaia DR3 2132155051458917632       0.001691  17.849485  18.209782  17.317846  \n",
       "Gaia DR3 2132155051458918144       0.005578  16.553818  17.213984  15.778805  "
      ]
     },
     "execution_count": 18,
     "metadata": {},
     "output_type": "execute_result"
    }
   ],
   "source": [
    "c = SkyCoord.from_name('Kepler-10')\n",
    "query_gaia(c, epoch=Time.now(), radius=40*u.arcsecond)"
   ]
  },
  {
   "cell_type": "markdown",
   "id": "d20de587-7719-4b39-bc80-ab07a9800c8e",
   "metadata": {},
   "source": [
    "Optionally, you can return the output of the search as an `astropy.coordinates.SkyCoord` object"
   ]
  },
  {
   "cell_type": "code",
   "execution_count": 29,
   "id": "fb7fc90b-87ad-47a7-841f-402b2ff46867",
   "metadata": {},
   "outputs": [
    {
     "data": {
      "text/plain": [
       "<SkyCoord (ICRS): (ra, dec, distance) in (deg, deg, pc)\n",
       "    [(285.67935361, 50.24140459,  186.22667509),\n",
       "     (285.68021359, 50.24994187, 7132.66761763),\n",
       "     (285.68592163, 50.24991835, 1124.73287589)]\n",
       " (pm_ra_cosdec, pm_dec, radial_velocity) in (mas / yr, mas / yr, km / s)\n",
       "    [(-18.48303822, 41.38198293, 7.53946778e-05),\n",
       "     ( -1.51899991, -1.20300012, 5.27826594e-06),\n",
       "     (  9.40200273,  5.81399558, 2.70894621e-05)]>"
      ]
     },
     "execution_count": 29,
     "metadata": {},
     "output_type": "execute_result"
    }
   ],
   "source": [
    "c = SkyCoord.from_name('Kepler-10')\n",
    "query_gaia(c, epoch=Time.now(), radius=40*u.arcsecond, return_skycoord=True)"
   ]
  }
 ],
 "metadata": {
  "kernelspec": {
   "display_name": "Python 3 (ipykernel)",
   "language": "python",
   "name": "python3"
  },
  "language_info": {
   "codemirror_mode": {
    "name": "ipython",
    "version": 3
   },
   "file_extension": ".py",
   "mimetype": "text/x-python",
   "name": "python",
   "nbconvert_exporter": "python",
   "pygments_lexer": "ipython3",
   "version": "3.9.13"
  }
 },
 "nbformat": 4,
 "nbformat_minor": 5
}
