{
 "cells": [
  {
   "cell_type": "markdown",
   "id": "8362de11",
   "metadata": {},
   "source": [
    "# Catalog Searches Tutorial"
   ]
  },
  {
   "cell_type": "markdown",
   "id": "7139b45e-0981-48ce-a7c8-f57c27eacddb",
   "metadata": {},
   "source": [
    "`lksearch` enables you to search through the catalogs associated with each mission, and Gaia. You can query:\n",
    "\n",
    "- The Kepler Input Catalog\n",
    "- The Ecliptic Plane Input Catalog\n",
    "- The TESS Input Catalog\n",
    "- Gaia EDR3.\n",
    "\n",
    "`lksearch` will propagate the proper motion for you. Below are examples of each query."
   ]
  },
  {
   "cell_type": "code",
   "execution_count": 1,
   "id": "9f07ac77",
   "metadata": {},
   "outputs": [],
   "source": [
    "from lksearch.catalog import query_EPIC, query_KIC, query_TIC, query_gaia\n",
    "from astropy.coordinates import SkyCoord\n",
    "from astropy.time import Time\n",
    "import astropy.units as u"
   ]
  },
  {
   "cell_type": "markdown",
   "id": "889a4743-c6ee-4cea-98ad-012aeaec9975",
   "metadata": {},
   "source": [
    "Before we search we need a sky position to search. `lksearch` catalog queries use `astropy`'s `SkyCoord` as an input. We can either make one ourselves with an RA and Dec, or we can use the built in `from_name` method."
   ]
  },
  {
   "cell_type": "code",
   "execution_count": 13,
   "id": "f98f6097-1f3e-433b-8337-617978b86b9b",
   "metadata": {},
   "outputs": [],
   "source": [
    "c = SkyCoord.from_name(\"Kepler-10\")"
   ]
  },
  {
   "cell_type": "markdown",
   "id": "6a752678-93a8-4848-9365-ff41e54ae094",
   "metadata": {},
   "source": [
    "Now we have a position we want to query, we can query each catalog. For example, here is the query for KIC"
   ]
  },
  {
   "cell_type": "code",
   "execution_count": 14,
   "id": "fd0abec3-8b85-4812-aafb-ca13a94d306c",
   "metadata": {},
   "outputs": [
    {
     "data": {
      "text/html": [
       "<div>\n",
       "<style scoped>\n",
       "    .dataframe tbody tr th:only-of-type {\n",
       "        vertical-align: middle;\n",
       "    }\n",
       "\n",
       "    .dataframe tbody tr th {\n",
       "        vertical-align: top;\n",
       "    }\n",
       "\n",
       "    .dataframe thead th {\n",
       "        text-align: right;\n",
       "    }\n",
       "</style>\n",
       "<table border=\"1\" class=\"dataframe\">\n",
       "  <thead>\n",
       "    <tr style=\"text-align: right;\">\n",
       "      <th></th>\n",
       "      <th>RA</th>\n",
       "      <th>Dec</th>\n",
       "      <th>Separation</th>\n",
       "      <th>Relative_Flux</th>\n",
       "      <th>Kepmag</th>\n",
       "      <th>Teff</th>\n",
       "      <th>logg</th>\n",
       "    </tr>\n",
       "    <tr>\n",
       "      <th>ID</th>\n",
       "      <th></th>\n",
       "      <th></th>\n",
       "      <th></th>\n",
       "      <th></th>\n",
       "      <th></th>\n",
       "      <th></th>\n",
       "      <th></th>\n",
       "    </tr>\n",
       "  </thead>\n",
       "  <tbody>\n",
       "    <tr>\n",
       "      <th>KIC 11904151</th>\n",
       "      <td>285.67938</td>\n",
       "      <td>50.241299</td>\n",
       "      <td>0.000000</td>\n",
       "      <td>1.000000</td>\n",
       "      <td>10.961000</td>\n",
       "      <td>5491</td>\n",
       "      <td>4.467</td>\n",
       "    </tr>\n",
       "    <tr>\n",
       "      <th>KIC 11904160</th>\n",
       "      <td>285.68076</td>\n",
       "      <td>50.242493</td>\n",
       "      <td>5.345214</td>\n",
       "      <td>0.006644</td>\n",
       "      <td>16.405001</td>\n",
       "      <td>&lt;NA&gt;</td>\n",
       "      <td>NaN</td>\n",
       "    </tr>\n",
       "  </tbody>\n",
       "</table>\n",
       "</div>"
      ],
      "text/plain": [
       "                     RA        Dec  Separation  Relative_Flux     Kepmag  \\\n",
       "ID                                                                         \n",
       "KIC 11904151  285.67938  50.241299    0.000000       1.000000  10.961000   \n",
       "KIC 11904160  285.68076  50.242493    5.345214       0.006644  16.405001   \n",
       "\n",
       "              Teff   logg  \n",
       "ID                         \n",
       "KIC 11904151  5491  4.467  \n",
       "KIC 11904160  <NA>    NaN  "
      ]
     },
     "execution_count": 14,
     "metadata": {},
     "output_type": "execute_result"
    }
   ],
   "source": [
    "query_KIC(c)"
   ]
  },
  {
   "cell_type": "markdown",
   "id": "434ed1c5-979f-4c39-b866-a2c4b961d429",
   "metadata": {},
   "source": [
    "By default, the catalog will query with an epoch of that is the default for the catalog. You can set the `epoch` keyword to a date in order to get `RA` and `Dec` at that date, given the proper motion."
   ]
  },
  {
   "cell_type": "code",
   "execution_count": 15,
   "id": "e3499cc9-33b4-4d21-b734-ed6398539442",
   "metadata": {},
   "outputs": [
    {
     "data": {
      "text/html": [
       "<div>\n",
       "<style scoped>\n",
       "    .dataframe tbody tr th:only-of-type {\n",
       "        vertical-align: middle;\n",
       "    }\n",
       "\n",
       "    .dataframe tbody tr th {\n",
       "        vertical-align: top;\n",
       "    }\n",
       "\n",
       "    .dataframe thead th {\n",
       "        text-align: right;\n",
       "    }\n",
       "</style>\n",
       "<table border=\"1\" class=\"dataframe\">\n",
       "  <thead>\n",
       "    <tr style=\"text-align: right;\">\n",
       "      <th></th>\n",
       "      <th>RA</th>\n",
       "      <th>Dec</th>\n",
       "      <th>Separation</th>\n",
       "      <th>Relative_Flux</th>\n",
       "      <th>Kepmag</th>\n",
       "      <th>Teff</th>\n",
       "      <th>logg</th>\n",
       "    </tr>\n",
       "    <tr>\n",
       "      <th>ID</th>\n",
       "      <th></th>\n",
       "      <th></th>\n",
       "      <th></th>\n",
       "      <th></th>\n",
       "      <th></th>\n",
       "      <th></th>\n",
       "      <th></th>\n",
       "    </tr>\n",
       "  </thead>\n",
       "  <tbody>\n",
       "    <tr>\n",
       "      <th>KIC 11904151</th>\n",
       "      <td>285.67938</td>\n",
       "      <td>50.241299</td>\n",
       "      <td>0.000000</td>\n",
       "      <td>1.000000</td>\n",
       "      <td>10.961000</td>\n",
       "      <td>5491</td>\n",
       "      <td>4.467</td>\n",
       "    </tr>\n",
       "    <tr>\n",
       "      <th>KIC 11904160</th>\n",
       "      <td>285.68076</td>\n",
       "      <td>50.242493</td>\n",
       "      <td>5.345214</td>\n",
       "      <td>0.006644</td>\n",
       "      <td>16.405001</td>\n",
       "      <td>&lt;NA&gt;</td>\n",
       "      <td>NaN</td>\n",
       "    </tr>\n",
       "  </tbody>\n",
       "</table>\n",
       "</div>"
      ],
      "text/plain": [
       "                     RA        Dec  Separation  Relative_Flux     Kepmag  \\\n",
       "ID                                                                         \n",
       "KIC 11904151  285.67938  50.241299    0.000000       1.000000  10.961000   \n",
       "KIC 11904160  285.68076  50.242493    5.345214       0.006644  16.405001   \n",
       "\n",
       "              Teff   logg  \n",
       "ID                         \n",
       "KIC 11904151  5491  4.467  \n",
       "KIC 11904160  <NA>    NaN  "
      ]
     },
     "execution_count": 15,
     "metadata": {},
     "output_type": "execute_result"
    }
   ],
   "source": [
    "query_KIC(c, epoch=Time.now())"
   ]
  },
  {
   "cell_type": "markdown",
   "id": "0570848e-1281-4dcc-bc97-aabdef0584a5",
   "metadata": {},
   "source": [
    "You can also pass a radius for your query. If you query each catalog directly you can set your query radius in units of pixels, otherwise you can use arcseconds."
   ]
  },
  {
   "cell_type": "code",
   "execution_count": 16,
   "id": "37e4bc44-5a6c-4dbd-a4e0-31f0a8c98184",
   "metadata": {},
   "outputs": [
    {
     "data": {
      "text/html": [
       "<div>\n",
       "<style scoped>\n",
       "    .dataframe tbody tr th:only-of-type {\n",
       "        vertical-align: middle;\n",
       "    }\n",
       "\n",
       "    .dataframe tbody tr th {\n",
       "        vertical-align: top;\n",
       "    }\n",
       "\n",
       "    .dataframe thead th {\n",
       "        text-align: right;\n",
       "    }\n",
       "</style>\n",
       "<table border=\"1\" class=\"dataframe\">\n",
       "  <thead>\n",
       "    <tr style=\"text-align: right;\">\n",
       "      <th></th>\n",
       "      <th>RA</th>\n",
       "      <th>Dec</th>\n",
       "      <th>Separation</th>\n",
       "      <th>Relative_Flux</th>\n",
       "      <th>Kepmag</th>\n",
       "      <th>Teff</th>\n",
       "      <th>logg</th>\n",
       "    </tr>\n",
       "    <tr>\n",
       "      <th>ID</th>\n",
       "      <th></th>\n",
       "      <th></th>\n",
       "      <th></th>\n",
       "      <th></th>\n",
       "      <th></th>\n",
       "      <th></th>\n",
       "      <th></th>\n",
       "    </tr>\n",
       "  </thead>\n",
       "  <tbody>\n",
       "    <tr>\n",
       "      <th>KIC 11904151</th>\n",
       "      <td>285.67938</td>\n",
       "      <td>50.241299</td>\n",
       "      <td>0.000000</td>\n",
       "      <td>1.000000</td>\n",
       "      <td>10.961000</td>\n",
       "      <td>5491</td>\n",
       "      <td>4.467</td>\n",
       "    </tr>\n",
       "    <tr>\n",
       "      <th>KIC 11904160</th>\n",
       "      <td>285.68076</td>\n",
       "      <td>50.242493</td>\n",
       "      <td>5.345214</td>\n",
       "      <td>0.006644</td>\n",
       "      <td>16.405001</td>\n",
       "      <td>&lt;NA&gt;</td>\n",
       "      <td>NaN</td>\n",
       "    </tr>\n",
       "    <tr>\n",
       "      <th>KIC 11904165</th>\n",
       "      <td>285.68317</td>\n",
       "      <td>50.241207</td>\n",
       "      <td>8.732390</td>\n",
       "      <td>0.002660</td>\n",
       "      <td>17.399000</td>\n",
       "      <td>&lt;NA&gt;</td>\n",
       "      <td>NaN</td>\n",
       "    </tr>\n",
       "    <tr>\n",
       "      <th>KIC 11904162</th>\n",
       "      <td>285.68124</td>\n",
       "      <td>50.243916</td>\n",
       "      <td>10.348793</td>\n",
       "      <td>0.001576</td>\n",
       "      <td>17.966999</td>\n",
       "      <td>&lt;NA&gt;</td>\n",
       "      <td>NaN</td>\n",
       "    </tr>\n",
       "  </tbody>\n",
       "</table>\n",
       "</div>"
      ],
      "text/plain": [
       "                     RA        Dec  Separation  Relative_Flux     Kepmag  \\\n",
       "ID                                                                         \n",
       "KIC 11904151  285.67938  50.241299    0.000000       1.000000  10.961000   \n",
       "KIC 11904160  285.68076  50.242493    5.345214       0.006644  16.405001   \n",
       "KIC 11904165  285.68317  50.241207    8.732390       0.002660  17.399000   \n",
       "KIC 11904162  285.68124  50.243916   10.348793       0.001576  17.966999   \n",
       "\n",
       "              Teff   logg  \n",
       "ID                         \n",
       "KIC 11904151  5491  4.467  \n",
       "KIC 11904160  <NA>    NaN  \n",
       "KIC 11904165  <NA>    NaN  \n",
       "KIC 11904162  <NA>    NaN  "
      ]
     },
     "execution_count": 16,
     "metadata": {},
     "output_type": "execute_result"
    }
   ],
   "source": [
    "query_KIC(c, epoch=Time.now(), radius=3 * u.pixel)"
   ]
  },
  {
   "cell_type": "markdown",
   "id": "b1b89482-e501-4f55-b307-888074e1b7cd",
   "metadata": {},
   "source": [
    "You can query TIC"
   ]
  },
  {
   "cell_type": "code",
   "execution_count": 17,
   "id": "631f9a71-b0f2-4cb7-9ef3-565155c0fe16",
   "metadata": {},
   "outputs": [
    {
     "data": {
      "text/html": [
       "<div>\n",
       "<style scoped>\n",
       "    .dataframe tbody tr th:only-of-type {\n",
       "        vertical-align: middle;\n",
       "    }\n",
       "\n",
       "    .dataframe tbody tr th {\n",
       "        vertical-align: top;\n",
       "    }\n",
       "\n",
       "    .dataframe thead th {\n",
       "        text-align: right;\n",
       "    }\n",
       "</style>\n",
       "<table border=\"1\" class=\"dataframe\">\n",
       "  <thead>\n",
       "    <tr style=\"text-align: right;\">\n",
       "      <th></th>\n",
       "      <th>RA</th>\n",
       "      <th>Dec</th>\n",
       "      <th>Separation</th>\n",
       "      <th>Relative_Flux</th>\n",
       "      <th>TESSmag</th>\n",
       "      <th>Mass</th>\n",
       "      <th>Rad</th>\n",
       "      <th>Teff</th>\n",
       "      <th>logg</th>\n",
       "    </tr>\n",
       "    <tr>\n",
       "      <th>ID</th>\n",
       "      <th></th>\n",
       "      <th></th>\n",
       "      <th></th>\n",
       "      <th></th>\n",
       "      <th></th>\n",
       "      <th></th>\n",
       "      <th></th>\n",
       "      <th></th>\n",
       "      <th></th>\n",
       "    </tr>\n",
       "  </thead>\n",
       "  <tbody>\n",
       "    <tr>\n",
       "      <th>TIC 1717218060</th>\n",
       "      <td>NaN</td>\n",
       "      <td>NaN</td>\n",
       "      <td>NaN</td>\n",
       "      <td>1.000000</td>\n",
       "      <td>17.403000</td>\n",
       "      <td>1.030</td>\n",
       "      <td>1.055</td>\n",
       "      <td>5771.0</td>\n",
       "      <td>4.4043</td>\n",
       "    </tr>\n",
       "    <tr>\n",
       "      <th>TIC 377780790</th>\n",
       "      <td>285.679225</td>\n",
       "      <td>50.241589</td>\n",
       "      <td>NaN</td>\n",
       "      <td>589.385986</td>\n",
       "      <td>10.477000</td>\n",
       "      <td>1.017</td>\n",
       "      <td>1.090</td>\n",
       "      <td>5706.0</td>\n",
       "      <td>4.3707</td>\n",
       "    </tr>\n",
       "    <tr>\n",
       "      <th>TIC 377780779</th>\n",
       "      <td>285.685984</td>\n",
       "      <td>50.249944</td>\n",
       "      <td>NaN</td>\n",
       "      <td>4.157191</td>\n",
       "      <td>15.856000</td>\n",
       "      <td>0.700</td>\n",
       "      <td>0.805</td>\n",
       "      <td>4467.0</td>\n",
       "      <td>4.4721</td>\n",
       "    </tr>\n",
       "    <tr>\n",
       "      <th>TIC 1717218059</th>\n",
       "      <td>NaN</td>\n",
       "      <td>NaN</td>\n",
       "      <td>NaN</td>\n",
       "      <td>0.643872</td>\n",
       "      <td>17.881001</td>\n",
       "      <td>1.070</td>\n",
       "      <td>0.810</td>\n",
       "      <td>5895.0</td>\n",
       "      <td>4.6506</td>\n",
       "    </tr>\n",
       "  </tbody>\n",
       "</table>\n",
       "</div>"
      ],
      "text/plain": [
       "                        RA        Dec  Separation  Relative_Flux    TESSmag  \\\n",
       "ID                                                                            \n",
       "TIC 1717218060         NaN        NaN         NaN       1.000000  17.403000   \n",
       "TIC 377780790   285.679225  50.241589         NaN     589.385986  10.477000   \n",
       "TIC 377780779   285.685984  50.249944         NaN       4.157191  15.856000   \n",
       "TIC 1717218059         NaN        NaN         NaN       0.643872  17.881001   \n",
       "\n",
       "                 Mass    Rad    Teff    logg  \n",
       "ID                                            \n",
       "TIC 1717218060  1.030  1.055  5771.0  4.4043  \n",
       "TIC 377780790   1.017  1.090  5706.0  4.3707  \n",
       "TIC 377780779   0.700  0.805  4467.0  4.4721  \n",
       "TIC 1717218059  1.070  0.810  5895.0  4.6506  "
      ]
     },
     "execution_count": 17,
     "metadata": {},
     "output_type": "execute_result"
    }
   ],
   "source": [
    "query_TIC(c, epoch=Time.now(), radius=2 * u.pixel)"
   ]
  },
  {
   "cell_type": "markdown",
   "id": "a8e4e95b-5c0f-43bd-84b1-7c427fe482c1",
   "metadata": {},
   "source": [
    "EPIC (Note Kepler-10 isn't inside EPIC, because it's outside the ecliptic plane!)"
   ]
  },
  {
   "cell_type": "code",
   "execution_count": 21,
   "id": "e21a83c5-2975-4fde-a1a0-6d5fb031e95d",
   "metadata": {},
   "outputs": [
    {
     "data": {
      "text/html": [
       "<div>\n",
       "<style scoped>\n",
       "    .dataframe tbody tr th:only-of-type {\n",
       "        vertical-align: middle;\n",
       "    }\n",
       "\n",
       "    .dataframe tbody tr th {\n",
       "        vertical-align: top;\n",
       "    }\n",
       "\n",
       "    .dataframe thead th {\n",
       "        text-align: right;\n",
       "    }\n",
       "</style>\n",
       "<table border=\"1\" class=\"dataframe\">\n",
       "  <thead>\n",
       "    <tr style=\"text-align: right;\">\n",
       "      <th></th>\n",
       "      <th>RA</th>\n",
       "      <th>Dec</th>\n",
       "      <th>Separation</th>\n",
       "      <th>Relative_Flux</th>\n",
       "      <th>K2mag</th>\n",
       "      <th>Mass</th>\n",
       "      <th>Rad</th>\n",
       "      <th>Teff</th>\n",
       "      <th>logg</th>\n",
       "    </tr>\n",
       "    <tr>\n",
       "      <th>ID</th>\n",
       "      <th></th>\n",
       "      <th></th>\n",
       "      <th></th>\n",
       "      <th></th>\n",
       "      <th></th>\n",
       "      <th></th>\n",
       "      <th></th>\n",
       "      <th></th>\n",
       "      <th></th>\n",
       "    </tr>\n",
       "  </thead>\n",
       "  <tbody>\n",
       "  </tbody>\n",
       "</table>\n",
       "</div>"
      ],
      "text/plain": [
       "Empty DataFrame\n",
       "Columns: [RA, Dec, Separation, Relative_Flux, K2mag, Mass, Rad, Teff, logg]\n",
       "Index: []"
      ]
     },
     "execution_count": 21,
     "metadata": {},
     "output_type": "execute_result"
    }
   ],
   "source": [
    "query_EPIC(c)"
   ]
  },
  {
   "cell_type": "markdown",
   "id": "62473b20-a001-491a-9a2a-0502540cff42",
   "metadata": {},
   "source": [
    "And Gaia in the same ways"
   ]
  },
  {
   "cell_type": "code",
   "execution_count": 22,
   "id": "2f18882e-a193-4629-9681-b36ea02af6d0",
   "metadata": {},
   "outputs": [
    {
     "data": {
      "text/html": [
       "<div>\n",
       "<style scoped>\n",
       "    .dataframe tbody tr th:only-of-type {\n",
       "        vertical-align: middle;\n",
       "    }\n",
       "\n",
       "    .dataframe tbody tr th {\n",
       "        vertical-align: top;\n",
       "    }\n",
       "\n",
       "    .dataframe thead th {\n",
       "        text-align: right;\n",
       "    }\n",
       "</style>\n",
       "<table border=\"1\" class=\"dataframe\">\n",
       "  <thead>\n",
       "    <tr style=\"text-align: right;\">\n",
       "      <th></th>\n",
       "      <th>RA</th>\n",
       "      <th>Dec</th>\n",
       "      <th>Separation</th>\n",
       "      <th>Relative_Flux</th>\n",
       "      <th>BPmag</th>\n",
       "      <th>Gmag</th>\n",
       "      <th>RPmag</th>\n",
       "      <th>Teff</th>\n",
       "      <th>logg</th>\n",
       "    </tr>\n",
       "    <tr>\n",
       "      <th>ID</th>\n",
       "      <th></th>\n",
       "      <th></th>\n",
       "      <th></th>\n",
       "      <th></th>\n",
       "      <th></th>\n",
       "      <th></th>\n",
       "      <th></th>\n",
       "      <th></th>\n",
       "      <th></th>\n",
       "    </tr>\n",
       "  </thead>\n",
       "  <tbody>\n",
       "    <tr>\n",
       "      <th>Gaia DR3 2132155017099178624</th>\n",
       "      <td>285.679353</td>\n",
       "      <td>50.241405</td>\n",
       "      <td>0.000000</td>\n",
       "      <td>1.000000</td>\n",
       "      <td>11.253505</td>\n",
       "      <td>10.920031</td>\n",
       "      <td>10.418263</td>\n",
       "      <td>5595.8</td>\n",
       "      <td>4.3544</td>\n",
       "    </tr>\n",
       "    <tr>\n",
       "      <th>Gaia DR3 2132155051458917632</th>\n",
       "      <td>285.680214</td>\n",
       "      <td>50.249942</td>\n",
       "      <td>30.797131</td>\n",
       "      <td>0.001691</td>\n",
       "      <td>18.209782</td>\n",
       "      <td>17.849485</td>\n",
       "      <td>17.317846</td>\n",
       "      <td>5424.7</td>\n",
       "      <td>4.6774</td>\n",
       "    </tr>\n",
       "    <tr>\n",
       "      <th>Gaia DR3 2132155051458918144</th>\n",
       "      <td>285.685922</td>\n",
       "      <td>50.249918</td>\n",
       "      <td>34.176135</td>\n",
       "      <td>0.005578</td>\n",
       "      <td>17.213984</td>\n",
       "      <td>16.553818</td>\n",
       "      <td>15.778805</td>\n",
       "      <td>NaN</td>\n",
       "      <td>NaN</td>\n",
       "    </tr>\n",
       "  </tbody>\n",
       "</table>\n",
       "</div>"
      ],
      "text/plain": [
       "                                      RA        Dec  Separation  \\\n",
       "ID                                                                \n",
       "Gaia DR3 2132155017099178624  285.679353  50.241405    0.000000   \n",
       "Gaia DR3 2132155051458917632  285.680214  50.249942   30.797131   \n",
       "Gaia DR3 2132155051458918144  285.685922  50.249918   34.176135   \n",
       "\n",
       "                              Relative_Flux      BPmag       Gmag      RPmag  \\\n",
       "ID                                                                             \n",
       "Gaia DR3 2132155017099178624       1.000000  11.253505  10.920031  10.418263   \n",
       "Gaia DR3 2132155051458917632       0.001691  18.209782  17.849485  17.317846   \n",
       "Gaia DR3 2132155051458918144       0.005578  17.213984  16.553818  15.778805   \n",
       "\n",
       "                                Teff    logg  \n",
       "ID                                            \n",
       "Gaia DR3 2132155017099178624  5595.8  4.3544  \n",
       "Gaia DR3 2132155051458917632  5424.7  4.6774  \n",
       "Gaia DR3 2132155051458918144     NaN     NaN  "
      ]
     },
     "execution_count": 22,
     "metadata": {},
     "output_type": "execute_result"
    }
   ],
   "source": [
    "query_gaia(c, epoch=Time.now(), radius=40 * u.arcsecond)"
   ]
  },
  {
   "cell_type": "markdown",
   "id": "d20de587-7719-4b39-bc80-ab07a9800c8e",
   "metadata": {},
   "source": [
    "Optionally, you can return the output of the search as an `astropy.coordinates.SkyCoord` object"
   ]
  },
  {
   "cell_type": "code",
   "execution_count": 23,
   "id": "fb7fc90b-87ad-47a7-841f-402b2ff46867",
   "metadata": {},
   "outputs": [
    {
     "data": {
      "text/plain": [
       "<SkyCoord (ICRS): (ra, dec, distance) in (deg, deg, pc)\n",
       "    [(285.67935346, 50.24140481,  186.22667509),\n",
       "     (285.68021358, 50.24994186, 7132.66761763),\n",
       "     (285.68592171, 50.24991838, 1124.73287589)]\n",
       " (pm_ra_cosdec, pm_dec, radial_velocity) in (mas / yr, mas / yr, km / s)\n",
       "    [(-18.48303831, 41.38198289, 7.55624219e-05),\n",
       "     ( -1.51899991, -1.20300012, 5.29000945e-06),\n",
       "     (  9.40200274,  5.81399557, 2.71497329e-05)]>"
      ]
     },
     "execution_count": 23,
     "metadata": {},
     "output_type": "execute_result"
    }
   ],
   "source": [
    "query_gaia(c, epoch=Time.now(), radius=40 * u.arcsecond, return_skycoord=True)"
   ]
  }
 ],
 "metadata": {
  "kernelspec": {
   "display_name": "Python 3 (ipykernel)",
   "language": "python",
   "name": "python3"
  },
  "language_info": {
   "codemirror_mode": {
    "name": "ipython",
    "version": 3
   },
   "file_extension": ".py",
   "mimetype": "text/x-python",
   "name": "python",
   "nbconvert_exporter": "python",
   "pygments_lexer": "ipython3",
   "version": "3.9.13"
  }
 },
 "nbformat": 4,
 "nbformat_minor": 5
}
